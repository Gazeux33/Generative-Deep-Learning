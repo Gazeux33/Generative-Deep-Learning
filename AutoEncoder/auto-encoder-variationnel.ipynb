{
 "cells": [
  {
   "cell_type": "code",
   "execution_count": null,
   "id": "initial_id",
   "metadata": {
    "collapsed": true
   },
   "outputs": [],
   "source": [
    "import tensorflow as tf\n",
    "from tensorflow.keras import datasets\n",
    "import numpy as np\n",
    "import matplotlib.pyplot as plt"
   ]
  },
  {
   "cell_type": "code",
   "outputs": [],
   "source": [
    "(x_train,y_train),(x_test,y_test) = datasets.fashion_mnist.load_data()"
   ],
   "metadata": {
    "collapsed": false
   },
   "id": "bca7567867e2fa40",
   "execution_count": null
  },
  {
   "cell_type": "code",
   "outputs": [],
   "source": [
    "classes = [\"T-shirt/top\",\"trouser\",\"Pullover\",\"Dress\",\"Coat\",\"Sandal\",\"Shirt\",\"Sneaker\",\"Bag\",\"Ankle boot\"]"
   ],
   "metadata": {
    "collapsed": false
   },
   "id": "e199c1005d7e575f",
   "execution_count": null
  },
  {
   "cell_type": "code",
   "outputs": [],
   "source": [
    "print(f\"x_train:{x_train.shape} y_train{y_train.shape}\")\n",
    "print(f\"x_test:{x_test.shape} y_test{y_test.shape}\")"
   ],
   "metadata": {
    "collapsed": false
   },
   "id": "f77bc7fa31b18508",
   "execution_count": null
  },
  {
   "cell_type": "code",
   "outputs": [],
   "source": [
    "def process(imgs):\n",
    "    imgs = imgs.astype(\"float32\")/255\n",
    "    imgs = np.pad(imgs,((0,0),(2,2),(2,2)),constant_values=0.0)\n",
    "    imgs = np.expand_dims(imgs,-1)\n",
    "    return imgs"
   ],
   "metadata": {
    "collapsed": false
   },
   "id": "208275de21f0eae3",
   "execution_count": null
  },
  {
   "cell_type": "code",
   "outputs": [],
   "source": [
    "x_train = process(x_train)\n",
    "x_test = process(x_test)"
   ],
   "metadata": {
    "collapsed": false
   },
   "id": "bc03195d3cf10719",
   "execution_count": null
  },
  {
   "cell_type": "code",
   "outputs": [],
   "source": [
    "from tensorflow.keras import layers,models,metrics,losses\n",
    "import tensorflow.keras.backend as K"
   ],
   "metadata": {
    "collapsed": false
   },
   "id": "bd0b29216bffac6d",
   "execution_count": null
  },
  {
   "cell_type": "code",
   "outputs": [],
   "source": [
    "class Sampling(layers.Layer):\n",
    "    def call(self, inputs):\n",
    "        z_mean, z_log_var = inputs\n",
    "        batch = tf.shape(z_mean)[0]\n",
    "        dim = tf.shape(z_mean)[1]\n",
    "        epsilon = K.random_normal(shape=(batch, dim))\n",
    "        return z_mean + tf.exp(0.5 * z_log_var) * epsilon"
   ],
   "metadata": {
    "collapsed": false
   },
   "id": "5594c9a4f8bf031b",
   "execution_count": null
  },
  {
   "cell_type": "code",
   "outputs": [],
   "source": [
    "# Encoder\n",
    "encoder_input = layers.Input(\n",
    "    shape=(32, 32, 1), name=\"encoder_input\"\n",
    ")\n",
    "x = layers.Conv2D(32, (3, 3), strides=2, activation=\"relu\", padding=\"same\")(\n",
    "    encoder_input\n",
    ")\n",
    "x = layers.Conv2D(64, (3, 3), strides=2, activation=\"relu\", padding=\"same\")(x)\n",
    "x = layers.Conv2D(128, (3, 3), strides=2, activation=\"relu\", padding=\"same\")(x)\n",
    "shape_before_flattening = K.int_shape(x)[1:]  # the decoder will need this!\n",
    "\n",
    "x = layers.Flatten()(x)\n",
    "z_mean = layers.Dense(2, name=\"z_mean\")(x)\n",
    "z_log_var = layers.Dense(2, name=\"z_log_var\")(x)\n",
    "z = Sampling()([z_mean, z_log_var])\n",
    "\n",
    "encoder = models.Model(encoder_input, [z_mean, z_log_var, z], name=\"encoder\")\n",
    "encoder.summary()"
   ],
   "metadata": {
    "collapsed": false
   },
   "id": "16d7998155e53edd",
   "execution_count": null
  },
  {
   "cell_type": "code",
   "outputs": [],
   "source": [
    "# Decoder\n",
    "decoder_input = layers.Input(shape=(2,), name=\"decoder_input\")\n",
    "x = layers.Dense(np.prod(shape_before_flattening))(decoder_input)\n",
    "x = layers.Reshape(shape_before_flattening)(x)\n",
    "x = layers.Conv2DTranspose(\n",
    "    128, (3, 3), strides=2, activation=\"relu\", padding=\"same\"\n",
    ")(x)\n",
    "x = layers.Conv2DTranspose(\n",
    "    64, (3, 3), strides=2, activation=\"relu\", padding=\"same\"\n",
    ")(x)\n",
    "x = layers.Conv2DTranspose(\n",
    "    32, (3, 3), strides=2, activation=\"relu\", padding=\"same\"\n",
    ")(x)\n",
    "decoder_output = layers.Conv2D(\n",
    "    1,\n",
    "    (3, 3),\n",
    "    strides=1,\n",
    "    activation=\"sigmoid\",\n",
    "    padding=\"same\",\n",
    "    name=\"decoder_output\",\n",
    ")(x)\n",
    "\n",
    "decoder = models.Model(decoder_input, decoder_output)\n",
    "decoder.summary()"
   ],
   "metadata": {
    "collapsed": false
   },
   "id": "7364bba05842d0cb",
   "execution_count": null
  },
  {
   "cell_type": "code",
   "outputs": [],
   "source": [
    "BETA = 500\n",
    "\n",
    "class VAE(models.Model):\n",
    "    def __init__(self, encoder, decoder, **kwargs):\n",
    "        super(VAE, self).__init__(**kwargs)\n",
    "        self.encoder = encoder\n",
    "        self.decoder = decoder\n",
    "        self.total_loss_tracker = metrics.Mean(name=\"total_loss\")\n",
    "        self.reconstruction_loss_tracker = metrics.Mean(\n",
    "            name=\"reconstruction_loss\"\n",
    "        )\n",
    "        self.kl_loss_tracker = metrics.Mean(name=\"kl_loss\")\n",
    "\n",
    "    @property\n",
    "    def metrics(self):\n",
    "        return [\n",
    "            self.total_loss_tracker,\n",
    "            self.reconstruction_loss_tracker,\n",
    "            self.kl_loss_tracker,\n",
    "        ]\n",
    "\n",
    "    def call(self, inputs):\n",
    "        \"\"\"Call the model on a particular input.\"\"\"\n",
    "        z_mean, z_log_var, z = encoder(inputs)\n",
    "        reconstruction = decoder(z)\n",
    "        return z_mean, z_log_var, reconstruction\n",
    "\n",
    "    def train_step(self, data):\n",
    "        \"\"\"Step run during training.\"\"\"\n",
    "        with tf.GradientTape() as tape:\n",
    "            z_mean, z_log_var, reconstruction = self(data)\n",
    "            reconstruction_loss = tf.reduce_mean(\n",
    "                BETA\n",
    "                * losses.binary_crossentropy(\n",
    "                    data, reconstruction, axis=(1, 2, 3)\n",
    "                )\n",
    "            )\n",
    "            kl_loss = tf.reduce_mean(\n",
    "                tf.reduce_sum(\n",
    "                    -0.5\n",
    "                    * (1 + z_log_var - tf.square(z_mean) - tf.exp(z_log_var)),\n",
    "                    axis=1,\n",
    "                )\n",
    "            )\n",
    "            total_loss = reconstruction_loss + kl_loss\n",
    "\n",
    "        grads = tape.gradient(total_loss, self.trainable_weights)\n",
    "        self.optimizer.apply_gradients(zip(grads, self.trainable_weights))\n",
    "\n",
    "        self.total_loss_tracker.update_state(total_loss)\n",
    "        self.reconstruction_loss_tracker.update_state(reconstruction_loss)\n",
    "        self.kl_loss_tracker.update_state(kl_loss)\n",
    "\n",
    "        return {m.name: m.result() for m in self.metrics}"
   ],
   "metadata": {
    "collapsed": false
   },
   "id": "bc9ca4b87e2a0ae4",
   "execution_count": null
  },
  {
   "cell_type": "code",
   "outputs": [],
   "source": [
    "vae = VAE(encoder,decoder)"
   ],
   "metadata": {
    "collapsed": false
   },
   "id": "cfdb1ad1659f283",
   "execution_count": null
  },
  {
   "cell_type": "code",
   "outputs": [],
   "source": [
    "vae.compile(optimizer=\"adam\")"
   ],
   "metadata": {
    "collapsed": false
   },
   "id": "df29758c2fdf0334",
   "execution_count": null
  },
  {
   "cell_type": "code",
   "outputs": [],
   "source": [
    "hist = vae.fit(x_train,epochs=5,batch_size=128,shuffle=True,validation_data=(x_test, x_test))"
   ],
   "metadata": {
    "collapsed": false
   },
   "id": "be5bdca1f403b718",
   "execution_count": null
  },
  {
   "cell_type": "code",
   "outputs": [],
   "source": [
    "z_mean_predicted,z_log_var_predicted,reconstruction = vae.predict(x_test)"
   ],
   "metadata": {
    "collapsed": false
   },
   "id": "4ebb02115951e8f1",
   "execution_count": null
  },
  {
   "cell_type": "code",
   "outputs": [],
   "source": [
    "idx = np.random.choice(len(x_test))\n",
    "fig,axs = plt.subplots(1,2)\n",
    "\n",
    "axs[0].imshow(x_test[idx],cmap=\"gray\")\n",
    "axs[0].set_title(classes[y_test[idx]])\n",
    "\n",
    "axs[1].imshow(reconstruction[idx],cmap=\"gray\")\n",
    "axs[1].set_title(np.around(z_mean_predicted[idx],decimals=2))\n",
    "\n",
    "plt.tight_layout()\n",
    "plt.show()\n",
    "\n"
   ],
   "metadata": {
    "collapsed": false
   },
   "id": "48d3f56cc8557b6",
   "execution_count": null
  },
  {
   "cell_type": "code",
   "outputs": [],
   "source": [
    "plt.figure(figsize=(6,6))\n",
    "plt.scatter(z_mean_predicted[:,0],z_mean_predicted[:,1],c=y_test,alpha=0.5,s=2)\n",
    "plt.colorbar()\n",
    "plt.show()"
   ],
   "metadata": {
    "collapsed": false
   },
   "id": "feff7b8a58acdc4",
   "execution_count": null
  }
 ],
 "metadata": {
  "kernelspec": {
   "display_name": "Python 3",
   "language": "python",
   "name": "python3"
  },
  "language_info": {
   "codemirror_mode": {
    "name": "ipython",
    "version": 2
   },
   "file_extension": ".py",
   "mimetype": "text/x-python",
   "name": "python",
   "nbconvert_exporter": "python",
   "pygments_lexer": "ipython2",
   "version": "2.7.6"
  }
 },
 "nbformat": 4,
 "nbformat_minor": 5
}
