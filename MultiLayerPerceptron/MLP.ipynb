{
 "cells": [
  {
   "cell_type": "code",
   "execution_count": 42,
   "id": "initial_id",
   "metadata": {
    "collapsed": true,
    "ExecuteTime": {
     "end_time": "2024-03-01T15:35:44.079140Z",
     "start_time": "2024-03-01T15:35:44.076186Z"
    }
   },
   "outputs": [],
   "source": [
    "import numpy as np\n",
    "from tensorflow.keras import datasets,utils\n",
    "import tensorflow as tf"
   ]
  },
  {
   "cell_type": "code",
   "outputs": [],
   "source": [
    "(x_train,y_train),(x_test,y_test) = datasets.cifar10.load_data()"
   ],
   "metadata": {
    "collapsed": false,
    "ExecuteTime": {
     "end_time": "2024-03-01T15:35:44.458655Z",
     "start_time": "2024-03-01T15:35:44.082644Z"
    }
   },
   "id": "59cec9ac18398795",
   "execution_count": 43
  },
  {
   "cell_type": "code",
   "outputs": [],
   "source": [
    "\n",
    "x_train = x_train.astype('float32')/255\n",
    "x_test = x_test.astype('float32')/255\n",
    "\n",
    "number_of_classes = 10\n",
    "y_train = utils.to_categorical(y_train,number_of_classes)\n",
    "y_test = utils.to_categorical(y_test,number_of_classes)"
   ],
   "metadata": {
    "collapsed": false,
    "ExecuteTime": {
     "end_time": "2024-03-01T15:35:44.638897Z",
     "start_time": "2024-03-01T15:35:44.494743Z"
    }
   },
   "id": "84d506a2684a5273",
   "execution_count": 44
  },
  {
   "cell_type": "code",
   "outputs": [
    {
     "name": "stdout",
     "output_type": "stream",
     "text": [
      "x_train:(50000, 32, 32, 3) y_train(50000, 10)\n",
      "x_test:(10000, 32, 32, 3) y_test(10000, 10)\n"
     ]
    }
   ],
   "source": [
    "print(f\"x_train:{x_train.shape} y_train{y_train.shape}\")\n",
    "print(f\"x_test:{x_test.shape} y_test{y_test.shape}\")"
   ],
   "metadata": {
    "collapsed": false,
    "ExecuteTime": {
     "end_time": "2024-03-01T15:35:44.641381Z",
     "start_time": "2024-03-01T15:35:44.639473Z"
    }
   },
   "id": "5727ef6eff617e39",
   "execution_count": 45
  },
  {
   "cell_type": "code",
   "outputs": [],
   "source": [
    "from tensorflow.keras import models,layers"
   ],
   "metadata": {
    "collapsed": false,
    "ExecuteTime": {
     "end_time": "2024-03-01T15:35:44.643941Z",
     "start_time": "2024-03-01T15:35:44.642537Z"
    }
   },
   "id": "d87e504d7359deca",
   "execution_count": 46
  },
  {
   "cell_type": "code",
   "outputs": [],
   "source": [
    "\n",
    "class MyModel(tf.keras.Model):\n",
    "    def __init__(self):\n",
    "        super(MyModel, self).__init__()\n",
    "        self.flatten_layer = layers.Flatten()\n",
    "        self.dense1 = layers.Dense(units=200, activation=\"relu\")\n",
    "        self.dense2 = layers.Dense(units=150, activation=\"relu\")\n",
    "        self.output_layer = layers.Dense(units=10, activation=\"softmax\")\n",
    "        \n",
    "    def call(self, inputs, training=None, mask=None):\n",
    "        x = self.flatten_layer(inputs)\n",
    "        x = self.dense1(x)\n",
    "        x = self.dense2(x)\n",
    "        x = self.output_layer(x)\n",
    "        return x\n",
    "        "
   ],
   "metadata": {
    "collapsed": false,
    "ExecuteTime": {
     "end_time": "2024-03-01T15:35:44.647192Z",
     "start_time": "2024-03-01T15:35:44.644699Z"
    }
   },
   "id": "d3f456f403c00d7a",
   "execution_count": 47
  },
  {
   "cell_type": "code",
   "outputs": [
    {
     "name": "stdout",
     "output_type": "stream",
     "text": [
      "Model: \"my_model_2\"\n",
      "_________________________________________________________________\n",
      " Layer (type)                Output Shape              Param #   \n",
      "=================================================================\n",
      " flatten_4 (Flatten)         multiple                  0         \n",
      "                                                                 \n",
      " dense_12 (Dense)            multiple                  614600    \n",
      "                                                                 \n",
      " dense_13 (Dense)            multiple                  30150     \n",
      "                                                                 \n",
      " dense_14 (Dense)            multiple                  1510      \n",
      "                                                                 \n",
      "=================================================================\n",
      "Total params: 646260 (2.47 MB)\n",
      "Trainable params: 646260 (2.47 MB)\n",
      "Non-trainable params: 0 (0.00 Byte)\n",
      "_________________________________________________________________\n"
     ]
    }
   ],
   "source": [
    "model = MyModel()\n",
    "model.build((None,32,32,3))\n",
    "model.summary()"
   ],
   "metadata": {
    "collapsed": false,
    "ExecuteTime": {
     "end_time": "2024-03-01T15:35:44.670683Z",
     "start_time": "2024-03-01T15:35:44.647742Z"
    }
   },
   "id": "f260e2e85f7ff81c",
   "execution_count": 48
  },
  {
   "cell_type": "code",
   "outputs": [],
   "source": [
    "from tensorflow.keras import optimizers"
   ],
   "metadata": {
    "collapsed": false,
    "ExecuteTime": {
     "end_time": "2024-03-01T15:35:44.673017Z",
     "start_time": "2024-03-01T15:35:44.671320Z"
    }
   },
   "id": "f8c6465d48e0fee2",
   "execution_count": 49
  },
  {
   "cell_type": "code",
   "outputs": [],
   "source": [
    "opt = optimizers.legacy.Adam(learning_rate=0.0005)"
   ],
   "metadata": {
    "collapsed": false,
    "ExecuteTime": {
     "end_time": "2024-03-01T15:35:44.674988Z",
     "start_time": "2024-03-01T15:35:44.673499Z"
    }
   },
   "id": "da60d9fec7a6b575",
   "execution_count": 50
  },
  {
   "cell_type": "code",
   "outputs": [],
   "source": [
    "model.compile(loss=\"categorical_crossentropy\",optimizer=opt,metrics=[\"accuracy\"])"
   ],
   "metadata": {
    "collapsed": false,
    "ExecuteTime": {
     "end_time": "2024-03-01T15:35:44.681109Z",
     "start_time": "2024-03-01T15:35:44.675501Z"
    }
   },
   "id": "d6debe7fa91375b9",
   "execution_count": 51
  },
  {
   "cell_type": "code",
   "outputs": [
    {
     "name": "stdout",
     "output_type": "stream",
     "text": [
      "Epoch 1/10\n",
      "782/782 [==============================] - 2s 2ms/step - loss: 1.8554 - accuracy: 0.3332\n",
      "Epoch 2/10\n",
      "782/782 [==============================] - 1s 2ms/step - loss: 1.6749 - accuracy: 0.4009\n",
      "Epoch 3/10\n",
      "782/782 [==============================] - 1s 2ms/step - loss: 1.5937 - accuracy: 0.4324\n",
      "Epoch 4/10\n",
      "782/782 [==============================] - 1s 2ms/step - loss: 1.5345 - accuracy: 0.4528\n",
      "Epoch 5/10\n",
      "782/782 [==============================] - 1s 2ms/step - loss: 1.5020 - accuracy: 0.4653\n",
      "Epoch 6/10\n",
      "782/782 [==============================] - 1s 2ms/step - loss: 1.4647 - accuracy: 0.4794\n",
      "Epoch 7/10\n",
      "782/782 [==============================] - 1s 2ms/step - loss: 1.4410 - accuracy: 0.4874\n",
      "Epoch 8/10\n",
      "782/782 [==============================] - 1s 2ms/step - loss: 1.4176 - accuracy: 0.4978\n",
      "Epoch 9/10\n",
      "782/782 [==============================] - 1s 2ms/step - loss: 1.3914 - accuracy: 0.5059\n",
      "Epoch 10/10\n",
      "782/782 [==============================] - 1s 2ms/step - loss: 1.3716 - accuracy: 0.5122\n"
     ]
    },
    {
     "data": {
      "text/plain": "<keras.src.callbacks.History at 0x146a6fb50>"
     },
     "execution_count": 52,
     "metadata": {},
     "output_type": "execute_result"
    }
   ],
   "source": [
    "model.fit(x_train,y_train,batch_size=64,epochs=10,shuffle=True)"
   ],
   "metadata": {
    "collapsed": false,
    "ExecuteTime": {
     "end_time": "2024-03-01T15:35:59.372093Z",
     "start_time": "2024-03-01T15:35:44.682626Z"
    }
   },
   "id": "6e9af031dbb5eebc",
   "execution_count": 52
  },
  {
   "cell_type": "code",
   "outputs": [
    {
     "name": "stdout",
     "output_type": "stream",
     "text": [
      "313/313 [==============================] - 0s 560us/step - loss: 1.4329 - accuracy: 0.4927\n"
     ]
    },
    {
     "data": {
      "text/plain": "[1.4328856468200684, 0.4927000105381012]"
     },
     "execution_count": 53,
     "metadata": {},
     "output_type": "execute_result"
    }
   ],
   "source": [
    "model.evaluate(x_test,y_test)"
   ],
   "metadata": {
    "collapsed": false,
    "ExecuteTime": {
     "end_time": "2024-03-01T15:35:59.714346Z",
     "start_time": "2024-03-01T15:35:59.373667Z"
    }
   },
   "id": "6f61580dda3b3fe8",
   "execution_count": 53
  },
  {
   "cell_type": "code",
   "outputs": [
    {
     "name": "stdout",
     "output_type": "stream",
     "text": [
      "313/313 [==============================] - 0s 512us/step\n"
     ]
    }
   ],
   "source": [
    "classes = np.array([\"airplane\",\"automobile\",\"bird\",\"cat\",\"deer\",\"dog\",\"frog\",\"horse\",\"ship\",\"truck\"])\n",
    "\n",
    "out = model.predict(x_test)\n",
    "pred = classes[np.argmax(out,axis=-1)]\n",
    "ans = classes[np.argmax(y_test,axis=-1)]"
   ],
   "metadata": {
    "collapsed": false,
    "ExecuteTime": {
     "end_time": "2024-03-01T15:36:00.016804Z",
     "start_time": "2024-03-01T15:35:59.714865Z"
    }
   },
   "id": "45b9edd16032ed22",
   "execution_count": 54
  },
  {
   "cell_type": "code",
   "outputs": [],
   "source": [
    "import matplotlib.pyplot as plt"
   ],
   "metadata": {
    "collapsed": false,
    "ExecuteTime": {
     "end_time": "2024-03-01T15:36:00.019177Z",
     "start_time": "2024-03-01T15:36:00.017400Z"
    }
   },
   "id": "c0296360afae609d",
   "execution_count": 55
  },
  {
   "cell_type": "code",
   "outputs": [
    {
     "data": {
      "text/plain": "<matplotlib.image.AxesImage at 0x146b8ec90>"
     },
     "execution_count": 56,
     "metadata": {},
     "output_type": "execute_result"
    },
    {
     "data": {
      "text/plain": "<Figure size 640x480 with 1 Axes>",
      "image/png": "[encoded data removed]"
     },
     "metadata": {},
     "output_type": "display_data"
    }
   ],
   "source": [
    "idx = np.random.choice(len(x_test))\n",
    "plt.title(f\"real:{ans[idx]} predicted:{pred[idx]}\")\n",
    "plt.imshow(x_test[idx])"
   ],
   "metadata": {
    "collapsed": false,
    "ExecuteTime": {
     "end_time": "2024-03-01T15:36:00.193449Z",
     "start_time": "2024-03-01T15:36:00.019673Z"
    }
   },
   "id": "d157350fa8e927e6",
   "execution_count": 56
  }
 ],
 "metadata": {
  "kernelspec": {
   "display_name": "Python 3",
   "language": "python",
   "name": "python3"
  },
  "language_info": {
   "codemirror_mode": {
    "name": "ipython",
    "version": 2
   },
   "file_extension": ".py",
   "mimetype": "text/x-python",
   "name": "python",
   "nbconvert_exporter": "python",
   "pygments_lexer": "ipython2",
   "version": "2.7.6"
  }
 },
 "nbformat": 4,
 "nbformat_minor": 5
}
