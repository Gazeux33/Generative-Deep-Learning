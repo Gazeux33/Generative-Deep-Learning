{
 "cells": [
  {
   "cell_type": "code",
   "execution_count": 238,
   "id": "initial_id",
   "metadata": {
    "collapsed": true,
    "ExecuteTime": {
     "end_time": "2024-03-07T13:30:30.933367Z",
     "start_time": "2024-03-07T13:30:30.928599Z"
    }
   },
   "outputs": [],
   "source": [
    "import matplotlib.pyplot as plt\n",
    "import tensorflow as tf\n",
    "import numpy as np\n",
    "from tensorflow.keras import datasets\n",
    "import os\n"
   ]
  },
  {
   "cell_type": "code",
   "outputs": [],
   "source": [
    "IMAGE_SIZE = 32\n",
    "Z_DIM = 128\n",
    "EPOCH = 5"
   ],
   "metadata": {
    "collapsed": false,
    "ExecuteTime": {
     "end_time": "2024-03-07T13:30:30.953319Z",
     "start_time": "2024-03-07T13:30:30.951473Z"
    }
   },
   "id": "92bcd79831fa1148",
   "execution_count": 239
  },
  {
   "cell_type": "code",
   "outputs": [],
   "source": [
    "(x_train,y_train),(x_test,y_test) = datasets.mnist.load_data()"
   ],
   "metadata": {
    "collapsed": false,
    "ExecuteTime": {
     "end_time": "2024-03-07T13:30:31.105555Z",
     "start_time": "2024-03-07T13:30:30.954202Z"
    }
   },
   "id": "a5f4e27bbb113d6a",
   "execution_count": 240
  },
  {
   "cell_type": "code",
   "outputs": [
    {
     "name": "stdout",
     "output_type": "stream",
     "text": [
      "(60000, 28, 28)\n",
      "(60000,)\n"
     ]
    }
   ],
   "source": [
    "print(x_train.shape)\n",
    "print(y_train.shape)"
   ],
   "metadata": {
    "collapsed": false,
    "ExecuteTime": {
     "end_time": "2024-03-07T13:30:31.108753Z",
     "start_time": "2024-03-07T13:30:31.106578Z"
    }
   },
   "id": "d43277987390dc6e",
   "execution_count": 241
  },
  {
   "cell_type": "code",
   "outputs": [
    {
     "name": "stdout",
     "output_type": "stream",
     "text": [
      "(100, 32, 32, 1)\n",
      "(100, 32, 32, 1)\n"
     ]
    }
   ],
   "source": [
    "def preprocess(imgs):\n",
    "    imgs = imgs.astype(\"float32\")/255\n",
    "    imgs = np.pad(imgs,((0,0),(2,2),(2,2)),constant_values=0.0)\n",
    "    imgs = np.expand_dims(imgs,-1)\n",
    "    return imgs\n",
    "    \n",
    "train = preprocess(x_train)[:100]\n",
    "test = preprocess(x_test)\n",
    "\n",
    "print(train.shape)\n",
    "print(train.shape)"
   ],
   "metadata": {
    "collapsed": false,
    "ExecuteTime": {
     "end_time": "2024-03-07T13:30:31.333944Z",
     "start_time": "2024-03-07T13:30:31.109499Z"
    }
   },
   "id": "98b7cbaff119e438",
   "execution_count": 242
  },
  {
   "cell_type": "code",
   "outputs": [],
   "source": [
    "from tensorflow.keras import layers,models,losses,metrics,optimizers,callbacks\n",
    "import tensorflow.keras.backend as K"
   ],
   "metadata": {
    "collapsed": false,
    "ExecuteTime": {
     "end_time": "2024-03-07T13:30:31.338236Z",
     "start_time": "2024-03-07T13:30:31.335942Z"
    }
   },
   "id": "377d3f21582d15cd",
   "execution_count": 243
  },
  {
   "cell_type": "markdown",
   "source": [
    "# Discriminator"
   ],
   "metadata": {
    "collapsed": false
   },
   "id": "359edb2bbff477c9"
  },
  {
   "cell_type": "code",
   "outputs": [
    {
     "name": "stdout",
     "output_type": "stream",
     "text": [
      "Model: \"model_40\"\n",
      "_________________________________________________________________\n",
      " Layer (type)                Output Shape              Param #   \n",
      "=================================================================\n",
      " discriminator_input (Input  [(None, 32, 32, 1)]       0         \n",
      " Layer)                                                          \n",
      "                                                                 \n",
      " conv2d_132 (Conv2D)         (None, 16, 16, 64)        640       \n",
      "                                                                 \n",
      " leaky_re_lu_167 (LeakyReLU  (None, 16, 16, 64)        0         \n",
      " )                                                               \n",
      "                                                                 \n",
      " dropout_95 (Dropout)        (None, 16, 16, 64)        0         \n",
      "                                                                 \n",
      " conv2d_133 (Conv2D)         (None, 8, 8, 128)         73856     \n",
      "                                                                 \n",
      " batch_normalization_140 (B  (None, 8, 8, 128)         512       \n",
      " atchNormalization)                                              \n",
      "                                                                 \n",
      " leaky_re_lu_168 (LeakyReLU  (None, 8, 8, 128)         0         \n",
      " )                                                               \n",
      "                                                                 \n",
      " dropout_96 (Dropout)        (None, 8, 8, 128)         0         \n",
      "                                                                 \n",
      " conv2d_134 (Conv2D)         (None, 4, 4, 256)         295168    \n",
      "                                                                 \n",
      " batch_normalization_141 (B  (None, 4, 4, 256)         1024      \n",
      " atchNormalization)                                              \n",
      "                                                                 \n",
      " leaky_re_lu_169 (LeakyReLU  (None, 4, 4, 256)         0         \n",
      " )                                                               \n",
      "                                                                 \n",
      " dropout_97 (Dropout)        (None, 4, 4, 256)         0         \n",
      "                                                                 \n",
      " conv2d_135 (Conv2D)         (None, 1, 1, 1)           4096      \n",
      "                                                                 \n",
      " discrminator_output (Flatt  (None, 1)                 0         \n",
      " en)                                                             \n",
      "                                                                 \n",
      "=================================================================\n",
      "Total params: 375296 (1.43 MB)\n",
      "Trainable params: 374528 (1.43 MB)\n",
      "Non-trainable params: 768 (3.00 KB)\n",
      "_________________________________________________________________\n"
     ]
    }
   ],
   "source": [
    "discrminator_input = layers.Input(shape=(IMAGE_SIZE,IMAGE_SIZE,1),name=\"discriminator_input\")\n",
    "\n",
    "x = layers.Conv2D(64,kernel_size=(3,3),strides=2,padding=\"same\")(discrminator_input)\n",
    "x = layers.LeakyReLU()(x)\n",
    "x = layers.Dropout(rate=0.2)(x)\n",
    "\n",
    "x = layers.Conv2D(128,kernel_size=(3,3),strides=2,padding=\"same\")(x)\n",
    "x = layers.BatchNormalization()(x)\n",
    "x = layers.LeakyReLU()(x)\n",
    "x = layers.Dropout(rate=0.2)(x)\n",
    "\n",
    "x = layers.Conv2D(256,kernel_size=(3,3),strides=2,padding=\"same\")(x)\n",
    "x = layers.BatchNormalization()(x)\n",
    "x = layers.LeakyReLU()(x)\n",
    "x = layers.Dropout(rate=0.2)(x)\n",
    "\n",
    "x = layers.Conv2D(1,kernel_size=(4,4),strides=1,padding=\"valid\",use_bias=False,activation=\"sigmoid\")(x)\n",
    "discrminator_output = layers.Flatten(name=\"discrminator_output\")(x)\n",
    "\n",
    "discrminator = models.Model(discrminator_input,discrminator_output)\n",
    "discrminator.summary()"
   ],
   "metadata": {
    "collapsed": false,
    "ExecuteTime": {
     "end_time": "2024-03-07T13:30:31.428263Z",
     "start_time": "2024-03-07T13:30:31.339540Z"
    }
   },
   "id": "33ea5c0fe80ad59a",
   "execution_count": 244
  },
  {
   "cell_type": "markdown",
   "source": [
    "# Generator "
   ],
   "metadata": {
    "collapsed": false
   },
   "id": "e2eec064fe7ad72f"
  },
  {
   "cell_type": "code",
   "outputs": [
    {
     "name": "stdout",
     "output_type": "stream",
     "text": [
      "Model: \"model_41\"\n",
      "_________________________________________________________________\n",
      " Layer (type)                Output Shape              Param #   \n",
      "=================================================================\n",
      " input_19 (InputLayer)       [(None, 128)]             0         \n",
      "                                                                 \n",
      " dense_18 (Dense)            (None, 64)                8256      \n",
      "                                                                 \n",
      " reshape_18 (Reshape)        (None, 2, 2, 16)          0         \n",
      "                                                                 \n",
      " conv2d_transpose_72 (Conv2  (None, 4, 4, 32)          4640      \n",
      " DTranspose)                                                     \n",
      "                                                                 \n",
      " batch_normalization_142 (B  (None, 4, 4, 32)          128       \n",
      " atchNormalization)                                              \n",
      "                                                                 \n",
      " leaky_re_lu_170 (LeakyReLU  (None, 4, 4, 32)          0         \n",
      " )                                                               \n",
      "                                                                 \n",
      " conv2d_transpose_73 (Conv2  (None, 8, 8, 64)          18496     \n",
      " DTranspose)                                                     \n",
      "                                                                 \n",
      " batch_normalization_143 (B  (None, 8, 8, 64)          256       \n",
      " atchNormalization)                                              \n",
      "                                                                 \n",
      " leaky_re_lu_171 (LeakyReLU  (None, 8, 8, 64)          0         \n",
      " )                                                               \n",
      "                                                                 \n",
      " conv2d_transpose_74 (Conv2  (None, 16, 16, 128)       73856     \n",
      " DTranspose)                                                     \n",
      "                                                                 \n",
      " batch_normalization_144 (B  (None, 16, 16, 128)       512       \n",
      " atchNormalization)                                              \n",
      "                                                                 \n",
      " leaky_re_lu_172 (LeakyReLU  (None, 16, 16, 128)       0         \n",
      " )                                                               \n",
      "                                                                 \n",
      " conv2d_transpose_75 (Conv2  (None, 32, 32, 256)       295168    \n",
      " DTranspose)                                                     \n",
      "                                                                 \n",
      " batch_normalization_145 (B  (None, 32, 32, 256)       1024      \n",
      " atchNormalization)                                              \n",
      "                                                                 \n",
      " leaky_re_lu_173 (LeakyReLU  (None, 32, 32, 256)       0         \n",
      " )                                                               \n",
      "                                                                 \n",
      " conv2d_136 (Conv2D)         (None, 32, 32, 1)         2305      \n",
      "                                                                 \n",
      "=================================================================\n",
      "Total params: 404641 (1.54 MB)\n",
      "Trainable params: 403681 (1.54 MB)\n",
      "Non-trainable params: 960 (3.75 KB)\n",
      "_________________________________________________________________\n"
     ]
    }
   ],
   "source": [
    "generator_input = layers.Input(shape=(Z_DIM,))\n",
    "\n",
    "x = layers.Dense(2*2*16)(generator_input)\n",
    "x = layers.Reshape((2,2,16))(x)\n",
    "\n",
    "x = layers.Conv2DTranspose(32,kernel_size=(3,3),strides=2,padding=\"same\")(x)\n",
    "x = layers.BatchNormalization()(x)\n",
    "x = layers.LeakyReLU()(x)\n",
    "\n",
    "x = layers.Conv2DTranspose(64,kernel_size=(3,3),strides=2,padding=\"same\")(x)\n",
    "x = layers.BatchNormalization()(x)\n",
    "x = layers.LeakyReLU()(x)\n",
    "\n",
    "x = layers.Conv2DTranspose(128,kernel_size=(3,3),strides=2,padding=\"same\")(x)\n",
    "x = layers.BatchNormalization()(x)\n",
    "x = layers.LeakyReLU()(x)\n",
    "\n",
    "x = layers.Conv2DTranspose(256,kernel_size=(3,3),strides=2,padding=\"same\")(x)\n",
    "x = layers.BatchNormalization()(x)\n",
    "x = layers.LeakyReLU()(x)\n",
    "\n",
    "generator_output = layers.Conv2D(1,kernel_size=3,strides=1,padding=\"same\",activation=\"sigmoid\")(x)\n",
    "\n",
    "generator = models.Model(generator_input,generator_output)\n",
    "generator.summary()"
   ],
   "metadata": {
    "collapsed": false,
    "ExecuteTime": {
     "end_time": "2024-03-07T13:30:31.553928Z",
     "start_time": "2024-03-07T13:30:31.429638Z"
    }
   },
   "id": "34a6fef736006a69",
   "execution_count": 245
  },
  {
   "cell_type": "markdown",
   "source": [
    "# GAN"
   ],
   "metadata": {
    "collapsed": false
   },
   "id": "b43d1238f6c5cfeb"
  },
  {
   "cell_type": "code",
   "outputs": [],
   "source": [
    "class DCGAN(models.Model):\n",
    "    def __init__(self,my_discriminator,my_generator,z_dim=Z_DIM):\n",
    "        super(DCGAN,self).__init__()\n",
    "        \n",
    "        self.discriminator = my_discriminator\n",
    "        self.generator = my_generator\n",
    "        self.z_dim = z_dim\n",
    "        self.discriminator_opt = None\n",
    "        self.generator_opt = None\n",
    "        self.loss_fn = None\n",
    "        self.g_loss = None\n",
    "        self.d_loss = None\n",
    "        \n",
    "    def call(self, inputs, training=None, mask=None):\n",
    "        # This method should handle both real and generated images\n",
    "        return self.discriminator(inputs)\n",
    "    \n",
    "    def compile(self,d_opt,g_opt,loss_fn):\n",
    "        super(DCGAN,self).compile()\n",
    "        self.discriminator_opt = d_opt\n",
    "        self.generator_opt = g_opt\n",
    "        self.loss_fn = loss_fn\n",
    "        self.discriminator.compile(optimizer=self.discriminator_opt,loss=self.loss_fn)\n",
    "        self.generator.compile(optimizer=self.generator_opt,loss=self.loss_fn)\n",
    "        self.d_loss = metrics.Mean(name=\"d_loss\")\n",
    "        self.g_loss = metrics.Mean(name=\"g_loss\")\n",
    "        \n",
    "        \n",
    "    @property\n",
    "    def metrics(self):\n",
    "        return [self.d_loss,self.g_loss]\n",
    "    \n",
    "    def train_step(self, real_imgs):\n",
    "        batch_size = tf.shape(real_imgs)[0]\n",
    "        sample_vector = tf.random.normal(shape=(batch_size,self.z_dim))\n",
    "        \n",
    "        \n",
    "        generated_images = self.generator(sample_vector)\n",
    "        concat_ims = tf.concat([real_imgs,generated_images],axis=0)\n",
    "        labels = tf.concat([tf.ones(shape=(batch_size,1)),tf.zeros(shape=(batch_size,1))],axis=0)\n",
    "        with tf.GradientTape() as tape:\n",
    "            predictions = self.discriminator(concat_ims)\n",
    "            d_loss = self.loss_fn(labels,predictions)\n",
    "        grads = tape.gradient(d_loss,self.discriminator.trainable_weights)\n",
    "        self.discriminator_opt.apply_gradients(zip(grads,self.discriminator.trainable_weights))\n",
    "        \n",
    "        \n",
    "        sample_vector = tf.random.normal(shape=(batch_size,self.z_dim))\n",
    "        false_labels = tf.ones(shape=(batch_size,1))\n",
    "        with tf.GradientTape() as tape:\n",
    "            fakes_imgs = self.generator(sample_vector)\n",
    "            d_predictions = self.discriminator(fakes_imgs)\n",
    "            g_loss = self.loss_fn(false_labels,d_predictions)\n",
    "        grads = tape.gradient(g_loss,self.generator.trainable_weights)\n",
    "        self.generator_opt.apply_gradients(zip(grads,self.generator.trainable_weights))\n",
    "        \n",
    "        self.g_loss.update_state(g_loss)\n",
    "        self.d_loss.update_state(d_loss)\n",
    "        \n",
    "        return {\n",
    "            \"d_loss\":self.d_loss.result(),\n",
    "            \"g_loss\":self.g_loss.result()\n",
    "        }\n",
    "        "
   ],
   "metadata": {
    "collapsed": false
   },
   "id": "6e2a935f85535d78",
   "execution_count": 246
  },
  {
   "cell_type": "code",
   "outputs": [],
   "source": [
    "dcgan = DCGAN(discrminator,generator)"
   ],
   "metadata": {
    "collapsed": false
   },
   "id": "24415e0601b95068",
   "execution_count": 247
  },
  {
   "cell_type": "code",
   "outputs": [],
   "source": [
    "d_opt = optimizers.legacy.Adam()\n",
    "g_opt = optimizers.legacy.Adam()\n",
    "loss_fn = losses.BinaryCrossentropy()\n",
    "\n",
    "dcgan.compile(d_opt,g_opt,loss_fn)"
   ],
   "metadata": {
    "collapsed": false,
    "ExecuteTime": {
     "end_time": "2024-03-07T13:30:31.605532Z",
     "start_time": "2024-03-07T13:30:31.583625Z"
    }
   },
   "id": "aa6969c821a5be6",
   "execution_count": 248
  },
  {
   "cell_type": "code",
   "outputs": [],
   "source": [
    "class ImageGenerator(callbacks.Callback):\n",
    "    def __init__(self, num_img, latent_dim,save_dir):\n",
    "        super().__init__()\n",
    "        self.num_img = num_img\n",
    "        self.latent_dim = latent_dim\n",
    "        self.save_dir = save_dir\n",
    "\n",
    "    def on_epoch_end(self, epoch, logs=None):\n",
    "        \n",
    "        if not os.path.exists(self.save_dir):\n",
    "            os.mkdir(self.save_dir)\n",
    "        random_latent_vectors = tf.random.normal(\n",
    "            shape=(self.num_img, self.latent_dim)\n",
    "        )\n",
    "        generated_images = self.model.generator(random_latent_vectors)\n",
    "        generated_images = generated_images.numpy()\n",
    "        for i, image in enumerate(generated_images):\n",
    "            plt.imshow(image,cmap=\"gray\")\n",
    "            plt.axis('off')\n",
    "            plt.savefig(os.path.join(self.save_dir, f'generated_image_{epoch}_{i}.png'))\n",
    "            plt.close()\n",
    "        "
   ],
   "metadata": {
    "collapsed": false,
    "ExecuteTime": {
     "end_time": "2024-03-07T13:30:31.613742Z",
     "start_time": "2024-03-07T13:30:31.609116Z"
    }
   },
   "id": "3d39eecf2933a8e6",
   "execution_count": 249
  },
  {
   "cell_type": "code",
   "outputs": [
    {
     "name": "stdout",
     "output_type": "stream",
     "text": [
      "Epoch 1/5\n",
      "4/4 [==============================] - 2s 195ms/step - d_loss: 0.5563 - g_loss: 1.6615\n",
      "Epoch 2/5\n",
      "4/4 [==============================] - 1s 134ms/step - d_loss: 0.2192 - g_loss: 2.6209\n",
      "Epoch 3/5\n",
      "4/4 [==============================] - 1s 126ms/step - d_loss: 0.3343 - g_loss: 1.1309\n",
      "Epoch 4/5\n",
      "4/4 [==============================] - 1s 125ms/step - d_loss: 0.2300 - g_loss: 1.7069\n",
      "Epoch 5/5\n",
      "4/4 [==============================] - 1s 134ms/step - d_loss: 0.0603 - g_loss: 4.8069\n"
     ]
    }
   ],
   "source": [
    "hist = dcgan.fit(train,epochs=EPOCH,callbacks=ImageGenerator(1,Z_DIM,\"callbacks\"))"
   ],
   "metadata": {
    "collapsed": false,
    "ExecuteTime": {
     "end_time": "2024-03-07T13:30:35.705715Z",
     "start_time": "2024-03-07T13:30:31.615422Z"
    }
   },
   "id": "ec1400022bbb6fd0",
   "execution_count": 250
  },
  {
   "cell_type": "code",
   "outputs": [],
   "source": [
    "#dcgan.save(\"dcgan-mnist\")"
   ],
   "metadata": {
    "collapsed": false,
    "ExecuteTime": {
     "end_time": "2024-03-07T13:30:35.709032Z",
     "start_time": "2024-03-07T13:30:35.707041Z"
    }
   },
   "id": "707bd847bda96175",
   "execution_count": 251
  },
  {
   "cell_type": "code",
   "outputs": [
    {
     "data": {
      "text/plain": "<Figure size 640x480 with 1 Axes>",
      "image/png": "[encoded data removed]"
     },
     "metadata": {},
     "output_type": "display_data"
    }
   ],
   "source": [
    "for key in hist.history:\n",
    "    plt.plot(hist.history[key],label=key)\n",
    "plt.legend()\n",
    "plt.show()"
   ],
   "metadata": {
    "collapsed": false,
    "ExecuteTime": {
     "end_time": "2024-03-07T13:30:35.768112Z",
     "start_time": "2024-03-07T13:30:35.709682Z"
    }
   },
   "id": "9fe2b7d3a0a3de4a",
   "execution_count": 252
  }
 ],
 "metadata": {
  "kernelspec": {
   "display_name": "Python 3",
   "language": "python",
   "name": "python3"
  },
  "language_info": {
   "codemirror_mode": {
    "name": "ipython",
    "version": 2
   },
   "file_extension": ".py",
   "mimetype": "text/x-python",
   "name": "python",
   "nbconvert_exporter": "python",
   "pygments_lexer": "ipython2",
   "version": "2.7.6"
  }
 },
 "nbformat": 4,
 "nbformat_minor": 5
}
