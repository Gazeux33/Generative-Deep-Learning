{
 "cells": [
  {
   "cell_type": "code",
   "execution_count": 72,
   "id": "initial_id",
   "metadata": {
    "collapsed": true,
    "ExecuteTime": {
     "end_time": "2024-03-06T21:21:09.055484Z",
     "start_time": "2024-03-06T21:21:09.050867Z"
    }
   },
   "outputs": [],
   "source": [
    "import matplotlib.pyplot as plt\n",
    "import tensorflow as tf\n",
    "import numpy as np\n",
    "from tensorflow.keras import datasets\n"
   ]
  },
  {
   "cell_type": "code",
   "outputs": [],
   "source": [
    "IMAGE_SIZE = 32\n",
    "Z_DIM = 128\n",
    "EPOCH = 5"
   ],
   "metadata": {
    "collapsed": false,
    "ExecuteTime": {
     "end_time": "2024-03-06T21:21:09.065405Z",
     "start_time": "2024-03-06T21:21:09.063653Z"
    }
   },
   "id": "92bcd79831fa1148",
   "execution_count": 73
  },
  {
   "cell_type": "code",
   "outputs": [],
   "source": [
    "(x_train,y_train),(x_test,y_test) = datasets.mnist.load_data()"
   ],
   "metadata": {
    "collapsed": false,
    "ExecuteTime": {
     "end_time": "2024-03-06T21:21:09.213483Z",
     "start_time": "2024-03-06T21:21:09.070804Z"
    }
   },
   "id": "a5f4e27bbb113d6a",
   "execution_count": 74
  },
  {
   "cell_type": "code",
   "outputs": [
    {
     "name": "stdout",
     "output_type": "stream",
     "text": [
      "(60000, 28, 28)\n",
      "(60000,)\n"
     ]
    }
   ],
   "source": [
    "print(x_train.shape)\n",
    "print(y_train.shape)"
   ],
   "metadata": {
    "collapsed": false,
    "ExecuteTime": {
     "end_time": "2024-03-06T21:21:09.216238Z",
     "start_time": "2024-03-06T21:21:09.214495Z"
    }
   },
   "id": "d43277987390dc6e",
   "execution_count": 75
  },
  {
   "cell_type": "code",
   "outputs": [
    {
     "name": "stdout",
     "output_type": "stream",
     "text": [
      "(60000, 32, 32, 1)\n",
      "(60000, 32, 32, 1)\n"
     ]
    }
   ],
   "source": [
    "def preprocess(imgs):\n",
    "    imgs = imgs.astype(\"float32\")/255\n",
    "    imgs = np.pad(imgs,((0,0),(2,2),(2,2)),constant_values=0.0)\n",
    "    imgs = np.expand_dims(imgs,-1)\n",
    "    return imgs\n",
    "    \n",
    "train = preprocess(x_train)\n",
    "test = preprocess(x_test)\n",
    "\n",
    "print(train.shape)\n",
    "print(train.shape)"
   ],
   "metadata": {
    "collapsed": false,
    "ExecuteTime": {
     "end_time": "2024-03-06T21:21:09.550960Z",
     "start_time": "2024-03-06T21:21:09.216948Z"
    }
   },
   "id": "98b7cbaff119e438",
   "execution_count": 76
  },
  {
   "cell_type": "code",
   "outputs": [],
   "source": [
    "from tensorflow.keras import layers,models,losses,metrics\n",
    "import tensorflow.keras.backend as K"
   ],
   "metadata": {
    "collapsed": false,
    "ExecuteTime": {
     "end_time": "2024-03-06T21:21:09.555114Z",
     "start_time": "2024-03-06T21:21:09.552961Z"
    }
   },
   "id": "377d3f21582d15cd",
   "execution_count": 77
  },
  {
   "cell_type": "markdown",
   "source": [
    "# Discriminator"
   ],
   "metadata": {
    "collapsed": false
   },
   "id": "359edb2bbff477c9"
  },
  {
   "cell_type": "code",
   "outputs": [
    {
     "name": "stdout",
     "output_type": "stream",
     "text": [
      "Model: \"model_14\"\n",
      "_________________________________________________________________\n",
      " Layer (type)                Output Shape              Param #   \n",
      "=================================================================\n",
      " discriminator_input (Input  [(None, 32, 32, 1)]       0         \n",
      " Layer)                                                          \n",
      "                                                                 \n",
      " conv2d_67 (Conv2D)          (None, 16, 16, 64)        640       \n",
      "                                                                 \n",
      " leaky_re_lu_76 (LeakyReLU)  (None, 16, 16, 64)        0         \n",
      "                                                                 \n",
      " dropout_56 (Dropout)        (None, 16, 16, 64)        0         \n",
      "                                                                 \n",
      " conv2d_68 (Conv2D)          (None, 8, 8, 128)         73856     \n",
      "                                                                 \n",
      " batch_normalization_62 (Ba  (None, 8, 8, 128)         512       \n",
      " tchNormalization)                                               \n",
      "                                                                 \n",
      " leaky_re_lu_77 (LeakyReLU)  (None, 8, 8, 128)         0         \n",
      "                                                                 \n",
      " dropout_57 (Dropout)        (None, 8, 8, 128)         0         \n",
      "                                                                 \n",
      " conv2d_69 (Conv2D)          (None, 4, 4, 256)         295168    \n",
      "                                                                 \n",
      " batch_normalization_63 (Ba  (None, 4, 4, 256)         1024      \n",
      " tchNormalization)                                               \n",
      "                                                                 \n",
      " leaky_re_lu_78 (LeakyReLU)  (None, 4, 4, 256)         0         \n",
      "                                                                 \n",
      " dropout_58 (Dropout)        (None, 4, 4, 256)         0         \n",
      "                                                                 \n",
      " conv2d_70 (Conv2D)          (None, 1, 1, 1)           4096      \n",
      "                                                                 \n",
      " discrminator_output (Flatt  (None, 1)                 0         \n",
      " en)                                                             \n",
      "                                                                 \n",
      "=================================================================\n",
      "Total params: 375296 (1.43 MB)\n",
      "Trainable params: 374528 (1.43 MB)\n",
      "Non-trainable params: 768 (3.00 KB)\n",
      "_________________________________________________________________\n"
     ]
    }
   ],
   "source": [
    "discrminator_input = layers.Input(shape=(IMAGE_SIZE,IMAGE_SIZE,1),name=\"discriminator_input\")\n",
    "\n",
    "x = layers.Conv2D(64,kernel_size=(3,3),strides=2,padding=\"same\")(discrminator_input)\n",
    "x = layers.LeakyReLU()(x)\n",
    "x = layers.Dropout(rate=0.2)(x)\n",
    "\n",
    "x = layers.Conv2D(128,kernel_size=(3,3),strides=2,padding=\"same\")(x)\n",
    "x = layers.BatchNormalization()(x)\n",
    "x = layers.LeakyReLU()(x)\n",
    "x = layers.Dropout(rate=0.2)(x)\n",
    "\n",
    "x = layers.Conv2D(256,kernel_size=(3,3),strides=2,padding=\"same\")(x)\n",
    "x = layers.BatchNormalization()(x)\n",
    "x = layers.LeakyReLU()(x)\n",
    "x = layers.Dropout(rate=0.2)(x)\n",
    "\n",
    "x = layers.Conv2D(1,kernel_size=(4,4),strides=1,padding=\"valid\",use_bias=False,activation=\"sigmoid\")(x)\n",
    "discrminator_output = layers.Flatten(name=\"discrminator_output\")(x)\n",
    "\n",
    "discrminator = models.Model(discrminator_input,discrminator_output)\n",
    "discrminator.summary()"
   ],
   "metadata": {
    "collapsed": false,
    "ExecuteTime": {
     "end_time": "2024-03-06T21:21:09.624140Z",
     "start_time": "2024-03-06T21:21:09.555984Z"
    }
   },
   "id": "33ea5c0fe80ad59a",
   "execution_count": 78
  },
  {
   "cell_type": "markdown",
   "source": [
    "# Generator "
   ],
   "metadata": {
    "collapsed": false
   },
   "id": "e2eec064fe7ad72f"
  },
  {
   "cell_type": "code",
   "outputs": [
    {
     "name": "stdout",
     "output_type": "stream",
     "text": [
      "Model: \"model_15\"\n",
      "_________________________________________________________________\n",
      " Layer (type)                Output Shape              Param #   \n",
      "=================================================================\n",
      " input_6 (InputLayer)        [(None, 128)]             0         \n",
      "                                                                 \n",
      " dense_5 (Dense)             (None, 64)                8256      \n",
      "                                                                 \n",
      " reshape_5 (Reshape)         (None, 2, 2, 16)          0         \n",
      "                                                                 \n",
      " conv2d_transpose_20 (Conv2  (None, 4, 4, 32)          4640      \n",
      " DTranspose)                                                     \n",
      "                                                                 \n",
      " batch_normalization_64 (Ba  (None, 4, 4, 32)          128       \n",
      " tchNormalization)                                               \n",
      "                                                                 \n",
      " leaky_re_lu_79 (LeakyReLU)  (None, 4, 4, 32)          0         \n",
      "                                                                 \n",
      " conv2d_transpose_21 (Conv2  (None, 8, 8, 64)          18496     \n",
      " DTranspose)                                                     \n",
      "                                                                 \n",
      " batch_normalization_65 (Ba  (None, 8, 8, 64)          256       \n",
      " tchNormalization)                                               \n",
      "                                                                 \n",
      " leaky_re_lu_80 (LeakyReLU)  (None, 8, 8, 64)          0         \n",
      "                                                                 \n",
      " conv2d_transpose_22 (Conv2  (None, 16, 16, 128)       73856     \n",
      " DTranspose)                                                     \n",
      "                                                                 \n",
      " batch_normalization_66 (Ba  (None, 16, 16, 128)       512       \n",
      " tchNormalization)                                               \n",
      "                                                                 \n",
      " leaky_re_lu_81 (LeakyReLU)  (None, 16, 16, 128)       0         \n",
      "                                                                 \n",
      " conv2d_transpose_23 (Conv2  (None, 32, 32, 256)       295168    \n",
      " DTranspose)                                                     \n",
      "                                                                 \n",
      " batch_normalization_67 (Ba  (None, 32, 32, 256)       1024      \n",
      " tchNormalization)                                               \n",
      "                                                                 \n",
      " leaky_re_lu_82 (LeakyReLU)  (None, 32, 32, 256)       0         \n",
      "                                                                 \n",
      " conv2d_71 (Conv2D)          (None, 32, 32, 1)         2305      \n",
      "                                                                 \n",
      "=================================================================\n",
      "Total params: 404641 (1.54 MB)\n",
      "Trainable params: 403681 (1.54 MB)\n",
      "Non-trainable params: 960 (3.75 KB)\n",
      "_________________________________________________________________\n"
     ]
    }
   ],
   "source": [
    "generator_input = layers.Input(shape=(Z_DIM,))\n",
    "\n",
    "x = layers.Dense(2*2*16)(generator_input)\n",
    "x = layers.Reshape((2,2,16))(x)\n",
    "\n",
    "x = layers.Conv2DTranspose(32,kernel_size=(3,3),strides=2,padding=\"same\")(x)\n",
    "x = layers.BatchNormalization()(x)\n",
    "x = layers.LeakyReLU()(x)\n",
    "\n",
    "x = layers.Conv2DTranspose(64,kernel_size=(3,3),strides=2,padding=\"same\")(x)\n",
    "x = layers.BatchNormalization()(x)\n",
    "x = layers.LeakyReLU()(x)\n",
    "\n",
    "x = layers.Conv2DTranspose(128,kernel_size=(3,3),strides=2,padding=\"same\")(x)\n",
    "x = layers.BatchNormalization()(x)\n",
    "x = layers.LeakyReLU()(x)\n",
    "\n",
    "x = layers.Conv2DTranspose(256,kernel_size=(3,3),strides=2,padding=\"same\")(x)\n",
    "x = layers.BatchNormalization()(x)\n",
    "x = layers.LeakyReLU()(x)\n",
    "\n",
    "generator_output = layers.Conv2D(1,kernel_size=3,strides=1,padding=\"same\",activation=\"sigmoid\")(x)\n",
    "\n",
    "generator = models.Model(generator_input,generator_output)\n",
    "generator.summary()"
   ],
   "metadata": {
    "collapsed": false,
    "ExecuteTime": {
     "end_time": "2024-03-06T21:21:09.759124Z",
     "start_time": "2024-03-06T21:21:09.625342Z"
    }
   },
   "id": "34a6fef736006a69",
   "execution_count": 79
  },
  {
   "cell_type": "markdown",
   "source": [
    "# GAN"
   ],
   "metadata": {
    "collapsed": false
   },
   "id": "b43d1238f6c5cfeb"
  }
 ],
 "metadata": {
  "kernelspec": {
   "display_name": "Python 3",
   "language": "python",
   "name": "python3"
  },
  "language_info": {
   "codemirror_mode": {
    "name": "ipython",
    "version": 2
   },
   "file_extension": ".py",
   "mimetype": "text/x-python",
   "name": "python",
   "nbconvert_exporter": "python",
   "pygments_lexer": "ipython2",
   "version": "2.7.6"
  }
 },
 "nbformat": 4,
 "nbformat_minor": 5
}
