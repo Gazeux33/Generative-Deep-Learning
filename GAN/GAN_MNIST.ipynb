{
 "cells": [
  {
   "cell_type": "code",
   "execution_count": 27,
   "id": "initial_id",
   "metadata": {
    "collapsed": true,
    "ExecuteTime": {
     "end_time": "2024-03-06T18:34:41.440371Z",
     "start_time": "2024-03-06T18:34:41.435092Z"
    }
   },
   "outputs": [],
   "source": [
    "import matplotlib.pyplot as plt\n",
    "import tensorflow as tf\n",
    "import numpy as np\n",
    "from tensorflow.keras import datasets\n"
   ]
  },
  {
   "cell_type": "code",
   "outputs": [],
   "source": [
    "IMAGE_SIZE = 32"
   ],
   "metadata": {
    "collapsed": false
   },
   "id": "92bcd79831fa1148"
  },
  {
   "cell_type": "code",
   "outputs": [],
   "source": [
    "(x_train,y_train),(x_test,y_test) = datasets.mnist.load_data()"
   ],
   "metadata": {
    "collapsed": false,
    "ExecuteTime": {
     "end_time": "2024-03-06T18:34:41.593603Z",
     "start_time": "2024-03-06T18:34:41.443343Z"
    }
   },
   "id": "a5f4e27bbb113d6a",
   "execution_count": 28
  },
  {
   "cell_type": "code",
   "outputs": [
    {
     "name": "stdout",
     "output_type": "stream",
     "text": [
      "(60000, 28, 28)\n",
      "(60000,)\n"
     ]
    }
   ],
   "source": [
    "print(x_train.shape)\n",
    "print(y_train.shape)"
   ],
   "metadata": {
    "collapsed": false,
    "ExecuteTime": {
     "end_time": "2024-03-06T18:34:41.596587Z",
     "start_time": "2024-03-06T18:34:41.594605Z"
    }
   },
   "id": "d43277987390dc6e",
   "execution_count": 29
  },
  {
   "cell_type": "code",
   "outputs": [
    {
     "name": "stdout",
     "output_type": "stream",
     "text": [
      "(60000, 32, 32, 1)\n",
      "(60000, 32, 32, 1)\n"
     ]
    }
   ],
   "source": [
    "def preprocess(imgs):\n",
    "    imgs = imgs.astype(\"float32\")/255\n",
    "    imgs = np.pad(imgs,((0,0),(2,2),(2,2)),constant_values=0.0)\n",
    "    imgs = np.expand_dims(imgs,-1)\n",
    "    return imgs\n",
    "    \n",
    "train = preprocess(x_train)\n",
    "test = preprocess(x_test)\n",
    "\n",
    "print(train.shape)\n",
    "print(train.shape)"
   ],
   "metadata": {
    "collapsed": false,
    "ExecuteTime": {
     "end_time": "2024-03-06T18:35:00.841227Z",
     "start_time": "2024-03-06T18:35:00.611455Z"
    }
   },
   "id": "98b7cbaff119e438",
   "execution_count": 31
  },
  {
   "cell_type": "code",
   "outputs": [],
   "source": [
    "from tensorflow.keras import layers,models,losses,metrics"
   ],
   "metadata": {
    "collapsed": false
   },
   "id": "377d3f21582d15cd"
  },
  {
   "cell_type": "markdown",
   "source": [
    "# Discriminator"
   ],
   "metadata": {
    "collapsed": false
   },
   "id": "359edb2bbff477c9"
  },
  {
   "cell_type": "code",
   "outputs": [],
   "source": [
    "discrminator_input = layers.Input(shape=(IMAGE_SIZE,IMAGE_SIZE,1),name=\"discriminator_input\")"
   ],
   "metadata": {
    "collapsed": false
   },
   "id": "33ea5c0fe80ad59a"
  },
  {
   "cell_type": "markdown",
   "source": [
    "# Generator "
   ],
   "metadata": {
    "collapsed": false
   },
   "id": "e2eec064fe7ad72f"
  },
  {
   "cell_type": "markdown",
   "source": [
    "# GAN"
   ],
   "metadata": {
    "collapsed": false
   },
   "id": "b43d1238f6c5cfeb"
  }
 ],
 "metadata": {
  "kernelspec": {
   "display_name": "Python 3",
   "language": "python",
   "name": "python3"
  },
  "language_info": {
   "codemirror_mode": {
    "name": "ipython",
    "version": 2
   },
   "file_extension": ".py",
   "mimetype": "text/x-python",
   "name": "python",
   "nbconvert_exporter": "python",
   "pygments_lexer": "ipython2",
   "version": "2.7.6"
  }
 },
 "nbformat": 4,
 "nbformat_minor": 5
}
