{
 "cells": [
  {
   "cell_type": "code",
   "execution_count": 1,
   "id": "initial_id",
   "metadata": {
    "collapsed": true,
    "ExecuteTime": {
     "end_time": "2024-03-11T22:16:25.900994Z",
     "start_time": "2024-03-11T22:16:23.884139Z"
    }
   },
   "outputs": [],
   "source": [
    "import matplotlib.pyplot as plt\n",
    "import tensorflow as tf\n",
    "import numpy as np\n",
    "from tensorflow.keras import datasets\n",
    "import os\n"
   ]
  },
  {
   "cell_type": "code",
   "outputs": [],
   "source": [
    "IMAGE_SIZE = 32\n",
    "Z_DIM = 128\n",
    "EPOCH = 5"
   ],
   "metadata": {
    "collapsed": false,
    "ExecuteTime": {
     "end_time": "2024-03-11T22:16:25.903142Z",
     "start_time": "2024-03-11T22:16:25.901777Z"
    }
   },
   "id": "92bcd79831fa1148",
   "execution_count": 2
  },
  {
   "cell_type": "code",
   "outputs": [],
   "source": [
    "(x_train,y_train),(x_test,y_test) = datasets.mnist.load_data()"
   ],
   "metadata": {
    "collapsed": false,
    "ExecuteTime": {
     "end_time": "2024-03-11T22:16:26.030026Z",
     "start_time": "2024-03-11T22:16:25.903629Z"
    }
   },
   "id": "a5f4e27bbb113d6a",
   "execution_count": 3
  },
  {
   "cell_type": "code",
   "outputs": [
    {
     "name": "stdout",
     "output_type": "stream",
     "text": [
      "(60000, 28, 28)\n",
      "(60000,)\n"
     ]
    }
   ],
   "source": [
    "print(x_train.shape)\n",
    "print(y_train.shape)"
   ],
   "metadata": {
    "collapsed": false,
    "ExecuteTime": {
     "end_time": "2024-03-11T22:16:26.033348Z",
     "start_time": "2024-03-11T22:16:26.031394Z"
    }
   },
   "id": "d43277987390dc6e",
   "execution_count": 4
  },
  {
   "cell_type": "code",
   "outputs": [
    {
     "name": "stdout",
     "output_type": "stream",
     "text": [
      "(100, 32, 32, 1)\n",
      "(100, 32, 32, 1)\n"
     ]
    }
   ],
   "source": [
    "def preprocess(imgs):\n",
    "    imgs = imgs.astype(\"float32\")/255\n",
    "    imgs = np.pad(imgs,((0,0),(2,2),(2,2)),constant_values=0.0)\n",
    "    imgs = np.expand_dims(imgs,-1)\n",
    "    return imgs\n",
    "    \n",
    "train = preprocess(x_train)[:100]\n",
    "test = preprocess(x_test)\n",
    "\n",
    "print(train.shape)\n",
    "print(train.shape)"
   ],
   "metadata": {
    "collapsed": false,
    "ExecuteTime": {
     "end_time": "2024-03-11T22:16:26.153168Z",
     "start_time": "2024-03-11T22:16:26.034017Z"
    }
   },
   "id": "98b7cbaff119e438",
   "execution_count": 5
  },
  {
   "cell_type": "code",
   "outputs": [],
   "source": [
    "from tensorflow.keras import layers,models,losses,metrics,optimizers,callbacks"
   ],
   "metadata": {
    "collapsed": false,
    "ExecuteTime": {
     "end_time": "2024-03-11T22:16:26.155455Z",
     "start_time": "2024-03-11T22:16:26.153806Z"
    }
   },
   "id": "377d3f21582d15cd",
   "execution_count": 6
  },
  {
   "cell_type": "markdown",
   "source": [
    "# Discriminator"
   ],
   "metadata": {
    "collapsed": false
   },
   "id": "359edb2bbff477c9"
  },
  {
   "cell_type": "code",
   "outputs": [
    {
     "name": "stdout",
     "output_type": "stream",
     "text": [
      "Model: \"model\"\n",
      "_________________________________________________________________\n",
      " Layer (type)                Output Shape              Param #   \n",
      "=================================================================\n",
      " discriminator_input (Input  [(None, 32, 32, 1)]       0         \n",
      " Layer)                                                          \n",
      "                                                                 \n",
      " conv2d (Conv2D)             (None, 16, 16, 64)        640       \n",
      "                                                                 \n",
      " leaky_re_lu (LeakyReLU)     (None, 16, 16, 64)        0         \n",
      "                                                                 \n",
      " dropout (Dropout)           (None, 16, 16, 64)        0         \n",
      "                                                                 \n",
      " conv2d_1 (Conv2D)           (None, 8, 8, 128)         73856     \n",
      "                                                                 \n",
      " batch_normalization (Batch  (None, 8, 8, 128)         512       \n",
      " Normalization)                                                  \n",
      "                                                                 \n",
      " leaky_re_lu_1 (LeakyReLU)   (None, 8, 8, 128)         0         \n",
      "                                                                 \n",
      " dropout_1 (Dropout)         (None, 8, 8, 128)         0         \n",
      "                                                                 \n",
      " conv2d_2 (Conv2D)           (None, 4, 4, 256)         295168    \n",
      "                                                                 \n",
      " batch_normalization_1 (Bat  (None, 4, 4, 256)         1024      \n",
      " chNormalization)                                                \n",
      "                                                                 \n",
      " leaky_re_lu_2 (LeakyReLU)   (None, 4, 4, 256)         0         \n",
      "                                                                 \n",
      " dropout_2 (Dropout)         (None, 4, 4, 256)         0         \n",
      "                                                                 \n",
      " conv2d_3 (Conv2D)           (None, 1, 1, 1)           4096      \n",
      "                                                                 \n",
      " discrminator_output (Flatt  (None, 1)                 0         \n",
      " en)                                                             \n",
      "                                                                 \n",
      "=================================================================\n",
      "Total params: 375296 (1.43 MB)\n",
      "Trainable params: 374528 (1.43 MB)\n",
      "Non-trainable params: 768 (3.00 KB)\n",
      "_________________________________________________________________\n"
     ]
    }
   ],
   "source": [
    "discrminator_input = layers.Input(shape=(IMAGE_SIZE,IMAGE_SIZE,1),name=\"discriminator_input\")\n",
    "\n",
    "x = layers.Conv2D(64,kernel_size=(3,3),strides=2,padding=\"same\")(discrminator_input)\n",
    "x = layers.LeakyReLU()(x)\n",
    "x = layers.Dropout(rate=0.2)(x)\n",
    "\n",
    "x = layers.Conv2D(128,kernel_size=(3,3),strides=2,padding=\"same\")(x)\n",
    "x = layers.BatchNormalization()(x)\n",
    "x = layers.LeakyReLU()(x)\n",
    "x = layers.Dropout(rate=0.2)(x)\n",
    "\n",
    "x = layers.Conv2D(256,kernel_size=(3,3),strides=2,padding=\"same\")(x)\n",
    "x = layers.BatchNormalization()(x)\n",
    "x = layers.LeakyReLU()(x)\n",
    "x = layers.Dropout(rate=0.2)(x)\n",
    "\n",
    "x = layers.Conv2D(1,kernel_size=(4,4),strides=1,padding=\"valid\",use_bias=False,activation=\"sigmoid\")(x)\n",
    "discrminator_output = layers.Flatten(name=\"discrminator_output\")(x)\n",
    "\n",
    "discrminator = models.Model(discrminator_input,discrminator_output)\n",
    "discrminator.summary()"
   ],
   "metadata": {
    "collapsed": false,
    "ExecuteTime": {
     "end_time": "2024-03-11T22:16:26.264324Z",
     "start_time": "2024-03-11T22:16:26.155995Z"
    }
   },
   "id": "33ea5c0fe80ad59a",
   "execution_count": 7
  },
  {
   "cell_type": "markdown",
   "source": [
    "# Generator "
   ],
   "metadata": {
    "collapsed": false
   },
   "id": "e2eec064fe7ad72f"
  },
  {
   "cell_type": "code",
   "outputs": [
    {
     "name": "stdout",
     "output_type": "stream",
     "text": [
      "Model: \"model_1\"\n",
      "_________________________________________________________________\n",
      " Layer (type)                Output Shape              Param #   \n",
      "=================================================================\n",
      " input_1 (InputLayer)        [(None, 128)]             0         \n",
      "                                                                 \n",
      " dense (Dense)               (None, 64)                8256      \n",
      "                                                                 \n",
      " reshape (Reshape)           (None, 2, 2, 16)          0         \n",
      "                                                                 \n",
      " conv2d_transpose (Conv2DTr  (None, 4, 4, 8)           1160      \n",
      " anspose)                                                        \n",
      "                                                                 \n",
      " batch_normalization_2 (Bat  (None, 4, 4, 8)           32        \n",
      " chNormalization)                                                \n",
      "                                                                 \n",
      " leaky_re_lu_3 (LeakyReLU)   (None, 4, 4, 8)           0         \n",
      "                                                                 \n",
      " conv2d_transpose_1 (Conv2D  (None, 8, 8, 16)          1168      \n",
      " Transpose)                                                      \n",
      "                                                                 \n",
      " batch_normalization_3 (Bat  (None, 8, 8, 16)          64        \n",
      " chNormalization)                                                \n",
      "                                                                 \n",
      " leaky_re_lu_4 (LeakyReLU)   (None, 8, 8, 16)          0         \n",
      "                                                                 \n",
      " conv2d_transpose_2 (Conv2D  (None, 16, 16, 32)        4640      \n",
      " Transpose)                                                      \n",
      "                                                                 \n",
      " batch_normalization_4 (Bat  (None, 16, 16, 32)        128       \n",
      " chNormalization)                                                \n",
      "                                                                 \n",
      " leaky_re_lu_5 (LeakyReLU)   (None, 16, 16, 32)        0         \n",
      "                                                                 \n",
      " conv2d_transpose_3 (Conv2D  (None, 32, 32, 64)        18496     \n",
      " Transpose)                                                      \n",
      "                                                                 \n",
      " batch_normalization_5 (Bat  (None, 32, 32, 64)        256       \n",
      " chNormalization)                                                \n",
      "                                                                 \n",
      " leaky_re_lu_6 (LeakyReLU)   (None, 32, 32, 64)        0         \n",
      "                                                                 \n",
      " conv2d_4 (Conv2D)           (None, 32, 32, 1)         577       \n",
      "                                                                 \n",
      "=================================================================\n",
      "Total params: 34777 (135.85 KB)\n",
      "Trainable params: 34537 (134.91 KB)\n",
      "Non-trainable params: 240 (960.00 Byte)\n",
      "_________________________________________________________________\n"
     ]
    }
   ],
   "source": [
    "generator_input = layers.Input(shape=(Z_DIM,))\n",
    "\n",
    "x = layers.Dense(2*2*16)(generator_input)\n",
    "x = layers.Reshape((2,2,16))(x)\n",
    "\n",
    "x = layers.Conv2DTranspose(8,kernel_size=(3,3),strides=2,padding=\"same\")(x)\n",
    "x = layers.BatchNormalization()(x)\n",
    "x = layers.LeakyReLU()(x)\n",
    "\n",
    "x = layers.Conv2DTranspose(16,kernel_size=(3,3),strides=2,padding=\"same\")(x)\n",
    "x = layers.BatchNormalization()(x)\n",
    "x = layers.LeakyReLU()(x)\n",
    "\n",
    "x = layers.Conv2DTranspose(32,kernel_size=(3,3),strides=2,padding=\"same\")(x)\n",
    "x = layers.BatchNormalization()(x)\n",
    "x = layers.LeakyReLU()(x)\n",
    "\n",
    "x = layers.Conv2DTranspose(64,kernel_size=(3,3),strides=2,padding=\"same\")(x)\n",
    "x = layers.BatchNormalization()(x)\n",
    "x = layers.LeakyReLU()(x)\n",
    "\n",
    "generator_output = layers.Conv2D(1,kernel_size=3,strides=1,padding=\"same\",activation=\"sigmoid\")(x)\n",
    "\n",
    "generator = models.Model(generator_input,generator_output)\n",
    "generator.summary()"
   ],
   "metadata": {
    "collapsed": false,
    "ExecuteTime": {
     "end_time": "2024-03-11T22:16:26.329258Z",
     "start_time": "2024-03-11T22:16:26.265023Z"
    }
   },
   "id": "34a6fef736006a69",
   "execution_count": 8
  },
  {
   "cell_type": "markdown",
   "source": [
    "# GAN"
   ],
   "metadata": {
    "collapsed": false
   },
   "id": "b43d1238f6c5cfeb"
  },
  {
   "cell_type": "code",
   "outputs": [],
   "source": [
    "class DCGAN(models.Model):\n",
    "    def __init__(self,my_discriminator,my_generator,z_dim=Z_DIM):\n",
    "        super(DCGAN,self).__init__()\n",
    "        \n",
    "        self.discriminator = my_discriminator\n",
    "        self.generator = my_generator\n",
    "        self.z_dim = z_dim\n",
    "        self.discriminator_opt = None\n",
    "        self.generator_opt = None\n",
    "        self.loss_fn = None\n",
    "        self.g_loss = None\n",
    "        self.d_loss = None\n",
    "        \n",
    "    def call(self, inputs, training=None, mask=None):\n",
    "        # This method should handle both real and generated images\n",
    "        return self.discriminator(inputs)\n",
    "    \n",
    "    def compile(self,d_opt,g_opt,loss_fn):\n",
    "        super(DCGAN,self).compile()\n",
    "        self.discriminator_opt = d_opt\n",
    "        self.generator_opt = g_opt\n",
    "        self.loss_fn = loss_fn\n",
    "        self.discriminator.compile(optimizer=self.discriminator_opt,loss=self.loss_fn)\n",
    "        self.generator.compile(optimizer=self.generator_opt,loss=self.loss_fn)\n",
    "        self.d_loss = metrics.Mean(name=\"d_loss\")\n",
    "        self.g_loss = metrics.Mean(name=\"g_loss\")\n",
    "        \n",
    "        \n",
    "    @property\n",
    "    def metrics(self):\n",
    "        return [self.d_loss,self.g_loss]\n",
    "    \n",
    "    def train_step(self, real_imgs):\n",
    "        batch_size = tf.shape(real_imgs)[0]\n",
    "        sample_vector = tf.random.normal(shape=(batch_size, self.z_dim))\n",
    "        \n",
    "        with tf.GradientTape() as tape:\n",
    "            generated_images = self.generator(sample_vector)\n",
    "            concat_imgs = tf.concat([real_imgs, generated_images], axis=0)\n",
    "            labels = tf.concat([tf.ones((batch_size, 1)), tf.zeros((batch_size, 1))], axis=0)\n",
    "            predictions = self.discriminator(concat_imgs)\n",
    "            d_loss = self.loss_fn(labels, predictions)\n",
    "            \n",
    "        grads = tape.gradient(d_loss, self.discriminator.trainable_weights)\n",
    "        self.discriminator_opt.apply_gradients(zip(grads, self.discriminator.trainable_weights))\n",
    "        \n",
    "        sample_vector = tf.random.normal(shape=(batch_size, self.z_dim))\n",
    "        false_labels = tf.ones((batch_size, 1))\n",
    "        \n",
    "        with tf.GradientTape() as tape:\n",
    "            fake_imgs = self.generator(sample_vector)\n",
    "            d_predictions = self.discriminator(fake_imgs)\n",
    "            g_loss = self.loss_fn(false_labels, d_predictions)\n",
    "            \n",
    "        grads = tape.gradient(g_loss, self.generator.trainable_weights)\n",
    "        self.generator_opt.apply_gradients(zip(grads, self.generator.trainable_weights))\n",
    "        \n",
    "        self.g_loss.update_state(g_loss)\n",
    "        self.d_loss.update_state(d_loss)\n",
    "        \n",
    "        return {\n",
    "            \"d_loss\": self.d_loss.result(),\n",
    "            \"g_loss\": self.g_loss.result()\n",
    "        }\n",
    "        "
   ],
   "metadata": {
    "collapsed": false
   },
   "id": "6e2a935f85535d78",
   "execution_count": 9
  },
  {
   "cell_type": "code",
   "outputs": [],
   "source": [
    "dcgan = DCGAN(discrminator,generator)"
   ],
   "metadata": {
    "collapsed": false,
    "ExecuteTime": {
     "end_time": "2024-03-11T22:16:26.340828Z",
     "start_time": "2024-03-11T22:16:26.337366Z"
    }
   },
   "id": "24415e0601b95068",
   "execution_count": 10
  },
  {
   "cell_type": "code",
   "outputs": [],
   "source": [
    "import sys\n",
    "sys.path.append(\"../utils\")\n",
    "\n",
    "from utils.ImageGenerator import ImageGenerator"
   ],
   "metadata": {
    "collapsed": false,
    "ExecuteTime": {
     "end_time": "2024-03-11T22:16:26.345081Z",
     "start_time": "2024-03-11T22:16:26.341794Z"
    }
   },
   "id": "4cdbffdadefc7621",
   "execution_count": 11
  },
  {
   "cell_type": "code",
   "outputs": [],
   "source": [
    "d_opt = optimizers.legacy.Adam()\n",
    "g_opt = optimizers.legacy.Adam()\n",
    "loss_fn = losses.BinaryCrossentropy()\n",
    "\n",
    "dcgan.compile(d_opt,g_opt,loss_fn)"
   ],
   "metadata": {
    "collapsed": false,
    "ExecuteTime": {
     "end_time": "2024-03-11T22:16:26.357644Z",
     "start_time": "2024-03-11T22:16:26.345506Z"
    }
   },
   "id": "aa6969c821a5be6",
   "execution_count": 12
  },
  {
   "cell_type": "code",
   "outputs": [],
   "source": [
    "cb = ImageGenerator(1,Z_DIM,\"callbacks\")"
   ],
   "metadata": {
    "collapsed": false,
    "ExecuteTime": {
     "end_time": "2024-03-11T22:16:26.359666Z",
     "start_time": "2024-03-11T22:16:26.358192Z"
    }
   },
   "id": "32bc320d9d2ce0cc",
   "execution_count": 13
  },
  {
   "cell_type": "code",
   "outputs": [
    {
     "name": "stdout",
     "output_type": "stream",
     "text": [
      "Epoch 1/5\n",
      "4/4 [==============================] - 1s 56ms/step - d_loss: 0.5586 - g_loss: 1.6524\n",
      "Epoch 2/5\n",
      "4/4 [==============================] - 0s 47ms/step - d_loss: 0.1727 - g_loss: 3.9341\n",
      "Epoch 3/5\n",
      "4/4 [==============================] - 0s 52ms/step - d_loss: 0.0099 - g_loss: 5.8976\n",
      "Epoch 4/5\n",
      "4/4 [==============================] - 0s 48ms/step - d_loss: 2.2995e-04 - g_loss: 10.0153\n",
      "Epoch 5/5\n",
      "4/4 [==============================] - 0s 54ms/step - d_loss: 5.7375e-05 - g_loss: 10.9207\n"
     ]
    }
   ],
   "source": [
    "hist = dcgan.fit(train,epochs=EPOCH,callbacks=cb)"
   ],
   "metadata": {
    "collapsed": false,
    "ExecuteTime": {
     "end_time": "2024-03-11T22:16:27.929211Z",
     "start_time": "2024-03-11T22:16:26.360082Z"
    }
   },
   "id": "ec1400022bbb6fd0",
   "execution_count": 14
  },
  {
   "cell_type": "code",
   "outputs": [],
   "source": [
    "#dcgan.save(\"dcgan-mnist\")"
   ],
   "metadata": {
    "collapsed": false,
    "ExecuteTime": {
     "end_time": "2024-03-11T22:16:27.931761Z",
     "start_time": "2024-03-11T22:16:27.929912Z"
    }
   },
   "id": "707bd847bda96175",
   "execution_count": 15
  },
  {
   "cell_type": "code",
   "outputs": [
    {
     "data": {
      "text/plain": "<Figure size 640x480 with 1 Axes>",
      "image/png": "[encoded data removed]"
     },
     "metadata": {},
     "output_type": "display_data"
    }
   ],
   "source": [
    "for key in hist.history:\n",
    "    plt.plot(hist.history[key],label=key)\n",
    "plt.legend()\n",
    "plt.show()"
   ],
   "metadata": {
    "collapsed": false,
    "ExecuteTime": {
     "end_time": "2024-03-11T22:16:27.983359Z",
     "start_time": "2024-03-11T22:16:27.932279Z"
    }
   },
   "id": "9fe2b7d3a0a3de4a",
   "execution_count": 16
  }
 ],
 "metadata": {
  "kernelspec": {
   "display_name": "Python 3",
   "language": "python",
   "name": "python3"
  },
  "language_info": {
   "codemirror_mode": {
    "name": "ipython",
    "version": 2
   },
   "file_extension": ".py",
   "mimetype": "text/x-python",
   "name": "python",
   "nbconvert_exporter": "python",
   "pygments_lexer": "ipython2",
   "version": "2.7.6"
  }
 },
 "nbformat": 4,
 "nbformat_minor": 5
}
