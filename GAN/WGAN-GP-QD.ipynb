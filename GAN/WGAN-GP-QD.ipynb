{
 "cells": [
  {
   "cell_type": "markdown",
   "source": [
    "# Import "
   ],
   "metadata": {
    "collapsed": false
   },
   "id": "33fb5df76d497fd7"
  },
  {
   "cell_type": "code",
   "execution_count": 143,
   "id": "initial_id",
   "metadata": {
    "collapsed": true,
    "ExecuteTime": {
     "end_time": "2024-03-15T09:07:06.034870Z",
     "start_time": "2024-03-15T09:07:06.029429Z"
    }
   },
   "outputs": [],
   "source": [
    "import tensorflow as tf\n",
    "import numpy as np\n",
    "import matplotlib.pyplot as plt\n"
   ]
  },
  {
   "cell_type": "markdown",
   "source": [
    "# Consts"
   ],
   "metadata": {
    "collapsed": false
   },
   "id": "fbe231739028da2d"
  },
  {
   "cell_type": "code",
   "outputs": [],
   "source": [
    "Z_DIM = 128 # latent dim used\n",
    "EPOCHS = 3 # number of epochs\n",
    "LEARNING_RATE = 0.0001 # learning rate\n",
    "BATCH_SIZE = 64 # size of batches"
   ],
   "metadata": {
    "collapsed": false,
    "ExecuteTime": {
     "end_time": "2024-03-15T09:07:06.057742Z",
     "start_time": "2024-03-15T09:07:06.054937Z"
    }
   },
   "id": "c0a7290720344e5e",
   "execution_count": 144
  },
  {
   "cell_type": "markdown",
   "source": [
    "# Load and Process the Data"
   ],
   "metadata": {
    "collapsed": false
   },
   "id": "327a077c42a91e85"
  },
  {
   "cell_type": "code",
   "outputs": [],
   "source": [
    "# load the dataset\n",
    "data = np.load(\"../data/full_numpy_bitmap_flower.npy\")"
   ],
   "metadata": {
    "collapsed": false,
    "ExecuteTime": {
     "end_time": "2024-03-15T09:07:06.129852Z",
     "start_time": "2024-03-15T09:07:06.058592Z"
    }
   },
   "id": "6b5bf813a7190350",
   "execution_count": 145
  },
  {
   "cell_type": "code",
   "outputs": [
    {
     "data": {
      "text/plain": "(144818, 28, 28, 1)"
     },
     "execution_count": 146,
     "metadata": {},
     "output_type": "execute_result"
    }
   ],
   "source": [
    "#reshape and normalize images\n",
    "data = data.reshape((-1, 28, 28, 1))\n",
    "data = data.astype(\"float32\") / 255\n",
    "data = data[:]\n",
    "data.shape"
   ],
   "metadata": {
    "collapsed": false,
    "ExecuteTime": {
     "end_time": "2024-03-15T09:07:06.433386Z",
     "start_time": "2024-03-15T09:07:06.132456Z"
    }
   },
   "id": "7c4d50d4cd07e17a",
   "execution_count": 146
  },
  {
   "cell_type": "code",
   "outputs": [
    {
     "data": {
      "text/plain": "<matplotlib.image.AxesImage at 0x164508050>"
     },
     "execution_count": 147,
     "metadata": {},
     "output_type": "execute_result"
    },
    {
     "data": {
      "text/plain": "<Figure size 640x480 with 1 Axes>",
      "image/png": "[encoded data removed]"
     },
     "metadata": {},
     "output_type": "display_data"
    }
   ],
   "source": [
    "# showing an image\n",
    "plt.imshow(data[np.random.choice(len(data))],cmap=\"gray\")"
   ],
   "metadata": {
    "collapsed": false,
    "ExecuteTime": {
     "end_time": "2024-03-15T09:07:06.562247Z",
     "start_time": "2024-03-15T09:07:06.434066Z"
    }
   },
   "id": "a40bb26d10004dbc",
   "execution_count": 147
  },
  {
   "cell_type": "code",
   "outputs": [],
   "source": [
    "from tensorflow.keras import layers,models"
   ],
   "metadata": {
    "collapsed": false,
    "ExecuteTime": {
     "end_time": "2024-03-15T09:07:06.568344Z",
     "start_time": "2024-03-15T09:07:06.564448Z"
    }
   },
   "id": "f60af0ab6804644",
   "execution_count": 148
  },
  {
   "cell_type": "markdown",
   "source": [
    "# Create the Critic \n",
    "the discriminator has become a critic.The difference between these two things is that the drisciminator \n",
    "performs a classification while the critic just gives a score on ]−∞;+∞[ (no sigmoid)\n",
    "+∞ = real\n",
    "−∞ = fake\n"
   ],
   "metadata": {
    "collapsed": false
   },
   "id": "3666cf5f3409f497"
  },
  {
   "cell_type": "code",
   "outputs": [
    {
     "name": "stdout",
     "output_type": "stream",
     "text": [
      "Model: \"critic\"\n",
      "_________________________________________________________________\n",
      " Layer (type)                Output Shape              Param #   \n",
      "=================================================================\n",
      " input_13 (InputLayer)       [(None, 28, 28, 1)]       0         \n",
      "                                                                 \n",
      " conv2d_36 (Conv2D)          (None, 14, 14, 64)        1088      \n",
      "                                                                 \n",
      " leaky_re_lu_18 (LeakyReLU)  (None, 14, 14, 64)        0         \n",
      "                                                                 \n",
      " conv2d_37 (Conv2D)          (None, 7, 7, 128)         131200    \n",
      "                                                                 \n",
      " leaky_re_lu_19 (LeakyReLU)  (None, 7, 7, 128)         0         \n",
      "                                                                 \n",
      " conv2d_38 (Conv2D)          (None, 4, 4, 128)         262272    \n",
      "                                                                 \n",
      " leaky_re_lu_20 (LeakyReLU)  (None, 4, 4, 128)         0         \n",
      "                                                                 \n",
      " flatten_6 (Flatten)         (None, 2048)              0         \n",
      "                                                                 \n",
      " dropout_6 (Dropout)         (None, 2048)              0         \n",
      "                                                                 \n",
      " dense_12 (Dense)            (None, 1)                 2049      \n",
      "                                                                 \n",
      "=================================================================\n",
      "Total params: 396609 (1.51 MB)\n",
      "Trainable params: 396609 (1.51 MB)\n",
      "Non-trainable params: 0 (0.00 Byte)\n",
      "_________________________________________________________________\n"
     ]
    }
   ],
   "source": [
    "critic_input  = layers.Input(shape=(28, 28, 1))\n",
    "x                   = layers.Conv2D(64, kernel_size=4, strides=2, padding=\"same\")(critic_input)\n",
    "x                   = layers.LeakyReLU(alpha=0.2)(x)\n",
    "x                   = layers.Conv2D(128, kernel_size=4, strides=2, padding=\"same\")(x)\n",
    "x                   = layers.LeakyReLU(alpha=0.2)(x)\n",
    "x                   = layers.Conv2D(128, kernel_size=4, strides=2, padding=\"same\")(x)\n",
    "x                   = layers.LeakyReLU(alpha=0.2)(x)\n",
    "x                   = layers.Flatten()(x)\n",
    "x                   = layers.Dropout(0.2)(x)\n",
    "critic_output       = layers.Dense(1)(x)\n",
    "\n",
    "critic = models.Model(critic_input, critic_output, name=\"critic\")\n",
    "critic.summary()"
   ],
   "metadata": {
    "collapsed": false,
    "ExecuteTime": {
     "end_time": "2024-03-15T09:07:06.723765Z",
     "start_time": "2024-03-15T09:07:06.569360Z"
    }
   },
   "id": "139d38d630cc7ba3",
   "execution_count": 149
  },
  {
   "cell_type": "markdown",
   "source": [
    "# Create the Generator "
   ],
   "metadata": {
    "collapsed": false
   },
   "id": "50afc013d807fcab"
  },
  {
   "cell_type": "code",
   "outputs": [
    {
     "name": "stdout",
     "output_type": "stream",
     "text": [
      "Model: \"generator\"\n",
      "_________________________________________________________________\n",
      " Layer (type)                Output Shape              Param #   \n",
      "=================================================================\n",
      " input_14 (InputLayer)       [(None, 128)]             0         \n",
      "                                                                 \n",
      " dense_13 (Dense)            (None, 3136)              404544    \n",
      "                                                                 \n",
      " reshape_6 (Reshape)         (None, 7, 7, 64)          0         \n",
      "                                                                 \n",
      " up_sampling2d_12 (UpSampli  (None, 14, 14, 64)        0         \n",
      " ng2D)                                                           \n",
      "                                                                 \n",
      " conv2d_39 (Conv2D)          (None, 14, 14, 128)       73856     \n",
      "                                                                 \n",
      " up_sampling2d_13 (UpSampli  (None, 28, 28, 128)       0         \n",
      " ng2D)                                                           \n",
      "                                                                 \n",
      " conv2d_40 (Conv2D)          (None, 28, 28, 256)       295168    \n",
      "                                                                 \n",
      " conv2d_41 (Conv2D)          (None, 28, 28, 1)         6401      \n",
      "                                                                 \n",
      "=================================================================\n",
      "Total params: 779969 (2.98 MB)\n",
      "Trainable params: 779969 (2.98 MB)\n",
      "Non-trainable params: 0 (0.00 Byte)\n",
      "_________________________________________________________________\n"
     ]
    }
   ],
   "source": [
    "generator_input  = layers.Input(shape=(Z_DIM,))\n",
    "x       = layers.Dense(7 * 7 * 64)(generator_input)\n",
    "x       = layers.Reshape((7, 7, 64))(x)\n",
    "x       = layers.UpSampling2D()(x)\n",
    "x       = layers.Conv2D(128,  kernel_size=3, strides=1, padding='same', activation='relu')(x)\n",
    "x       = layers.UpSampling2D()(x)\n",
    "x       = layers.Conv2D(256,  kernel_size=3, strides=1, padding='same', activation='relu')(x)\n",
    "generator_output = layers.Conv2D(1,    kernel_size=5, strides=1, padding=\"same\", activation=\"sigmoid\")(x)\n",
    "\n",
    "generator = models.Model(generator_input, generator_output, name=\"generator\")\n",
    "generator.summary()"
   ],
   "metadata": {
    "collapsed": false,
    "ExecuteTime": {
     "end_time": "2024-03-15T09:07:06.797134Z",
     "start_time": "2024-03-15T09:07:06.725103Z"
    }
   },
   "id": "83e1e20290daac40",
   "execution_count": 150
  },
  {
   "cell_type": "code",
   "outputs": [],
   "source": [
    "from tensorflow.keras import metrics "
   ],
   "metadata": {
    "collapsed": false
   },
   "id": "d2e83d84f80ecf4f",
   "execution_count": 151
  },
  {
   "cell_type": "markdown",
   "source": [
    "# Create the WDCGAN-GP Model"
   ],
   "metadata": {
    "collapsed": false
   },
   "id": "a52a2be63a364686"
  },
  {
   "cell_type": "code",
   "outputs": [],
   "source": [
    "class DCGAN(models.Model):\n",
    "    def __init__(self,my_critic,my_generator,z_dim=128,n_critic=3,lambda_gp=10,**kwargs):\n",
    "        super(DCGAN,self).__init__(**kwargs)\n",
    "\n",
    "        self.critic = my_critic\n",
    "        self.generator = my_generator\n",
    "        self.z_dim = z_dim\n",
    "        self.latent_dim = z_dim\n",
    "        self.n_critic = n_critic\n",
    "        self.lambda_gp = lambda_gp\n",
    "        \n",
    "        self.critic_opt = None\n",
    "        self.generator_opt = None\n",
    "        self.loss_fn = None\n",
    "        self.g_loss = None\n",
    "        self.c_loss = None\n",
    "        self.gp = None\n",
    "        \n",
    "    def call(self, inputs, training=None, mask=None):\n",
    "        return self.generator(inputs)\n",
    "    \n",
    "    def compile(self,d_opt,g_opt):\n",
    "        super(DCGAN,self).compile()\n",
    "        self.critic_opt = d_opt\n",
    "        self.generator_opt = g_opt\n",
    "        self.critic.compile(optimizer=self.critic_opt)\n",
    "        self.generator.compile(optimizer=self.generator_opt)\n",
    "        self.c_loss = metrics.Mean(name=\"c_loss\")\n",
    "        self.g_loss = metrics.Mean(name=\"g_loss\")\n",
    "        self.gp = metrics.Mean(name=\"gp\")\n",
    "        \n",
    "        \n",
    "    @property\n",
    "    def metrics(self):\n",
    "        return [self.c_loss,self.g_loss,self.gp]\n",
    "    \n",
    "    def gradient_penalty(self,batch_size,real_images,fake_images):\n",
    "        epsilon = tf.random.normal([batch_size,1,1,1],0.0,1.0)\n",
    "        interpolated = fake_images+epsilon*(real_images-fake_images)\n",
    "        \n",
    "        with tf.GradientTape() as gp_tape:\n",
    "            gp_tape.watch(interpolated)\n",
    "            interpolated_critics = self.critic(interpolated,training=True)\n",
    "        gradients = gp_tape.gradient(interpolated_critics,[interpolated])[0]\n",
    "        norm = tf.sqrt(tf.reduce_sum(tf.square(gradients),axis=[1,2,3]))\n",
    "        gp = self.lambda_gp * tf.reduce_mean((norm-1.0)**2)\n",
    "        return gp\n",
    "    \n",
    "    def train_step(self, real_images):\n",
    "        batch_size = tf.shape(real_images)[0]\n",
    "        \n",
    "        #*****TRAIN THE CRITIC*****\n",
    "        for i in range(self.n_critic):\n",
    "            random_latent_vectors = tf.random.normal(shape=(batch_size,self.latent_dim))\n",
    "            fake_images = self.generator(random_latent_vectors,training=True)\n",
    "            with tf.GradientTape() as tape:\n",
    "                \n",
    "                # get critics for the fake images : D(G(z))\n",
    "                fake_critics = self.critic(fake_images,training=True)\n",
    "                \n",
    "                # get  critics for the real images : D(x)\n",
    "                real_critics = self.critic(real_images,training=True)\n",
    "                \n",
    "                # Calculate the wasserstein discriminator loss: L = D(fake)-D(real)\n",
    "                w_loss = tf.reduce_mean(fake_critics) - tf.reduce_mean(real_critics)\n",
    "                \n",
    "                # Caluculate the gradient penalty\n",
    "                gp = self.gradient_penalty(batch_size,real_images,fake_images)\n",
    "                \n",
    "                d_loss = w_loss + gp\n",
    "                \n",
    "            gradients = tape.gradient(d_loss,self.critic.trainable_weights)\n",
    "            self.critic_opt.apply_gradients(zip(gradients,self.critic.trainable_weights))\n",
    "            self.c_loss.update_state(d_loss)\n",
    "            self.gp.update_state(gp)\n",
    "          \n",
    "        #*****TRAIN THE GENERATOR*****\n",
    "        random_latent_vectors = tf.random.normal(shape=(batch_size,self.latent_dim))\n",
    "        with tf.GradientTape() as tape:\n",
    "            fake_images = self.generator(random_latent_vectors,training=True)\n",
    "            fake_critics = self.critic(fake_images)\n",
    "            g_loss = -tf.reduce_mean(fake_critics)\n",
    "        gradients = tape.gradient(g_loss,self.generator.trainable_variables)\n",
    "        self.generator_opt.apply_gradients(zip(gradients,self.generator.trainable_variables))\n",
    "        self.g_loss.update_state(g_loss)\n",
    "        \n",
    "       \n",
    "        \n",
    "        return {\n",
    "            \"c_loss\": self.c_loss.result(),\n",
    "            \"g_loss\": self.g_loss.result(),\n",
    "            \"gp\":self.gp.result()\n",
    "        }"
   ],
   "metadata": {
    "collapsed": false,
    "ExecuteTime": {
     "end_time": "2024-03-15T09:07:06.813360Z",
     "start_time": "2024-03-15T09:07:06.801757Z"
    }
   },
   "id": "3c37d6cce3aee60",
   "execution_count": 152
  },
  {
   "cell_type": "code",
   "outputs": [],
   "source": [
    "from tensorflow.keras import optimizers\n",
    "from utils.ImageGenerator import ImageGenerator"
   ],
   "metadata": {
    "collapsed": false,
    "ExecuteTime": {
     "end_time": "2024-03-15T09:07:06.817600Z",
     "start_time": "2024-03-15T09:07:06.814383Z"
    }
   },
   "id": "d4a43d1d398e0d1",
   "execution_count": 153
  },
  {
   "cell_type": "markdown",
   "source": [
    "# Train the Model"
   ],
   "metadata": {
    "collapsed": false
   },
   "id": "37379c3f53bd2efb"
  },
  {
   "cell_type": "code",
   "outputs": [],
   "source": [
    "dcgan = DCGAN(critic,generator,z_dim=Z_DIM)"
   ],
   "metadata": {
    "collapsed": false,
    "ExecuteTime": {
     "end_time": "2024-03-15T09:07:06.824372Z",
     "start_time": "2024-03-15T09:07:06.820263Z"
    }
   },
   "id": "c305ab4871d2cfbd",
   "execution_count": 154
  },
  {
   "cell_type": "code",
   "outputs": [],
   "source": [
    "c_opt = optimizers.legacy.Adam(learning_rate=LEARNING_RATE)\n",
    "g_opt = optimizers.legacy.Adam(learning_rate=LEARNING_RATE)\n",
    "\n",
    "dcgan.compile(c_opt,g_opt)"
   ],
   "metadata": {
    "collapsed": false,
    "ExecuteTime": {
     "end_time": "2024-03-15T09:07:06.850174Z",
     "start_time": "2024-03-15T09:07:06.826336Z"
    }
   },
   "id": "20a23e76f15cc039",
   "execution_count": 155
  },
  {
   "cell_type": "code",
   "outputs": [
    {
     "name": "stdout",
     "output_type": "stream",
     "text": [
      "Epoch 1/3\n"
     ]
    },
    {
     "name": "stderr",
     "output_type": "stream",
     "text": [
      "\n",
      "KeyboardInterrupt\n",
      "\n"
     ]
    }
   ],
   "source": [
    "hist = dcgan.fit(data,batch_size=BATCH_SIZE,callbacks=ImageGenerator(10,Z_DIM,\"callbacks\"),epochs=EPOCHS)"
   ],
   "metadata": {
    "collapsed": false,
    "ExecuteTime": {
     "end_time": "2024-03-15T09:07:08.980237Z",
     "start_time": "2024-03-15T09:07:06.851901Z"
    }
   },
   "id": "688d73b7191d8ba7",
   "execution_count": 156
  },
  {
   "cell_type": "markdown",
   "source": [
    "# Save the Model"
   ],
   "metadata": {
    "collapsed": false
   },
   "id": "ad8621a074e150cb"
  },
  {
   "cell_type": "code",
   "outputs": [],
   "source": [
    "dcgan.save(\"wdcgan-gp-qd-flower.keras\")"
   ],
   "metadata": {
    "collapsed": false
   },
   "id": "eb5328fa01a77740",
   "execution_count": null
  },
  {
   "cell_type": "markdown",
   "source": [
    "# Generate Images"
   ],
   "metadata": {
    "collapsed": false
   },
   "id": "97a7f0b67b97bd3c"
  },
  {
   "cell_type": "code",
   "outputs": [],
   "source": [
    "nb_img = 5\n",
    "z = np.random.normal(size=(nb_img, Z_DIM, 1))\n",
    "predictions = dcgan.predict(z,verbose=False)\n",
    "\n",
    "fig,axs = plt.subplots(1,nb_img)\n",
    "for i in range(nb_img):\n",
    "    axs[i].imshow(predictions[i],cmap=\"gray\")\n",
    "    axs[i].axis(\"off\")\n",
    "plt.tight_layout()\n",
    "plt.show()\n"
   ],
   "metadata": {
    "collapsed": false
   },
   "id": "bf78f7c8d252350f",
   "execution_count": null
  }
 ],
 "metadata": {
  "kernelspec": {
   "display_name": "Python 3",
   "language": "python",
   "name": "python3"
  },
  "language_info": {
   "codemirror_mode": {
    "name": "ipython",
    "version": 2
   },
   "file_extension": ".py",
   "mimetype": "text/x-python",
   "name": "python",
   "nbconvert_exporter": "python",
   "pygments_lexer": "ipython2",
   "version": "2.7.6"
  }
 },
 "nbformat": 4,
 "nbformat_minor": 5
}
