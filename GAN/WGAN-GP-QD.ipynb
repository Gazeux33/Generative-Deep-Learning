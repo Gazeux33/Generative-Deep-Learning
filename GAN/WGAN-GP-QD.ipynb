{
 "cells": [
  {
   "cell_type": "markdown",
   "source": [
    "# Import "
   ],
   "metadata": {
    "collapsed": false
   },
   "id": "33fb5df76d497fd7"
  },
  {
   "cell_type": "code",
   "execution_count": 86,
   "id": "initial_id",
   "metadata": {
    "collapsed": true,
    "ExecuteTime": {
     "end_time": "2024-03-13T18:36:30.027219Z",
     "start_time": "2024-03-13T18:36:30.022399Z"
    }
   },
   "outputs": [],
   "source": [
    "import tensorflow as tf\n",
    "import numpy as np\n",
    "import matplotlib.pyplot as plt\n"
   ]
  },
  {
   "cell_type": "markdown",
   "source": [
    "# Consts"
   ],
   "metadata": {
    "collapsed": false
   },
   "id": "fbe231739028da2d"
  },
  {
   "cell_type": "code",
   "outputs": [],
   "source": [
    "Z_DIM = 128 # latent dim used\n",
    "EPOCHS = 3 # number of epochs\n",
    "LEARNING_RATE = 0.0001 # learning rate\n",
    "BATCH_SIZE = 64 # size of batches"
   ],
   "metadata": {
    "collapsed": false,
    "ExecuteTime": {
     "end_time": "2024-03-13T18:36:30.040151Z",
     "start_time": "2024-03-13T18:36:30.037381Z"
    }
   },
   "id": "c0a7290720344e5e",
   "execution_count": 87
  },
  {
   "cell_type": "markdown",
   "source": [
    "# Load and Process the Data"
   ],
   "metadata": {
    "collapsed": false
   },
   "id": "327a077c42a91e85"
  },
  {
   "cell_type": "code",
   "outputs": [],
   "source": [
    "# load the dataset\n",
    "data = np.load(\"../data/full_numpy_bitmap_flower.npy\")"
   ],
   "metadata": {
    "collapsed": false,
    "ExecuteTime": {
     "end_time": "2024-03-13T18:36:30.145086Z",
     "start_time": "2024-03-13T18:36:30.057687Z"
    }
   },
   "id": "6b5bf813a7190350",
   "execution_count": 88
  },
  {
   "cell_type": "code",
   "outputs": [
    {
     "data": {
      "text/plain": "(144818, 28, 28, 1)"
     },
     "execution_count": 89,
     "metadata": {},
     "output_type": "execute_result"
    }
   ],
   "source": [
    "#reshape and normalize images\n",
    "data = data.reshape((-1, 28, 28, 1))\n",
    "data = data.astype(\"float32\") / 255\n",
    "data = data[:]\n",
    "data.shape"
   ],
   "metadata": {
    "collapsed": false,
    "ExecuteTime": {
     "end_time": "2024-03-13T18:36:30.430991Z",
     "start_time": "2024-03-13T18:36:30.146721Z"
    }
   },
   "id": "7c4d50d4cd07e17a",
   "execution_count": 89
  },
  {
   "cell_type": "code",
   "outputs": [
    {
     "data": {
      "text/plain": "<matplotlib.image.AxesImage at 0x1630411d0>"
     },
     "execution_count": 90,
     "metadata": {},
     "output_type": "execute_result"
    },
    {
     "data": {
      "text/plain": "<Figure size 640x480 with 1 Axes>",
      "image/png": "[encoded data removed]"
     },
     "metadata": {},
     "output_type": "display_data"
    }
   ],
   "source": [
    "# showing an image\n",
    "plt.imshow(data[np.random.choice(len(data))],cmap=\"gray\")"
   ],
   "metadata": {
    "collapsed": false,
    "ExecuteTime": {
     "end_time": "2024-03-13T18:36:30.556770Z",
     "start_time": "2024-03-13T18:36:30.431753Z"
    }
   },
   "id": "a40bb26d10004dbc",
   "execution_count": 90
  },
  {
   "cell_type": "code",
   "outputs": [],
   "source": [
    "from tensorflow.keras import layers,models"
   ],
   "metadata": {
    "collapsed": false,
    "ExecuteTime": {
     "end_time": "2024-03-13T18:36:30.564136Z",
     "start_time": "2024-03-13T18:36:30.560491Z"
    }
   },
   "id": "f60af0ab6804644",
   "execution_count": 91
  },
  {
   "cell_type": "markdown",
   "source": [
    "# Create the Critic \n",
    "the discriminator has become a critic.The difference between these two things is that the drisciminator \n",
    "performs a classification while the critic just gives a score on ]−∞;+∞[ (no sigmoid)\n",
    "+∞ = real\n",
    "−∞ = fake\n"
   ],
   "metadata": {
    "collapsed": false
   },
   "id": "3666cf5f3409f497"
  },
  {
   "cell_type": "code",
   "outputs": [
    {
     "name": "stdout",
     "output_type": "stream",
     "text": [
      "Model: \"critic\"\n",
      "_________________________________________________________________\n",
      " Layer (type)                Output Shape              Param #   \n",
      "=================================================================\n",
      " input_11 (InputLayer)       [(None, 28, 28, 1)]       0         \n",
      "                                                                 \n",
      " conv2d_30 (Conv2D)          (None, 14, 14, 64)        1088      \n",
      "                                                                 \n",
      " leaky_re_lu_15 (LeakyReLU)  (None, 14, 14, 64)        0         \n",
      "                                                                 \n",
      " conv2d_31 (Conv2D)          (None, 7, 7, 128)         131200    \n",
      "                                                                 \n",
      " leaky_re_lu_16 (LeakyReLU)  (None, 7, 7, 128)         0         \n",
      "                                                                 \n",
      " conv2d_32 (Conv2D)          (None, 4, 4, 128)         262272    \n",
      "                                                                 \n",
      " leaky_re_lu_17 (LeakyReLU)  (None, 4, 4, 128)         0         \n",
      "                                                                 \n",
      " flatten_5 (Flatten)         (None, 2048)              0         \n",
      "                                                                 \n",
      " dropout_5 (Dropout)         (None, 2048)              0         \n",
      "                                                                 \n",
      " dense_10 (Dense)            (None, 1)                 2049      \n",
      "                                                                 \n",
      "=================================================================\n",
      "Total params: 396609 (1.51 MB)\n",
      "Trainable params: 396609 (1.51 MB)\n",
      "Non-trainable params: 0 (0.00 Byte)\n",
      "_________________________________________________________________\n"
     ]
    }
   ],
   "source": [
    "critic_input  = layers.Input(shape=(28, 28, 1))\n",
    "x                   = layers.Conv2D(64, kernel_size=4, strides=2, padding=\"same\")(critic_input)\n",
    "x                   = layers.LeakyReLU(alpha=0.2)(x)\n",
    "x                   = layers.Conv2D(128, kernel_size=4, strides=2, padding=\"same\")(x)\n",
    "x                   = layers.LeakyReLU(alpha=0.2)(x)\n",
    "x                   = layers.Conv2D(128, kernel_size=4, strides=2, padding=\"same\")(x)\n",
    "x                   = layers.LeakyReLU(alpha=0.2)(x)\n",
    "x                   = layers.Flatten()(x)\n",
    "x                   = layers.Dropout(0.2)(x)\n",
    "critic_output       = layers.Dense(1)(x)\n",
    "\n",
    "critic = models.Model(critic_input, critic_output, name=\"critic\")\n",
    "critic.summary()"
   ],
   "metadata": {
    "collapsed": false,
    "ExecuteTime": {
     "end_time": "2024-03-13T18:36:30.722884Z",
     "start_time": "2024-03-13T18:36:30.565693Z"
    }
   },
   "id": "139d38d630cc7ba3",
   "execution_count": 92
  },
  {
   "cell_type": "markdown",
   "source": [
    "# Create the Generator "
   ],
   "metadata": {
    "collapsed": false
   },
   "id": "50afc013d807fcab"
  },
  {
   "cell_type": "code",
   "outputs": [
    {
     "name": "stdout",
     "output_type": "stream",
     "text": [
      "Model: \"generator\"\n",
      "_________________________________________________________________\n",
      " Layer (type)                Output Shape              Param #   \n",
      "=================================================================\n",
      " input_12 (InputLayer)       [(None, 128)]             0         \n",
      "                                                                 \n",
      " dense_11 (Dense)            (None, 3136)              404544    \n",
      "                                                                 \n",
      " reshape_5 (Reshape)         (None, 7, 7, 64)          0         \n",
      "                                                                 \n",
      " up_sampling2d_10 (UpSampli  (None, 14, 14, 64)        0         \n",
      " ng2D)                                                           \n",
      "                                                                 \n",
      " conv2d_33 (Conv2D)          (None, 14, 14, 128)       73856     \n",
      "                                                                 \n",
      " up_sampling2d_11 (UpSampli  (None, 28, 28, 128)       0         \n",
      " ng2D)                                                           \n",
      "                                                                 \n",
      " conv2d_34 (Conv2D)          (None, 28, 28, 256)       295168    \n",
      "                                                                 \n",
      " conv2d_35 (Conv2D)          (None, 28, 28, 1)         6401      \n",
      "                                                                 \n",
      "=================================================================\n",
      "Total params: 779969 (2.98 MB)\n",
      "Trainable params: 779969 (2.98 MB)\n",
      "Non-trainable params: 0 (0.00 Byte)\n",
      "_________________________________________________________________\n"
     ]
    }
   ],
   "source": [
    "generator_input  = layers.Input(shape=(Z_DIM,))\n",
    "x       = layers.Dense(7 * 7 * 64)(generator_input)\n",
    "x       = layers.Reshape((7, 7, 64))(x)\n",
    "x       = layers.UpSampling2D()(x)\n",
    "x       = layers.Conv2D(128,  kernel_size=3, strides=1, padding='same', activation='relu')(x)\n",
    "x       = layers.UpSampling2D()(x)\n",
    "x       = layers.Conv2D(256,  kernel_size=3, strides=1, padding='same', activation='relu')(x)\n",
    "generator_output = layers.Conv2D(1,    kernel_size=5, strides=1, padding=\"same\", activation=\"sigmoid\")(x)\n",
    "\n",
    "generator = models.Model(generator_input, generator_output, name=\"generator\")\n",
    "generator.summary()"
   ],
   "metadata": {
    "collapsed": false,
    "ExecuteTime": {
     "end_time": "2024-03-13T18:36:30.780233Z",
     "start_time": "2024-03-13T18:36:30.725770Z"
    }
   },
   "id": "83e1e20290daac40",
   "execution_count": 93
  },
  {
   "cell_type": "code",
   "outputs": [],
   "source": [
    "from tensorflow.keras import metrics "
   ],
   "metadata": {
    "collapsed": false
   },
   "id": "d2e83d84f80ecf4f",
   "execution_count": 94
  },
  {
   "cell_type": "markdown",
   "source": [
    "# Create the WDCGAN-GP Model"
   ],
   "metadata": {
    "collapsed": false
   },
   "id": "a52a2be63a364686"
  },
  {
   "cell_type": "code",
   "outputs": [],
   "source": [
    "class DCGAN(models.Model):\n",
    "    def __init__(self,my_critic,my_generator,z_dim=128,n_critic=3,lambda_gp=10,**kwargs):\n",
    "        super(DCGAN,self).__init__(**kwargs)\n",
    "\n",
    "        self.critic = my_critic\n",
    "        self.generator = my_generator\n",
    "        self.z_dim = z_dim\n",
    "        self.latent_dim = z_dim\n",
    "        self.n_critic = n_critic\n",
    "        self.lambda_gp = lambda_gp\n",
    "        \n",
    "        self.critic_opt = None\n",
    "        self.generator_opt = None\n",
    "        self.loss_fn = None\n",
    "        self.g_loss = None\n",
    "        self.c_loss = None\n",
    "        self.gp = None\n",
    "        \n",
    "    def call(self, inputs, training=None, mask=None):\n",
    "        return self.generator(inputs)\n",
    "    \n",
    "    def compile(self,d_opt,g_opt):\n",
    "        super(DCGAN,self).compile()\n",
    "        self.critic_opt = d_opt\n",
    "        self.generator_opt = g_opt\n",
    "        self.critic.compile(optimizer=self.critic_opt)\n",
    "        self.generator.compile(optimizer=self.generator_opt)\n",
    "        self.c_loss = metrics.Mean(name=\"c_loss\")\n",
    "        self.g_loss = metrics.Mean(name=\"g_loss\")\n",
    "        self.gp = metrics.Mean(name=\"gp\")\n",
    "        \n",
    "        \n",
    "    @property\n",
    "    def metrics(self):\n",
    "        return [self.c_loss,self.g_loss,self.gp]\n",
    "    \n",
    "    def gradient_penalty(self,batch_size,real_images,fake_images):\n",
    "        epsilon = tf.random.normal([batch_size,1,1,1],0.0,1.0)\n",
    "        interpolated = fake_images+epsilon*(real_images-fake_images)\n",
    "        \n",
    "        with tf.GradientTape() as gp_tape:\n",
    "            gp_tape.watch(interpolated)\n",
    "            interpolated_critics = self.critic(interpolated,training=True)\n",
    "        gradients = gp_tape.gradient(interpolated_critics,[interpolated])[0]\n",
    "        norm = tf.sqrt(tf.reduce_sum(tf.square(gradients),axis=[1,2,3]))\n",
    "        gp = self.lambda_gp * tf.reduce_mean((norm-1.0)**2)\n",
    "        return gp\n",
    "    \n",
    "    def train_step(self, real_images):\n",
    "        batch_size = tf.shape(real_images)[0]\n",
    "        \n",
    "        #*****TRAIN THE CRITIC*****\n",
    "        for i in range(self.n_critic):\n",
    "            random_latent_vectors = tf.random.normal(shape=(batch_size,self.latent_dim))\n",
    "            fake_images = self.generator(random_latent_vectors,training=True)\n",
    "            with tf.GradientTape() as tape:\n",
    "                \n",
    "                # get critics for the fake images : D(G(z))\n",
    "                fake_critics = self.critic(fake_images,training=True)\n",
    "                \n",
    "                # get  critics for the real images : D(x)\n",
    "                real_critics = self.critic(real_images,training=True)\n",
    "                \n",
    "                # Calculate the wasserstein discriminator loss: L = D(fake)-D(real)\n",
    "                w_loss = tf.reduce_mean(fake_critics) - tf.reduce_mean(real_critics)\n",
    "                \n",
    "                # Caluculate the gradient penalty\n",
    "                gp = self.gradient_penalty(batch_size,real_images,fake_images)\n",
    "                \n",
    "                d_loss = w_loss + gp\n",
    "                \n",
    "            gradients = tape.gradient(d_loss,self.critic.trainable_weights)\n",
    "            self.critic_opt.apply_gradients(zip(gradients,self.critic.trainable_weights))\n",
    "            self.c_loss.update_state(d_loss)\n",
    "            self.gp.update_state(gp)\n",
    "          \n",
    "        #*****TRAIN THE GENERATOR*****\n",
    "        random_latent_vectors = tf.random.normal(shape=(batch_size,self.latent_dim))\n",
    "        with tf.GradientTape() as tape:\n",
    "            fake_images = self.generator(random_latent_vectors,training=True)\n",
    "            fake_critics = self.critic(fake_images)\n",
    "            g_loss = -tf.reduce_mean(fake_critics)\n",
    "        gradients = tape.gradient(g_loss,self.generator.trainable_variables)\n",
    "        self.generator_opt.apply_gradients(zip(gradients,self.generator.trainable_variables))\n",
    "        self.g_loss.update_state(g_loss)\n",
    "        \n",
    "       \n",
    "        \n",
    "        return {\n",
    "            \"c_loss\": self.c_loss.result(),\n",
    "            \"g_loss\": self.g_loss.result(),\n",
    "            \"gp\":self.gp.result()\n",
    "        }"
   ],
   "metadata": {
    "collapsed": false,
    "ExecuteTime": {
     "end_time": "2024-03-13T18:36:30.794653Z",
     "start_time": "2024-03-13T18:36:30.784066Z"
    }
   },
   "id": "3c37d6cce3aee60",
   "execution_count": 95
  },
  {
   "cell_type": "code",
   "outputs": [],
   "source": [
    "from tensorflow.keras import optimizers"
   ],
   "metadata": {
    "collapsed": false,
    "ExecuteTime": {
     "end_time": "2024-03-13T18:36:30.798801Z",
     "start_time": "2024-03-13T18:36:30.796579Z"
    }
   },
   "id": "d4a43d1d398e0d1",
   "execution_count": 96
  },
  {
   "cell_type": "markdown",
   "source": [
    "# Train the Model"
   ],
   "metadata": {
    "collapsed": false
   },
   "id": "37379c3f53bd2efb"
  },
  {
   "cell_type": "code",
   "outputs": [],
   "source": [
    "dcgan = DCGAN(critic,generator,z_dim=Z_DIM)"
   ],
   "metadata": {
    "collapsed": false,
    "ExecuteTime": {
     "end_time": "2024-03-13T18:36:30.810580Z",
     "start_time": "2024-03-13T18:36:30.804631Z"
    }
   },
   "id": "c305ab4871d2cfbd",
   "execution_count": 97
  },
  {
   "cell_type": "code",
   "outputs": [],
   "source": [
    "c_opt = optimizers.legacy.Adam(learning_rate=LEARNING_RATE)\n",
    "g_opt = optimizers.legacy.Adam(learning_rate=LEARNING_RATE)\n",
    "\n",
    "dcgan.compile(c_opt,g_opt)"
   ],
   "metadata": {
    "collapsed": false,
    "ExecuteTime": {
     "end_time": "2024-03-13T18:36:30.830176Z",
     "start_time": "2024-03-13T18:36:30.811372Z"
    }
   },
   "id": "20a23e76f15cc039",
   "execution_count": 98
  },
  {
   "cell_type": "code",
   "outputs": [],
   "source": [
    "from utils.ImageGenerator import ImageGenerator"
   ],
   "metadata": {
    "collapsed": false,
    "ExecuteTime": {
     "end_time": "2024-03-13T18:36:30.836242Z",
     "start_time": "2024-03-13T18:36:30.831788Z"
    }
   },
   "id": "85496c79335ff578",
   "execution_count": 99
  },
  {
   "cell_type": "code",
   "outputs": [
    {
     "name": "stdout",
     "output_type": "stream",
     "text": [
      "Epoch 1/3\n",
      "2263/2263 [==============================] - 3179s 1s/step - c_loss: -2.5938 - g_loss: 5.0251 - gp: 0.3568\n",
      "Epoch 2/3\n",
      "2263/2263 [==============================] - 3355s 1s/step - c_loss: -1.3235 - g_loss: 5.7020 - gp: 0.1078\n",
      "Epoch 3/3\n",
      " 156/2263 [=>............................] - ETA: 54:14 - c_loss: -1.1647 - g_loss: 5.9854 - gp: 0.1008"
     ]
    },
    {
     "ename": "KeyboardInterrupt",
     "evalue": "",
     "output_type": "error",
     "traceback": [
      "\u001B[0;31m---------------------------------------------------------------------------\u001B[0m",
      "\u001B[0;31mKeyboardInterrupt\u001B[0m                         Traceback (most recent call last)",
      "Cell \u001B[0;32mIn[100], line 1\u001B[0m\n\u001B[0;32m----> 1\u001B[0m hist \u001B[38;5;241m=\u001B[39m dcgan\u001B[38;5;241m.\u001B[39mfit(data,batch_size\u001B[38;5;241m=\u001B[39mBATCH_SIZE,callbacks\u001B[38;5;241m=\u001B[39mImageGenerator(\u001B[38;5;241m10\u001B[39m,Z_DIM,\u001B[38;5;124m\"\u001B[39m\u001B[38;5;124mcallbacks\u001B[39m\u001B[38;5;124m\"\u001B[39m),epochs\u001B[38;5;241m=\u001B[39mEPOCHS)\n",
      "File \u001B[0;32m~/anaconda3/envs/DeepLearning/lib/python3.11/site-packages/keras/src/utils/traceback_utils.py:65\u001B[0m, in \u001B[0;36mfilter_traceback.<locals>.error_handler\u001B[0;34m(*args, **kwargs)\u001B[0m\n\u001B[1;32m     63\u001B[0m filtered_tb \u001B[38;5;241m=\u001B[39m \u001B[38;5;28;01mNone\u001B[39;00m\n\u001B[1;32m     64\u001B[0m \u001B[38;5;28;01mtry\u001B[39;00m:\n\u001B[0;32m---> 65\u001B[0m     \u001B[38;5;28;01mreturn\u001B[39;00m fn(\u001B[38;5;241m*\u001B[39margs, \u001B[38;5;241m*\u001B[39m\u001B[38;5;241m*\u001B[39mkwargs)\n\u001B[1;32m     66\u001B[0m \u001B[38;5;28;01mexcept\u001B[39;00m \u001B[38;5;167;01mException\u001B[39;00m \u001B[38;5;28;01mas\u001B[39;00m e:\n\u001B[1;32m     67\u001B[0m     filtered_tb \u001B[38;5;241m=\u001B[39m _process_traceback_frames(e\u001B[38;5;241m.\u001B[39m__traceback__)\n",
      "File \u001B[0;32m~/anaconda3/envs/DeepLearning/lib/python3.11/site-packages/keras/src/engine/training.py:1807\u001B[0m, in \u001B[0;36mModel.fit\u001B[0;34m(self, x, y, batch_size, epochs, verbose, callbacks, validation_split, validation_data, shuffle, class_weight, sample_weight, initial_epoch, steps_per_epoch, validation_steps, validation_batch_size, validation_freq, max_queue_size, workers, use_multiprocessing)\u001B[0m\n\u001B[1;32m   1799\u001B[0m \u001B[38;5;28;01mwith\u001B[39;00m tf\u001B[38;5;241m.\u001B[39mprofiler\u001B[38;5;241m.\u001B[39mexperimental\u001B[38;5;241m.\u001B[39mTrace(\n\u001B[1;32m   1800\u001B[0m     \u001B[38;5;124m\"\u001B[39m\u001B[38;5;124mtrain\u001B[39m\u001B[38;5;124m\"\u001B[39m,\n\u001B[1;32m   1801\u001B[0m     epoch_num\u001B[38;5;241m=\u001B[39mepoch,\n\u001B[0;32m   (...)\u001B[0m\n\u001B[1;32m   1804\u001B[0m     _r\u001B[38;5;241m=\u001B[39m\u001B[38;5;241m1\u001B[39m,\n\u001B[1;32m   1805\u001B[0m ):\n\u001B[1;32m   1806\u001B[0m     callbacks\u001B[38;5;241m.\u001B[39mon_train_batch_begin(step)\n\u001B[0;32m-> 1807\u001B[0m     tmp_logs \u001B[38;5;241m=\u001B[39m \u001B[38;5;28mself\u001B[39m\u001B[38;5;241m.\u001B[39mtrain_function(iterator)\n\u001B[1;32m   1808\u001B[0m     \u001B[38;5;28;01mif\u001B[39;00m data_handler\u001B[38;5;241m.\u001B[39mshould_sync:\n\u001B[1;32m   1809\u001B[0m         context\u001B[38;5;241m.\u001B[39masync_wait()\n",
      "File \u001B[0;32m~/anaconda3/envs/DeepLearning/lib/python3.11/site-packages/tensorflow/python/util/traceback_utils.py:150\u001B[0m, in \u001B[0;36mfilter_traceback.<locals>.error_handler\u001B[0;34m(*args, **kwargs)\u001B[0m\n\u001B[1;32m    148\u001B[0m filtered_tb \u001B[38;5;241m=\u001B[39m \u001B[38;5;28;01mNone\u001B[39;00m\n\u001B[1;32m    149\u001B[0m \u001B[38;5;28;01mtry\u001B[39;00m:\n\u001B[0;32m--> 150\u001B[0m   \u001B[38;5;28;01mreturn\u001B[39;00m fn(\u001B[38;5;241m*\u001B[39margs, \u001B[38;5;241m*\u001B[39m\u001B[38;5;241m*\u001B[39mkwargs)\n\u001B[1;32m    151\u001B[0m \u001B[38;5;28;01mexcept\u001B[39;00m \u001B[38;5;167;01mException\u001B[39;00m \u001B[38;5;28;01mas\u001B[39;00m e:\n\u001B[1;32m    152\u001B[0m   filtered_tb \u001B[38;5;241m=\u001B[39m _process_traceback_frames(e\u001B[38;5;241m.\u001B[39m__traceback__)\n",
      "File \u001B[0;32m~/anaconda3/envs/DeepLearning/lib/python3.11/site-packages/tensorflow/python/eager/polymorphic_function/polymorphic_function.py:832\u001B[0m, in \u001B[0;36mFunction.__call__\u001B[0;34m(self, *args, **kwds)\u001B[0m\n\u001B[1;32m    829\u001B[0m compiler \u001B[38;5;241m=\u001B[39m \u001B[38;5;124m\"\u001B[39m\u001B[38;5;124mxla\u001B[39m\u001B[38;5;124m\"\u001B[39m \u001B[38;5;28;01mif\u001B[39;00m \u001B[38;5;28mself\u001B[39m\u001B[38;5;241m.\u001B[39m_jit_compile \u001B[38;5;28;01melse\u001B[39;00m \u001B[38;5;124m\"\u001B[39m\u001B[38;5;124mnonXla\u001B[39m\u001B[38;5;124m\"\u001B[39m\n\u001B[1;32m    831\u001B[0m \u001B[38;5;28;01mwith\u001B[39;00m OptionalXlaContext(\u001B[38;5;28mself\u001B[39m\u001B[38;5;241m.\u001B[39m_jit_compile):\n\u001B[0;32m--> 832\u001B[0m   result \u001B[38;5;241m=\u001B[39m \u001B[38;5;28mself\u001B[39m\u001B[38;5;241m.\u001B[39m_call(\u001B[38;5;241m*\u001B[39margs, \u001B[38;5;241m*\u001B[39m\u001B[38;5;241m*\u001B[39mkwds)\n\u001B[1;32m    834\u001B[0m new_tracing_count \u001B[38;5;241m=\u001B[39m \u001B[38;5;28mself\u001B[39m\u001B[38;5;241m.\u001B[39mexperimental_get_tracing_count()\n\u001B[1;32m    835\u001B[0m without_tracing \u001B[38;5;241m=\u001B[39m (tracing_count \u001B[38;5;241m==\u001B[39m new_tracing_count)\n",
      "File \u001B[0;32m~/anaconda3/envs/DeepLearning/lib/python3.11/site-packages/tensorflow/python/eager/polymorphic_function/polymorphic_function.py:868\u001B[0m, in \u001B[0;36mFunction._call\u001B[0;34m(self, *args, **kwds)\u001B[0m\n\u001B[1;32m    865\u001B[0m   \u001B[38;5;28mself\u001B[39m\u001B[38;5;241m.\u001B[39m_lock\u001B[38;5;241m.\u001B[39mrelease()\n\u001B[1;32m    866\u001B[0m   \u001B[38;5;66;03m# In this case we have created variables on the first call, so we run the\u001B[39;00m\n\u001B[1;32m    867\u001B[0m   \u001B[38;5;66;03m# defunned version which is guaranteed to never create variables.\u001B[39;00m\n\u001B[0;32m--> 868\u001B[0m   \u001B[38;5;28;01mreturn\u001B[39;00m tracing_compilation\u001B[38;5;241m.\u001B[39mcall_function(\n\u001B[1;32m    869\u001B[0m       args, kwds, \u001B[38;5;28mself\u001B[39m\u001B[38;5;241m.\u001B[39m_no_variable_creation_config\n\u001B[1;32m    870\u001B[0m   )\n\u001B[1;32m    871\u001B[0m \u001B[38;5;28;01melif\u001B[39;00m \u001B[38;5;28mself\u001B[39m\u001B[38;5;241m.\u001B[39m_variable_creation_config \u001B[38;5;129;01mis\u001B[39;00m \u001B[38;5;129;01mnot\u001B[39;00m \u001B[38;5;28;01mNone\u001B[39;00m:\n\u001B[1;32m    872\u001B[0m   \u001B[38;5;66;03m# Release the lock early so that multiple threads can perform the call\u001B[39;00m\n\u001B[1;32m    873\u001B[0m   \u001B[38;5;66;03m# in parallel.\u001B[39;00m\n\u001B[1;32m    874\u001B[0m   \u001B[38;5;28mself\u001B[39m\u001B[38;5;241m.\u001B[39m_lock\u001B[38;5;241m.\u001B[39mrelease()\n",
      "File \u001B[0;32m~/anaconda3/envs/DeepLearning/lib/python3.11/site-packages/tensorflow/python/eager/polymorphic_function/tracing_compilation.py:139\u001B[0m, in \u001B[0;36mcall_function\u001B[0;34m(args, kwargs, tracing_options)\u001B[0m\n\u001B[1;32m    137\u001B[0m bound_args \u001B[38;5;241m=\u001B[39m function\u001B[38;5;241m.\u001B[39mfunction_type\u001B[38;5;241m.\u001B[39mbind(\u001B[38;5;241m*\u001B[39margs, \u001B[38;5;241m*\u001B[39m\u001B[38;5;241m*\u001B[39mkwargs)\n\u001B[1;32m    138\u001B[0m flat_inputs \u001B[38;5;241m=\u001B[39m function\u001B[38;5;241m.\u001B[39mfunction_type\u001B[38;5;241m.\u001B[39munpack_inputs(bound_args)\n\u001B[0;32m--> 139\u001B[0m \u001B[38;5;28;01mreturn\u001B[39;00m function\u001B[38;5;241m.\u001B[39m_call_flat(  \u001B[38;5;66;03m# pylint: disable=protected-access\u001B[39;00m\n\u001B[1;32m    140\u001B[0m     flat_inputs, captured_inputs\u001B[38;5;241m=\u001B[39mfunction\u001B[38;5;241m.\u001B[39mcaptured_inputs\n\u001B[1;32m    141\u001B[0m )\n",
      "File \u001B[0;32m~/anaconda3/envs/DeepLearning/lib/python3.11/site-packages/tensorflow/python/eager/polymorphic_function/concrete_function.py:1323\u001B[0m, in \u001B[0;36mConcreteFunction._call_flat\u001B[0;34m(self, tensor_inputs, captured_inputs)\u001B[0m\n\u001B[1;32m   1319\u001B[0m possible_gradient_type \u001B[38;5;241m=\u001B[39m gradients_util\u001B[38;5;241m.\u001B[39mPossibleTapeGradientTypes(args)\n\u001B[1;32m   1320\u001B[0m \u001B[38;5;28;01mif\u001B[39;00m (possible_gradient_type \u001B[38;5;241m==\u001B[39m gradients_util\u001B[38;5;241m.\u001B[39mPOSSIBLE_GRADIENT_TYPES_NONE\n\u001B[1;32m   1321\u001B[0m     \u001B[38;5;129;01mand\u001B[39;00m executing_eagerly):\n\u001B[1;32m   1322\u001B[0m   \u001B[38;5;66;03m# No tape is watching; skip to running the function.\u001B[39;00m\n\u001B[0;32m-> 1323\u001B[0m   \u001B[38;5;28;01mreturn\u001B[39;00m \u001B[38;5;28mself\u001B[39m\u001B[38;5;241m.\u001B[39m_inference_function\u001B[38;5;241m.\u001B[39mcall_preflattened(args)\n\u001B[1;32m   1324\u001B[0m forward_backward \u001B[38;5;241m=\u001B[39m \u001B[38;5;28mself\u001B[39m\u001B[38;5;241m.\u001B[39m_select_forward_and_backward_functions(\n\u001B[1;32m   1325\u001B[0m     args,\n\u001B[1;32m   1326\u001B[0m     possible_gradient_type,\n\u001B[1;32m   1327\u001B[0m     executing_eagerly)\n\u001B[1;32m   1328\u001B[0m forward_function, args_with_tangents \u001B[38;5;241m=\u001B[39m forward_backward\u001B[38;5;241m.\u001B[39mforward()\n",
      "File \u001B[0;32m~/anaconda3/envs/DeepLearning/lib/python3.11/site-packages/tensorflow/python/eager/polymorphic_function/atomic_function.py:216\u001B[0m, in \u001B[0;36mAtomicFunction.call_preflattened\u001B[0;34m(self, args)\u001B[0m\n\u001B[1;32m    214\u001B[0m \u001B[38;5;28;01mdef\u001B[39;00m \u001B[38;5;21mcall_preflattened\u001B[39m(\u001B[38;5;28mself\u001B[39m, args: Sequence[core\u001B[38;5;241m.\u001B[39mTensor]) \u001B[38;5;241m-\u001B[39m\u001B[38;5;241m>\u001B[39m Any:\n\u001B[1;32m    215\u001B[0m \u001B[38;5;250m  \u001B[39m\u001B[38;5;124;03m\"\"\"Calls with flattened tensor inputs and returns the structured output.\"\"\"\u001B[39;00m\n\u001B[0;32m--> 216\u001B[0m   flat_outputs \u001B[38;5;241m=\u001B[39m \u001B[38;5;28mself\u001B[39m\u001B[38;5;241m.\u001B[39mcall_flat(\u001B[38;5;241m*\u001B[39margs)\n\u001B[1;32m    217\u001B[0m   \u001B[38;5;28;01mreturn\u001B[39;00m \u001B[38;5;28mself\u001B[39m\u001B[38;5;241m.\u001B[39mfunction_type\u001B[38;5;241m.\u001B[39mpack_output(flat_outputs)\n",
      "File \u001B[0;32m~/anaconda3/envs/DeepLearning/lib/python3.11/site-packages/tensorflow/python/eager/polymorphic_function/atomic_function.py:251\u001B[0m, in \u001B[0;36mAtomicFunction.call_flat\u001B[0;34m(self, *args)\u001B[0m\n\u001B[1;32m    249\u001B[0m \u001B[38;5;28;01mwith\u001B[39;00m record\u001B[38;5;241m.\u001B[39mstop_recording():\n\u001B[1;32m    250\u001B[0m   \u001B[38;5;28;01mif\u001B[39;00m \u001B[38;5;28mself\u001B[39m\u001B[38;5;241m.\u001B[39m_bound_context\u001B[38;5;241m.\u001B[39mexecuting_eagerly():\n\u001B[0;32m--> 251\u001B[0m     outputs \u001B[38;5;241m=\u001B[39m \u001B[38;5;28mself\u001B[39m\u001B[38;5;241m.\u001B[39m_bound_context\u001B[38;5;241m.\u001B[39mcall_function(\n\u001B[1;32m    252\u001B[0m         \u001B[38;5;28mself\u001B[39m\u001B[38;5;241m.\u001B[39mname,\n\u001B[1;32m    253\u001B[0m         \u001B[38;5;28mlist\u001B[39m(args),\n\u001B[1;32m    254\u001B[0m         \u001B[38;5;28mlen\u001B[39m(\u001B[38;5;28mself\u001B[39m\u001B[38;5;241m.\u001B[39mfunction_type\u001B[38;5;241m.\u001B[39mflat_outputs),\n\u001B[1;32m    255\u001B[0m     )\n\u001B[1;32m    256\u001B[0m   \u001B[38;5;28;01melse\u001B[39;00m:\n\u001B[1;32m    257\u001B[0m     outputs \u001B[38;5;241m=\u001B[39m make_call_op_in_graph(\n\u001B[1;32m    258\u001B[0m         \u001B[38;5;28mself\u001B[39m,\n\u001B[1;32m    259\u001B[0m         \u001B[38;5;28mlist\u001B[39m(args),\n\u001B[1;32m    260\u001B[0m         \u001B[38;5;28mself\u001B[39m\u001B[38;5;241m.\u001B[39m_bound_context\u001B[38;5;241m.\u001B[39mfunction_call_options\u001B[38;5;241m.\u001B[39mas_attrs(),\n\u001B[1;32m    261\u001B[0m     )\n",
      "File \u001B[0;32m~/anaconda3/envs/DeepLearning/lib/python3.11/site-packages/tensorflow/python/eager/context.py:1486\u001B[0m, in \u001B[0;36mContext.call_function\u001B[0;34m(self, name, tensor_inputs, num_outputs)\u001B[0m\n\u001B[1;32m   1484\u001B[0m cancellation_context \u001B[38;5;241m=\u001B[39m cancellation\u001B[38;5;241m.\u001B[39mcontext()\n\u001B[1;32m   1485\u001B[0m \u001B[38;5;28;01mif\u001B[39;00m cancellation_context \u001B[38;5;129;01mis\u001B[39;00m \u001B[38;5;28;01mNone\u001B[39;00m:\n\u001B[0;32m-> 1486\u001B[0m   outputs \u001B[38;5;241m=\u001B[39m execute\u001B[38;5;241m.\u001B[39mexecute(\n\u001B[1;32m   1487\u001B[0m       name\u001B[38;5;241m.\u001B[39mdecode(\u001B[38;5;124m\"\u001B[39m\u001B[38;5;124mutf-8\u001B[39m\u001B[38;5;124m\"\u001B[39m),\n\u001B[1;32m   1488\u001B[0m       num_outputs\u001B[38;5;241m=\u001B[39mnum_outputs,\n\u001B[1;32m   1489\u001B[0m       inputs\u001B[38;5;241m=\u001B[39mtensor_inputs,\n\u001B[1;32m   1490\u001B[0m       attrs\u001B[38;5;241m=\u001B[39mattrs,\n\u001B[1;32m   1491\u001B[0m       ctx\u001B[38;5;241m=\u001B[39m\u001B[38;5;28mself\u001B[39m,\n\u001B[1;32m   1492\u001B[0m   )\n\u001B[1;32m   1493\u001B[0m \u001B[38;5;28;01melse\u001B[39;00m:\n\u001B[1;32m   1494\u001B[0m   outputs \u001B[38;5;241m=\u001B[39m execute\u001B[38;5;241m.\u001B[39mexecute_with_cancellation(\n\u001B[1;32m   1495\u001B[0m       name\u001B[38;5;241m.\u001B[39mdecode(\u001B[38;5;124m\"\u001B[39m\u001B[38;5;124mutf-8\u001B[39m\u001B[38;5;124m\"\u001B[39m),\n\u001B[1;32m   1496\u001B[0m       num_outputs\u001B[38;5;241m=\u001B[39mnum_outputs,\n\u001B[0;32m   (...)\u001B[0m\n\u001B[1;32m   1500\u001B[0m       cancellation_manager\u001B[38;5;241m=\u001B[39mcancellation_context,\n\u001B[1;32m   1501\u001B[0m   )\n",
      "File \u001B[0;32m~/anaconda3/envs/DeepLearning/lib/python3.11/site-packages/tensorflow/python/eager/execute.py:53\u001B[0m, in \u001B[0;36mquick_execute\u001B[0;34m(op_name, num_outputs, inputs, attrs, ctx, name)\u001B[0m\n\u001B[1;32m     51\u001B[0m \u001B[38;5;28;01mtry\u001B[39;00m:\n\u001B[1;32m     52\u001B[0m   ctx\u001B[38;5;241m.\u001B[39mensure_initialized()\n\u001B[0;32m---> 53\u001B[0m   tensors \u001B[38;5;241m=\u001B[39m pywrap_tfe\u001B[38;5;241m.\u001B[39mTFE_Py_Execute(ctx\u001B[38;5;241m.\u001B[39m_handle, device_name, op_name,\n\u001B[1;32m     54\u001B[0m                                       inputs, attrs, num_outputs)\n\u001B[1;32m     55\u001B[0m \u001B[38;5;28;01mexcept\u001B[39;00m core\u001B[38;5;241m.\u001B[39m_NotOkStatusException \u001B[38;5;28;01mas\u001B[39;00m e:\n\u001B[1;32m     56\u001B[0m   \u001B[38;5;28;01mif\u001B[39;00m name \u001B[38;5;129;01mis\u001B[39;00m \u001B[38;5;129;01mnot\u001B[39;00m \u001B[38;5;28;01mNone\u001B[39;00m:\n",
      "\u001B[0;31mKeyboardInterrupt\u001B[0m: "
     ]
    }
   ],
   "source": [
    "hist = dcgan.fit(data,batch_size=BATCH_SIZE,callbacks=ImageGenerator(10,Z_DIM,\"callbacks\"),epochs=EPOCHS)"
   ],
   "metadata": {
    "collapsed": false,
    "ExecuteTime": {
     "end_time": "2024-03-13T20:29:27.751432Z",
     "start_time": "2024-03-13T18:36:30.837963Z"
    }
   },
   "id": "688d73b7191d8ba7",
   "execution_count": 100
  },
  {
   "cell_type": "code",
   "outputs": [
    {
     "name": "stdout",
     "output_type": "stream",
     "text": [
      "WARNING:tensorflow:Model's `__init__()` arguments contain non-serializable objects. Please implement a `get_config()` method in the subclassed Model for proper saving and loading. Defaulting to empty config.\n",
      "WARNING:tensorflow:Model's `__init__()` arguments contain non-serializable objects. Please implement a `get_config()` method in the subclassed Model for proper saving and loading. Defaulting to empty config.\n",
      "WARNING:tensorflow:Model's `__init__()` arguments contain non-serializable objects. Please implement a `get_config()` method in the subclassed Model for proper saving and loading. Defaulting to empty config.\n"
     ]
    }
   ],
   "source": [
    "dcgan.save(\"wdcgan-gp-qd-flower.keras\")"
   ],
   "metadata": {
    "collapsed": false,
    "ExecuteTime": {
     "end_time": "2024-03-13T20:29:30.884188Z",
     "start_time": "2024-03-13T20:29:30.816681Z"
    }
   },
   "id": "eb5328fa01a77740",
   "execution_count": 101
  },
  {
   "cell_type": "code",
   "outputs": [
    {
     "data": {
      "text/plain": "<Figure size 640x480 with 5 Axes>",
      "image/png": "[encoded data removed]"
     },
     "metadata": {},
     "output_type": "display_data"
    }
   ],
   "source": [
    "nb_img = 5\n",
    "z = np.random.normal(size=(nb_img, Z_DIM, 1))\n",
    "predictions = dcgan.predict(z,verbose=False)\n",
    "\n",
    "fig,axs = plt.subplots(1,nb_img)\n",
    "for i in range(nb_img):\n",
    "    axs[i].imshow(predictions[i],cmap=\"gray\")\n",
    "    #axs[i].axis(\"off\")\n",
    "plt.tight_layout()\n",
    "plt.show()\n"
   ],
   "metadata": {
    "collapsed": false,
    "ExecuteTime": {
     "end_time": "2024-03-13T20:34:52.690287Z",
     "start_time": "2024-03-13T20:34:52.546335Z"
    }
   },
   "id": "bf78f7c8d252350f",
   "execution_count": 135
  }
 ],
 "metadata": {
  "kernelspec": {
   "display_name": "Python 3",
   "language": "python",
   "name": "python3"
  },
  "language_info": {
   "codemirror_mode": {
    "name": "ipython",
    "version": 2
   },
   "file_extension": ".py",
   "mimetype": "text/x-python",
   "name": "python",
   "nbconvert_exporter": "python",
   "pygments_lexer": "ipython2",
   "version": "2.7.6"
  }
 },
 "nbformat": 4,
 "nbformat_minor": 5
}
