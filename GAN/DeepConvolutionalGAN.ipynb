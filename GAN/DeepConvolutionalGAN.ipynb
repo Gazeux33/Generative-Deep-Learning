{
 "cells": [
  {
   "cell_type": "code",
   "outputs": [],
   "source": [
    "import tensorflow as tf\n",
    "from tensorflow.keras import utils\n",
    "import matplotlib.pyplot as plt"
   ],
   "metadata": {
    "collapsed": false,
    "ExecuteTime": {
     "end_time": "2024-03-06T14:27:01.646336Z",
     "start_time": "2024-03-06T14:27:01.640363Z"
    }
   },
   "id": "150aefd357a121cd",
   "execution_count": 154
  },
  {
   "cell_type": "markdown",
   "source": [
    "# Generative adversarial network"
   ],
   "metadata": {
    "collapsed": false
   },
   "id": "64a63cf5422ac2c6"
  },
  {
   "cell_type": "code",
   "outputs": [],
   "source": [
    "NOISE_PARAM = 0.1\n",
    "ADAM_BETA_1 = 0.5\n",
    "ADAM_BETA_2 = 0.999\n",
    "LEARNING_RATE = 0.0002"
   ],
   "metadata": {
    "collapsed": false,
    "ExecuteTime": {
     "end_time": "2024-03-06T14:27:01.698370Z",
     "start_time": "2024-03-06T14:27:01.694098Z"
    }
   },
   "id": "239c2acca3f758ca",
   "execution_count": 155
  },
  {
   "cell_type": "code",
   "execution_count": 156,
   "id": "initial_id",
   "metadata": {
    "collapsed": true,
    "ExecuteTime": {
     "end_time": "2024-03-06T14:27:03.306163Z",
     "start_time": "2024-03-06T14:27:01.704240Z"
    }
   },
   "outputs": [
    {
     "name": "stdout",
     "output_type": "stream",
     "text": [
      "Found 40000 files belonging to 1 classes.\n"
     ]
    }
   ],
   "source": [
    "train_data = utils.image_dataset_from_directory(\n",
    "    \"../data/lego/dataset\",labels=None,\n",
    "    color_mode=\"grayscale\",\n",
    "    image_size=(64,64),\n",
    "    batch_size=128,\n",
    "    shuffle=True,\n",
    "    seed=42,\n",
    "    interpolation=\"bilinear\"\n",
    ")"
   ]
  },
  {
   "cell_type": "code",
   "outputs": [],
   "source": [
    "def preprocess(img):\n",
    "    img = (tf.cast(img,\"float32\")-127.5)/127.5\n",
    "    return img"
   ],
   "metadata": {
    "collapsed": false,
    "ExecuteTime": {
     "end_time": "2024-03-06T14:27:03.309804Z",
     "start_time": "2024-03-06T14:27:03.307611Z"
    }
   },
   "id": "c34caf91074d067d",
   "execution_count": 157
  },
  {
   "cell_type": "code",
   "outputs": [],
   "source": [
    "train = train_data.map(lambda x:preprocess(x))"
   ],
   "metadata": {
    "collapsed": false,
    "ExecuteTime": {
     "end_time": "2024-03-06T14:27:03.358671Z",
     "start_time": "2024-03-06T14:27:03.310298Z"
    }
   },
   "id": "6112c3132b72adee",
   "execution_count": 158
  },
  {
   "cell_type": "code",
   "outputs": [
    {
     "data": {
      "text/plain": "<Figure size 640x480 with 1 Axes>",
      "image/png": "[encoded data removed]"
     },
     "metadata": {},
     "output_type": "display_data"
    }
   ],
   "source": [
    "img = train_data.take(1).get_single_element()[0]\n",
    "\n",
    "fig = plt.subplot()\n",
    "fig.axis(\"off\")\n",
    "fig.set_title(\"brick\")\n",
    "fig.imshow(img,cmap=\"gray\")\n",
    "plt.show()\n"
   ],
   "metadata": {
    "collapsed": false,
    "ExecuteTime": {
     "end_time": "2024-03-06T14:27:03.880018Z",
     "start_time": "2024-03-06T14:27:03.359735Z"
    }
   },
   "id": "adc34c25e12d5913",
   "execution_count": 159
  },
  {
   "cell_type": "code",
   "outputs": [],
   "source": [
    "from tensorflow.keras import layers,models"
   ],
   "metadata": {
    "collapsed": false,
    "ExecuteTime": {
     "end_time": "2024-03-06T14:27:03.882800Z",
     "start_time": "2024-03-06T14:27:03.880838Z"
    }
   },
   "id": "28884151515d8f5b",
   "execution_count": 160
  },
  {
   "cell_type": "markdown",
   "source": [
    "# Discriminator"
   ],
   "metadata": {
    "collapsed": false
   },
   "id": "e9ab26c2c3232a66"
  },
  {
   "cell_type": "code",
   "outputs": [
    {
     "name": "stdout",
     "output_type": "stream",
     "text": [
      "Model: \"model_15\"\n",
      "_________________________________________________________________\n",
      " Layer (type)                Output Shape              Param #   \n",
      "=================================================================\n",
      " discriminator_input (Input  [(None, 64, 64, 1)]       0         \n",
      " Layer)                                                          \n",
      "                                                                 \n",
      " conv2d_50 (Conv2D)          (None, 32, 32, 64)        1024      \n",
      "                                                                 \n",
      " leaky_re_lu_68 (LeakyReLU)  (None, 32, 32, 64)        0         \n",
      "                                                                 \n",
      " dropout_40 (Dropout)        (None, 32, 32, 64)        0         \n",
      "                                                                 \n",
      " conv2d_51 (Conv2D)          (None, 16, 16, 128)       131072    \n",
      "                                                                 \n",
      " batch_normalization_58 (Ba  (None, 16, 16, 128)       512       \n",
      " tchNormalization)                                               \n",
      "                                                                 \n",
      " leaky_re_lu_69 (LeakyReLU)  (None, 16, 16, 128)       0         \n",
      "                                                                 \n",
      " dropout_41 (Dropout)        (None, 16, 16, 128)       0         \n",
      "                                                                 \n",
      " conv2d_52 (Conv2D)          (None, 8, 8, 256)         524288    \n",
      "                                                                 \n",
      " batch_normalization_59 (Ba  (None, 8, 8, 256)         1024      \n",
      " tchNormalization)                                               \n",
      "                                                                 \n",
      " leaky_re_lu_70 (LeakyReLU)  (None, 8, 8, 256)         0         \n",
      "                                                                 \n",
      " dropout_42 (Dropout)        (None, 8, 8, 256)         0         \n",
      "                                                                 \n",
      " conv2d_53 (Conv2D)          (None, 4, 4, 512)         2097152   \n",
      "                                                                 \n",
      " batch_normalization_60 (Ba  (None, 4, 4, 512)         2048      \n",
      " tchNormalization)                                               \n",
      "                                                                 \n",
      " leaky_re_lu_71 (LeakyReLU)  (None, 4, 4, 512)         0         \n",
      "                                                                 \n",
      " dropout_43 (Dropout)        (None, 4, 4, 512)         0         \n",
      "                                                                 \n",
      " conv2d_54 (Conv2D)          (None, 1, 1, 1)           8192      \n",
      "                                                                 \n",
      " flatten_10 (Flatten)        (None, 1)                 0         \n",
      "                                                                 \n",
      "=================================================================\n",
      "Total params: 2765312 (10.55 MB)\n",
      "Trainable params: 2763520 (10.54 MB)\n",
      "Non-trainable params: 1792 (7.00 KB)\n",
      "_________________________________________________________________\n"
     ]
    }
   ],
   "source": [
    "discriminator_input = layers.Input(shape=(64,64,1),name=\"discriminator_input\")\n",
    "\n",
    "x = layers.Conv2D(64,kernel_size=4,strides=2,padding=\"same\",use_bias=False)(discriminator_input)\n",
    "x = layers.LeakyReLU(0.2)(x)\n",
    "x = layers.Dropout(0.3)(x)\n",
    "\n",
    "x = layers.Conv2D(128,kernel_size=4,strides=2,padding=\"same\",use_bias=False)(x)\n",
    "x = layers.BatchNormalization(momentum=0.9)(x)\n",
    "x = layers.LeakyReLU(0.2)(x)\n",
    "x = layers.Dropout(0.3)(x)\n",
    "\n",
    "x = layers.Conv2D(256,kernel_size=4,strides=2,padding=\"same\",use_bias=False)(x)\n",
    "x = layers.BatchNormalization(momentum=0.9)(x)\n",
    "x = layers.LeakyReLU(0.2)(x)\n",
    "x = layers.Dropout(0.3)(x)\n",
    "\n",
    "x = layers.Conv2D(512,kernel_size=4,strides=2,padding=\"same\",use_bias=False)(x)\n",
    "x = layers.BatchNormalization(momentum=0.9)(x)\n",
    "x = layers.LeakyReLU(0.2)(x)\n",
    "x = layers.Dropout(0.3)(x)\n",
    "\n",
    "x = layers.Conv2D(1,kernel_size=4,strides=1,padding=\"valid\",use_bias=False,activation=\"sigmoid\")(x)\n",
    "\n",
    "discriminator_output = layers.Flatten()(x)\n",
    "\n",
    "discriminator = models.Model(discriminator_input,discriminator_output)\n",
    "discriminator.summary()\n",
    "\n"
   ],
   "metadata": {
    "collapsed": false,
    "ExecuteTime": {
     "end_time": "2024-03-06T14:27:03.972896Z",
     "start_time": "2024-03-06T14:27:03.883516Z"
    }
   },
   "id": "7a64b0fba35ad020",
   "execution_count": 161
  },
  {
   "cell_type": "markdown",
   "source": [
    "# Generator"
   ],
   "metadata": {
    "collapsed": false
   },
   "id": "8246f3cbded5ea91"
  },
  {
   "cell_type": "code",
   "outputs": [
    {
     "name": "stdout",
     "output_type": "stream",
     "text": [
      "Model: \"model_16\"\n",
      "_________________________________________________________________\n",
      " Layer (type)                Output Shape              Param #   \n",
      "=================================================================\n",
      " input_9 (InputLayer)        [(None, 100)]             0         \n",
      "                                                                 \n",
      " reshape_7 (Reshape)         (None, 1, 1, 100)         0         \n",
      "                                                                 \n",
      " conv2d_transpose_35 (Conv2  (None, 4, 4, 512)         819200    \n",
      " DTranspose)                                                     \n",
      "                                                                 \n",
      " batch_normalization_61 (Ba  (None, 4, 4, 512)         2048      \n",
      " tchNormalization)                                               \n",
      "                                                                 \n",
      " leaky_re_lu_72 (LeakyReLU)  (None, 4, 4, 512)         0         \n",
      "                                                                 \n",
      " conv2d_transpose_36 (Conv2  (None, 8, 8, 256)         2097152   \n",
      " DTranspose)                                                     \n",
      "                                                                 \n",
      " batch_normalization_62 (Ba  (None, 8, 8, 256)         1024      \n",
      " tchNormalization)                                               \n",
      "                                                                 \n",
      " leaky_re_lu_73 (LeakyReLU)  (None, 8, 8, 256)         0         \n",
      "                                                                 \n",
      " conv2d_transpose_37 (Conv2  (None, 16, 16, 128)       524288    \n",
      " DTranspose)                                                     \n",
      "                                                                 \n",
      " batch_normalization_63 (Ba  (None, 16, 16, 128)       512       \n",
      " tchNormalization)                                               \n",
      "                                                                 \n",
      " leaky_re_lu_74 (LeakyReLU)  (None, 16, 16, 128)       0         \n",
      "                                                                 \n",
      " conv2d_transpose_38 (Conv2  (None, 32, 32, 64)        131072    \n",
      " DTranspose)                                                     \n",
      "                                                                 \n",
      " batch_normalization_64 (Ba  (None, 32, 32, 64)        256       \n",
      " tchNormalization)                                               \n",
      "                                                                 \n",
      " leaky_re_lu_75 (LeakyReLU)  (None, 32, 32, 64)        0         \n",
      "                                                                 \n",
      " conv2d_transpose_39 (Conv2  (None, 64, 64, 1)         1024      \n",
      " DTranspose)                                                     \n",
      "                                                                 \n",
      "=================================================================\n",
      "Total params: 3576576 (13.64 MB)\n",
      "Trainable params: 3574656 (13.64 MB)\n",
      "Non-trainable params: 1920 (7.50 KB)\n",
      "_________________________________________________________________\n"
     ]
    }
   ],
   "source": [
    "generator_input = layers.Input(shape=(100,))\n",
    "x = layers.Reshape((1,1,100))(generator_input)\n",
    "\n",
    "x = layers.Conv2DTranspose(512,kernel_size=4,strides=1,padding=\"valid\",use_bias=False)(x)\n",
    "\n",
    "x = layers.BatchNormalization(momentum=0.9)(x)\n",
    "x = layers.LeakyReLU(0.2)(x)\n",
    "x = layers.Conv2DTranspose(256,kernel_size=4,strides=2,padding=\"same\",use_bias=False)(x)\n",
    "\n",
    "x = layers.BatchNormalization(momentum=0.9)(x)\n",
    "x = layers.LeakyReLU(0.2)(x)\n",
    "x = layers.Conv2DTranspose(128,kernel_size=4,strides=2,padding=\"same\",use_bias=False)(x)\n",
    "\n",
    "x = layers.BatchNormalization(momentum=0.9)(x)\n",
    "x = layers.LeakyReLU(0.2)(x)\n",
    "x = layers.Conv2DTranspose(64,kernel_size=4,strides=2,padding=\"same\",use_bias=False)(x)\n",
    "\n",
    "x = layers.BatchNormalization(momentum=0.9)(x)\n",
    "x = layers.LeakyReLU(0.2)(x)\n",
    "\n",
    "generator_output = layers.Conv2DTranspose(1,kernel_size=4,strides=2,padding=\"same\",use_bias=False,activation=\"tanh\")(x)\n",
    "\n",
    "generator = models.Model(generator_input,generator_output)\n",
    "generator.summary()\n",
    "\n"
   ],
   "metadata": {
    "collapsed": false,
    "ExecuteTime": {
     "end_time": "2024-03-06T14:27:04.085161Z",
     "start_time": "2024-03-06T14:27:03.974315Z"
    }
   },
   "id": "8b96c7a8bd3ff7ee",
   "execution_count": 162
  },
  {
   "cell_type": "code",
   "outputs": [],
   "source": [
    "from tensorflow.keras import losses,metrics,optimizers"
   ],
   "metadata": {
    "collapsed": false
   },
   "id": "16c80652b014415c",
   "execution_count": 163
  },
  {
   "cell_type": "markdown",
   "source": [
    "# DCGAN"
   ],
   "metadata": {
    "collapsed": false
   },
   "id": "45ad4f06e0c4036"
  },
  {
   "cell_type": "code",
   "outputs": [],
   "source": [
    "class DCGAN(models.Model):\n",
    "    def __init__(self,my_generator,my_discriminator,latent_dim):\n",
    "        super(DCGAN,self).__init__()\n",
    "        self.generator = my_generator\n",
    "        self.discriminator = my_discriminator\n",
    "        self.latent_dim = latent_dim\n",
    "        self.g_optimizer = None\n",
    "        self.loss_fn = None\n",
    "        self.g_loss_metric = None\n",
    "        self.d_optimizer = None\n",
    "        self.d_loss_metric = None\n",
    "    \n",
    "    def compile(self,g_optimizer,d_optimizer):\n",
    "        super(DCGAN,self).compile()\n",
    "        self.loss_fn = losses.BinaryCrossentropy()\n",
    "        self.g_optimizer = g_optimizer\n",
    "        self.d_optimizer = d_optimizer\n",
    "        self.g_loss_metric = metrics.Mean(name=\"g_loss\")\n",
    "        self.d_loss_metric = metrics.Mean(name=\"d_loss\")\n",
    "        \n",
    "    @property\n",
    "    def metrics(self):\n",
    "        return [self.g_loss_metric,self.d_loss_metric]\n",
    "    \n",
    "    def train_step(self, reals_images):\n",
    "        batch_size = tf.shape(reals_images)[0]\n",
    "        random_latent_vectors = tf.random.normal(shape=(batch_size,self.latent_dim))\n",
    "        with tf.GradientTape() as gen_tape,tf.GradientTape() as disc_tape:\n",
    "            generated_images = self.generator(random_latent_vectors,training=True)\n",
    "            \n",
    "            real_predictions = self.discriminator(reals_images,training=True)\n",
    "            fake_predictions = self.discriminator(generated_images,training=True)\n",
    "            \n",
    "            real_labels = tf.ones_like(real_predictions)\n",
    "            real_noisy_labels = real_labels + NOISE_PARAM * tf.random.uniform(\n",
    "                tf.shape(real_predictions)\n",
    "            )\n",
    "            fake_labels = tf.zeros_like(fake_predictions)\n",
    "            fake_noisy_labels = fake_labels - NOISE_PARAM * tf.random.uniform(\n",
    "                tf.shape(fake_predictions)\n",
    "            )\n",
    "\n",
    "            d_real_loss = self.loss_fn(real_noisy_labels, real_predictions)\n",
    "            d_fake_loss = self.loss_fn(fake_noisy_labels, fake_predictions)\n",
    "            d_loss = (d_real_loss + d_fake_loss) / 2.0\n",
    "\n",
    "            g_loss = self.loss_fn(real_labels, fake_predictions)\n",
    "        gradients_of_discriminator = disc_tape.gradient(\n",
    "            d_loss, self.discriminator.trainable_variables\n",
    "        )\n",
    "        gradients_of_generator = gen_tape.gradient(\n",
    "            g_loss, self.generator.trainable_variables\n",
    "        )\n",
    "\n",
    "        self.d_optimizer.apply_gradients(\n",
    "            zip(gradients_of_discriminator, discriminator.trainable_variables)\n",
    "        )\n",
    "        self.g_optimizer.apply_gradients(\n",
    "            zip(gradients_of_generator, generator.trainable_variables)\n",
    "        )\n",
    "\n",
    "        # Update metrics\n",
    "        self.d_loss_metric.update_state(d_loss)\n",
    "        self.g_loss_metric.update_state(g_loss)\n",
    "\n",
    "\n",
    "        return {m.name: m.result() for m in self.metrics}"
   ],
   "metadata": {
    "collapsed": false
   },
   "id": "bbced94f247b6942",
   "execution_count": 164
  },
  {
   "cell_type": "code",
   "outputs": [],
   "source": [
    "dcgan = DCGAN(generator,discriminator,100)\n",
    "dcgan.compile(\n",
    "    d_optimizer=optimizers.legacy.Adam(\n",
    "        learning_rate=LEARNING_RATE, beta_1=ADAM_BETA_1, beta_2=ADAM_BETA_2\n",
    "    ),\n",
    "    g_optimizer=optimizers.legacy.Adam(\n",
    "        learning_rate=LEARNING_RATE, beta_1=ADAM_BETA_1, beta_2=ADAM_BETA_2\n",
    "    ),\n",
    ")"
   ],
   "metadata": {
    "collapsed": false,
    "ExecuteTime": {
     "end_time": "2024-03-06T14:27:04.143503Z",
     "start_time": "2024-03-06T14:27:04.125050Z"
    }
   },
   "id": "edbd8080cedba336",
   "execution_count": 165
  },
  {
   "cell_type": "code",
   "outputs": [
    {
     "name": "stdout",
     "output_type": "stream",
     "text": [
      "Epoch 1/2\n",
      "313/313 [==============================] - 463s 1s/step - g_loss: 5.2361 - d_loss: 0.1568\n",
      "Epoch 2/2\n",
      "313/313 [==============================] - 519s 2s/step - g_loss: 4.9546 - d_loss: 0.0288\n"
     ]
    }
   ],
   "source": [
    "hist = dcgan.fit(train,epochs=2)"
   ],
   "metadata": {
    "collapsed": false,
    "ExecuteTime": {
     "end_time": "2024-03-06T14:43:26.467308Z",
     "start_time": "2024-03-06T14:27:04.144576Z"
    }
   },
   "id": "84e85563962a2c45",
   "execution_count": 166
  },
  {
   "cell_type": "code",
   "outputs": [],
   "source": [
    "dcgan.save(\"dcgan.keras\")"
   ],
   "metadata": {
    "collapsed": false
   },
   "id": "a66ac5632b1b9a88",
   "execution_count": null
  },
  {
   "cell_type": "code",
   "outputs": [
    {
     "name": "stdout",
     "output_type": "stream",
     "text": [
      "(5, 100)\n"
     ]
    }
   ],
   "source": [
    "number_of_images = 5\n",
    "noise_vectors = tf.random.normal(shape=(number_of_images,100))\n",
    "print(noise_vectors.shape)\n"
   ],
   "metadata": {
    "collapsed": false,
    "ExecuteTime": {
     "end_time": "2024-03-06T14:43:26.688993Z",
     "start_time": "2024-03-06T14:43:26.680883Z"
    }
   },
   "id": "80d582d0a04ce0f0",
   "execution_count": 168
  },
  {
   "cell_type": "code",
   "outputs": [
    {
     "name": "stdout",
     "output_type": "stream",
     "text": [
      "1/1 [==============================] - 0s 134ms/step\n"
     ]
    }
   ],
   "source": [
    "predictions = generator.predict(noise_vectors)"
   ],
   "metadata": {
    "collapsed": false,
    "ExecuteTime": {
     "end_time": "2024-03-06T14:43:26.895163Z",
     "start_time": "2024-03-06T14:43:26.689686Z"
    }
   },
   "id": "9fdc06ced7ac1c70",
   "execution_count": 169
  },
  {
   "cell_type": "code",
   "outputs": [
    {
     "data": {
      "text/plain": "(5, 64, 64, 1)"
     },
     "execution_count": 170,
     "metadata": {},
     "output_type": "execute_result"
    }
   ],
   "source": [
    "predictions.shape"
   ],
   "metadata": {
    "collapsed": false,
    "ExecuteTime": {
     "end_time": "2024-03-06T14:43:26.898431Z",
     "start_time": "2024-03-06T14:43:26.895851Z"
    }
   },
   "id": "ffacd0c1e58468e9",
   "execution_count": 170
  },
  {
   "cell_type": "code",
   "outputs": [
    {
     "data": {
      "text/plain": "<Figure size 640x480 with 5 Axes>",
      "image/png": "[encoded data removed]"
     },
     "metadata": {},
     "output_type": "display_data"
    }
   ],
   "source": [
    "fig,axs = plt.subplots(1,5)\n",
    "\n",
    "for i in range(5):\n",
    "    axs[i].imshow(predictions[i],cmap=\"gray\")\n",
    "    axs[i].axis(\"off\")\n",
    "plt.show()\n",
    "    \n",
    "        "
   ],
   "metadata": {
    "collapsed": false,
    "ExecuteTime": {
     "end_time": "2024-03-06T14:43:26.956999Z",
     "start_time": "2024-03-06T14:43:26.899016Z"
    }
   },
   "id": "c18fd417d40bec28",
   "execution_count": 171
  },
  {
   "cell_type": "code",
   "outputs": [
    {
     "name": "stdout",
     "output_type": "stream",
     "text": [
      "{'g_loss': [5.236103534698486, 4.954635143280029], 'd_loss': [0.15681545436382294, 0.028751444071531296]}\n"
     ]
    }
   ],
   "source": [
    "print(hist.history)"
   ],
   "metadata": {
    "collapsed": false,
    "ExecuteTime": {
     "end_time": "2024-03-06T14:43:26.961458Z",
     "start_time": "2024-03-06T14:43:26.959084Z"
    }
   },
   "id": "7c487c8c7468c07b",
   "execution_count": 172
  },
  {
   "cell_type": "code",
   "outputs": [
    {
     "data": {
      "text/plain": "<Figure size 640x480 with 1 Axes>",
      "image/png": "[encoded data removed]"
     },
     "metadata": {},
     "output_type": "display_data"
    }
   ],
   "source": [
    "plt.plot(hist.history[\"g_loss\"],label=\"g_loss\")\n",
    "plt.plot(hist.history[\"d_loss\"],label=\"d_loss\")\n",
    "plt.legend()\n",
    "plt.show()"
   ],
   "metadata": {
    "collapsed": false,
    "ExecuteTime": {
     "end_time": "2024-03-06T14:43:27.019758Z",
     "start_time": "2024-03-06T14:43:26.962675Z"
    }
   },
   "id": "ccb7a1f69ec99a25",
   "execution_count": 173
  }
 ],
 "metadata": {
  "kernelspec": {
   "display_name": "Python 3",
   "language": "python",
   "name": "python3"
  },
  "language_info": {
   "codemirror_mode": {
    "name": "ipython",
    "version": 2
   },
   "file_extension": ".py",
   "mimetype": "text/x-python",
   "name": "python",
   "nbconvert_exporter": "python",
   "pygments_lexer": "ipython2",
   "version": "2.7.6"
  }
 },
 "nbformat": 4,
 "nbformat_minor": 5
}
