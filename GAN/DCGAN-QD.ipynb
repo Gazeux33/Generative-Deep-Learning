{
 "cells": [
  {
   "cell_type": "code",
   "execution_count": 1,
   "id": "initial_id",
   "metadata": {
    "collapsed": true,
    "ExecuteTime": {
     "end_time": "2024-03-12T11:53:10.013437Z",
     "start_time": "2024-03-12T11:53:06.191318Z"
    }
   },
   "outputs": [],
   "source": [
    "import tensorflow as tf\n",
    "import numpy as np\n",
    "import matplotlib.pyplot as plt\n",
    "import sys"
   ]
  },
  {
   "cell_type": "code",
   "outputs": [],
   "source": [
    "sys.path.append(\"../utils\")"
   ],
   "metadata": {
    "collapsed": false,
    "ExecuteTime": {
     "end_time": "2024-03-12T11:53:10.018211Z",
     "start_time": "2024-03-12T11:53:10.015579Z"
    }
   },
   "id": "6a7556b5eb0c1208",
   "execution_count": 2
  },
  {
   "cell_type": "code",
   "outputs": [],
   "source": [
    "from utils.ImageGenerator import ImageGenerator"
   ],
   "metadata": {
    "collapsed": false,
    "ExecuteTime": {
     "end_time": "2024-03-12T11:53:10.045601Z",
     "start_time": "2024-03-12T11:53:10.019559Z"
    }
   },
   "id": "ed79311963187f5a",
   "execution_count": 3
  },
  {
   "cell_type": "code",
   "outputs": [],
   "source": [
    "data = np.load(\"../data/full_numpy_bitmap_dragon.npy\")"
   ],
   "metadata": {
    "collapsed": false,
    "ExecuteTime": {
     "end_time": "2024-03-12T11:53:10.107184Z",
     "start_time": "2024-03-12T11:53:10.046876Z"
    }
   },
   "id": "4d4eae0d8cb569f7",
   "execution_count": 4
  },
  {
   "cell_type": "code",
   "outputs": [],
   "source": [
    "data = data.reshape((-1,28,28,1))\n",
    "data = data.astype(\"float32\")/255"
   ],
   "metadata": {
    "collapsed": false,
    "ExecuteTime": {
     "end_time": "2024-03-12T11:53:10.228883Z",
     "start_time": "2024-03-12T11:53:10.109164Z"
    }
   },
   "id": "22c327946871190e",
   "execution_count": 5
  },
  {
   "cell_type": "code",
   "outputs": [
    {
     "data": {
      "text/plain": "(124362, 28, 28, 1)"
     },
     "execution_count": 6,
     "metadata": {},
     "output_type": "execute_result"
    }
   ],
   "source": [
    "data.shape"
   ],
   "metadata": {
    "collapsed": false,
    "ExecuteTime": {
     "end_time": "2024-03-12T11:53:10.233604Z",
     "start_time": "2024-03-12T11:53:10.229495Z"
    }
   },
   "id": "a2b31f98dd735aa",
   "execution_count": 6
  },
  {
   "cell_type": "code",
   "outputs": [
    {
     "name": "stdout",
     "output_type": "stream",
     "text": [
      "0.0\n",
      "1.0\n"
     ]
    }
   ],
   "source": [
    "print(data.min())\n",
    "print(data.max())"
   ],
   "metadata": {
    "collapsed": false,
    "ExecuteTime": {
     "end_time": "2024-03-12T11:53:10.255791Z",
     "start_time": "2024-03-12T11:53:10.234823Z"
    }
   },
   "id": "f1da0f22aa0649e2",
   "execution_count": 7
  },
  {
   "cell_type": "code",
   "outputs": [
    {
     "data": {
      "text/plain": "<matplotlib.image.AxesImage at 0x178aaaa10>"
     },
     "execution_count": 8,
     "metadata": {},
     "output_type": "execute_result"
    },
    {
     "data": {
      "text/plain": "<Figure size 640x480 with 1 Axes>",
      "image/png": "[encoded data removed]"
     },
     "metadata": {},
     "output_type": "display_data"
    }
   ],
   "source": [
    "plt.imshow(data[np.random.choice(len(data))],cmap=\"gray\")"
   ],
   "metadata": {
    "collapsed": false,
    "ExecuteTime": {
     "end_time": "2024-03-12T11:53:10.370812Z",
     "start_time": "2024-03-12T11:53:10.257099Z"
    }
   },
   "id": "4ebfe575f329af4e",
   "execution_count": 8
  },
  {
   "cell_type": "code",
   "outputs": [],
   "source": [
    "Z_DIM = 128\n",
    "EPOCHS = 5"
   ],
   "metadata": {
    "collapsed": false,
    "ExecuteTime": {
     "end_time": "2024-03-12T11:53:10.375415Z",
     "start_time": "2024-03-12T11:53:10.372767Z"
    }
   },
   "id": "76a8c2e364cb6a84",
   "execution_count": 9
  },
  {
   "cell_type": "code",
   "outputs": [],
   "source": [
    "from tensorflow.keras import layers,models,losses,optimizers,metrics"
   ],
   "metadata": {
    "collapsed": false,
    "ExecuteTime": {
     "end_time": "2024-03-12T11:53:10.379870Z",
     "start_time": "2024-03-12T11:53:10.376919Z"
    }
   },
   "id": "7908620e5440a6a4",
   "execution_count": 10
  },
  {
   "cell_type": "code",
   "outputs": [
    {
     "name": "stdout",
     "output_type": "stream",
     "text": [
      "Model: \"model\"\n",
      "_________________________________________________________________\n",
      " Layer (type)                Output Shape              Param #   \n",
      "=================================================================\n",
      " input_1 (InputLayer)        [(None, 28, 28, 1)]       0         \n",
      "                                                                 \n",
      " conv2d (Conv2D)             (None, 14, 14, 64)        1088      \n",
      "                                                                 \n",
      " leaky_re_lu (LeakyReLU)     (None, 14, 14, 64)        0         \n",
      "                                                                 \n",
      " conv2d_1 (Conv2D)           (None, 7, 7, 128)         131200    \n",
      "                                                                 \n",
      " leaky_re_lu_1 (LeakyReLU)   (None, 7, 7, 128)         0         \n",
      "                                                                 \n",
      " conv2d_2 (Conv2D)           (None, 4, 4, 128)         262272    \n",
      "                                                                 \n",
      " leaky_re_lu_2 (LeakyReLU)   (None, 4, 4, 128)         0         \n",
      "                                                                 \n",
      " flatten (Flatten)           (None, 2048)              0         \n",
      "                                                                 \n",
      " dropout (Dropout)           (None, 2048)              0         \n",
      "                                                                 \n",
      " dense (Dense)               (None, 1)                 2049      \n",
      "                                                                 \n",
      "=================================================================\n",
      "Total params: 396609 (1.51 MB)\n",
      "Trainable params: 396609 (1.51 MB)\n",
      "Non-trainable params: 0 (0.00 Byte)\n",
      "_________________________________________________________________\n"
     ]
    }
   ],
   "source": [
    "discriminator_input = layers.Input(shape=(28,28,1))\n",
    "x =                   layers.Conv2D(64,kernel_size=4,strides=2,padding=\"same\")(discriminator_input)\n",
    "x =                   layers.LeakyReLU(alpha=0.2)(x)\n",
    "x =                   layers.Conv2D(128,kernel_size=4,strides=2,padding=\"same\")(x)\n",
    "x =                   layers.LeakyReLU(alpha=0.2)(x)\n",
    "x =                   layers.Conv2D(128,kernel_size=4,strides=2,padding=\"same\")(x)\n",
    "x =                   layers.LeakyReLU(alpha=0.2)(x)\n",
    "x =                   layers.Flatten()(x)\n",
    "x =                   layers.Dropout(0.2)(x)\n",
    "discriminator_output= layers.Dense(1,activation=\"sigmoid\")(x)\n",
    "\n",
    "discriminator = models.Model(discriminator_input,discriminator_output)\n",
    "discriminator.summary()\n"
   ],
   "metadata": {
    "collapsed": false,
    "ExecuteTime": {
     "end_time": "2024-03-12T11:53:10.598693Z",
     "start_time": "2024-03-12T11:53:10.381050Z"
    }
   },
   "id": "7c66bd2c8059dc8",
   "execution_count": 11
  },
  {
   "cell_type": "code",
   "outputs": [
    {
     "name": "stdout",
     "output_type": "stream",
     "text": [
      "Model: \"model_1\"\n",
      "_________________________________________________________________\n",
      " Layer (type)                Output Shape              Param #   \n",
      "=================================================================\n",
      " input_2 (InputLayer)        [(None, 128)]             0         \n",
      "                                                                 \n",
      " dense_1 (Dense)             (None, 3136)              404544    \n",
      "                                                                 \n",
      " reshape (Reshape)           (None, 7, 7, 64)          0         \n",
      "                                                                 \n",
      " up_sampling2d (UpSampling2  (None, 14, 14, 64)        0         \n",
      " D)                                                              \n",
      "                                                                 \n",
      " conv2d_3 (Conv2D)           (None, 14, 14, 128)       73856     \n",
      "                                                                 \n",
      " up_sampling2d_1 (UpSamplin  (None, 28, 28, 128)       0         \n",
      " g2D)                                                            \n",
      "                                                                 \n",
      " conv2d_4 (Conv2D)           (None, 28, 28, 256)       295168    \n",
      "                                                                 \n",
      " conv2d_5 (Conv2D)           (None, 28, 28, 1)         6401      \n",
      "                                                                 \n",
      "=================================================================\n",
      "Total params: 779969 (2.98 MB)\n",
      "Trainable params: 779969 (2.98 MB)\n",
      "Non-trainable params: 0 (0.00 Byte)\n",
      "_________________________________________________________________\n"
     ]
    }
   ],
   "source": [
    "generator_input  = layers.Input(shape=(Z_DIM,))\n",
    "x       = layers.Dense(7 * 7 * 64)(generator_input)\n",
    "x       = layers.Reshape((7, 7, 64))(x)\n",
    "x       = layers.UpSampling2D()(x)\n",
    "x       = layers.Conv2D(128,  kernel_size=3, strides=1, padding='same', activation='relu')(x)\n",
    "x       = layers.UpSampling2D()(x)\n",
    "x       = layers.Conv2D(256,  kernel_size=3, strides=1, padding='same', activation='relu')(x)\n",
    "generator_output = layers.Conv2D(1,    kernel_size=5, strides=1, padding=\"same\", activation=\"sigmoid\")(x)\n",
    "\n",
    "generator = models.Model(generator_input,generator_output)\n",
    "generator.summary()"
   ],
   "metadata": {
    "collapsed": false,
    "ExecuteTime": {
     "end_time": "2024-03-12T11:53:10.653963Z",
     "start_time": "2024-03-12T11:53:10.599905Z"
    }
   },
   "id": "798fa04d1b502cf7",
   "execution_count": 12
  },
  {
   "cell_type": "code",
   "outputs": [],
   "source": [
    "class DCGAN(models.Model):\n",
    "    def __init__(self,my_discriminator,my_generator,z_dim=Z_DIM):\n",
    "        super(DCGAN,self).__init__()\n",
    "        \n",
    "        self.discriminator = my_discriminator\n",
    "        self.generator = my_generator\n",
    "        self.z_dim = z_dim\n",
    "        self.discriminator_opt = None\n",
    "        self.generator_opt = None\n",
    "        self.loss_fn = None\n",
    "        self.g_loss = None\n",
    "        self.d_loss = None\n",
    "        \n",
    "    def call(self, inputs, training=None, mask=None):\n",
    "        # This method should handle both real and generated images\n",
    "        return self.discriminator(inputs)\n",
    "    \n",
    "    def compile(self,d_opt,g_opt,loss_fn):\n",
    "        super(DCGAN,self).compile()\n",
    "        self.discriminator_opt = d_opt\n",
    "        self.generator_opt = g_opt\n",
    "        self.loss_fn = loss_fn\n",
    "        self.discriminator.compile(optimizer=self.discriminator_opt,loss=self.loss_fn)\n",
    "        self.generator.compile(optimizer=self.generator_opt,loss=self.loss_fn)\n",
    "        self.d_loss = metrics.Mean(name=\"d_loss\")\n",
    "        self.g_loss = metrics.Mean(name=\"g_loss\")\n",
    "        \n",
    "        \n",
    "    @property\n",
    "    def metrics(self):\n",
    "        return [self.d_loss,self.g_loss]\n",
    "    \n",
    "    def train_step(self, real_imgs):\n",
    "        batch_size = tf.shape(real_imgs)[0]\n",
    "        sample_vector = tf.random.normal(shape=(batch_size, self.z_dim))\n",
    "        \n",
    "        with tf.GradientTape() as tape:\n",
    "            generated_images = self.generator(sample_vector)\n",
    "            concat_imgs = tf.concat([real_imgs, generated_images], axis=0)\n",
    "            labels = tf.concat([tf.ones((batch_size, 1)), tf.zeros((batch_size, 1))], axis=0)\n",
    "            predictions = self.discriminator(concat_imgs)\n",
    "            d_loss = self.loss_fn(labels, predictions)\n",
    "            \n",
    "        grads = tape.gradient(d_loss, self.discriminator.trainable_weights)\n",
    "        self.discriminator_opt.apply_gradients(zip(grads, self.discriminator.trainable_weights))\n",
    "        \n",
    "        sample_vector = tf.random.normal(shape=(batch_size, self.z_dim))\n",
    "        false_labels = tf.ones((batch_size, 1))\n",
    "        \n",
    "        with tf.GradientTape() as tape:\n",
    "            fake_imgs = self.generator(sample_vector)\n",
    "            d_predictions = self.discriminator(fake_imgs)\n",
    "            g_loss = self.loss_fn(false_labels, d_predictions)\n",
    "            \n",
    "        grads = tape.gradient(g_loss, self.generator.trainable_weights)\n",
    "        self.generator_opt.apply_gradients(zip(grads, self.generator.trainable_weights))\n",
    "        \n",
    "        self.g_loss.update_state(g_loss)\n",
    "        self.d_loss.update_state(d_loss)\n",
    "        \n",
    "        return {\n",
    "            \"d_loss\": self.d_loss.result(),\n",
    "            \"g_loss\": self.g_loss.result()\n",
    "        }"
   ],
   "metadata": {
    "collapsed": false
   },
   "id": "57c998a349ccb325",
   "execution_count": 13
  },
  {
   "cell_type": "code",
   "outputs": [],
   "source": [
    "dcgan = DCGAN(discriminator,generator)"
   ],
   "metadata": {
    "collapsed": false,
    "ExecuteTime": {
     "end_time": "2024-03-12T11:53:10.671866Z",
     "start_time": "2024-03-12T11:53:10.667056Z"
    }
   },
   "id": "e7fbdd042b7ea591",
   "execution_count": 14
  },
  {
   "cell_type": "code",
   "outputs": [],
   "source": [
    "d_opt = optimizers.legacy.Adam()\n",
    "g_opt = optimizers.legacy.Adam()\n",
    "loss_fn = losses.BinaryCrossentropy()\n",
    "\n",
    "dcgan.compile(d_opt,g_opt,loss_fn)"
   ],
   "metadata": {
    "collapsed": false,
    "ExecuteTime": {
     "end_time": "2024-03-12T11:53:10.692095Z",
     "start_time": "2024-03-12T11:53:10.672539Z"
    }
   },
   "id": "caf3ec16ce9cff30",
   "execution_count": 15
  },
  {
   "cell_type": "code",
   "outputs": [
    {
     "name": "stdout",
     "output_type": "stream",
     "text": [
      "Epoch 1/5\n",
      "972/972 [==============================] - 1251s 1s/step - d_loss: 0.1617 - g_loss: 16.1467\n",
      "Epoch 2/5\n",
      " 83/972 [=>............................] - ETA: 20:10 - d_loss: 0.3556 - g_loss: 2.9324"
     ]
    }
   ],
   "source": [
    "dcgan.fit(data,batch_size=128,callbacks=ImageGenerator(2,Z_DIM,\"callbacks\"),epochs=EPOCHS)"
   ],
   "metadata": {
    "collapsed": false,
    "is_executing": true,
    "ExecuteTime": {
     "start_time": "2024-03-12T11:53:10.693734Z"
    }
   },
   "id": "54c2e06f9460b79e"
  }
 ],
 "metadata": {
  "kernelspec": {
   "display_name": "Python 3",
   "language": "python",
   "name": "python3"
  },
  "language_info": {
   "codemirror_mode": {
    "name": "ipython",
    "version": 2
   },
   "file_extension": ".py",
   "mimetype": "text/x-python",
   "name": "python",
   "nbconvert_exporter": "python",
   "pygments_lexer": "ipython2",
   "version": "2.7.6"
  }
 },
 "nbformat": 4,
 "nbformat_minor": 5
}
