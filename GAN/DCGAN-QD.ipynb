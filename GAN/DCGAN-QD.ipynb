{
 "cells": [
  {
   "cell_type": "code",
   "execution_count": 205,
   "id": "initial_id",
   "metadata": {
    "collapsed": true,
    "ExecuteTime": {
     "end_time": "2024-03-12T20:26:23.461157Z",
     "start_time": "2024-03-12T20:26:23.454719Z"
    }
   },
   "outputs": [],
   "source": [
    "import tensorflow as tf\n",
    "import numpy as np\n",
    "import matplotlib.pyplot as plt\n",
    "import sys"
   ]
  },
  {
   "cell_type": "code",
   "outputs": [],
   "source": [
    "sys.path.append(\"../utils\")"
   ],
   "metadata": {
    "collapsed": false,
    "ExecuteTime": {
     "end_time": "2024-03-12T20:26:23.468352Z",
     "start_time": "2024-03-12T20:26:23.466215Z"
    }
   },
   "id": "6a7556b5eb0c1208",
   "execution_count": 206
  },
  {
   "cell_type": "code",
   "outputs": [],
   "source": [
    "from utils.ImageGenerator import ImageGenerator"
   ],
   "metadata": {
    "collapsed": false,
    "ExecuteTime": {
     "end_time": "2024-03-12T20:26:23.471340Z",
     "start_time": "2024-03-12T20:26:23.469681Z"
    }
   },
   "id": "ed79311963187f5a",
   "execution_count": 207
  },
  {
   "cell_type": "code",
   "outputs": [],
   "source": [
    "data = np.load(\"../data/full_numpy_bitmap_dragon.npy\")"
   ],
   "metadata": {
    "collapsed": false,
    "ExecuteTime": {
     "end_time": "2024-03-12T20:26:23.552780Z",
     "start_time": "2024-03-12T20:26:23.487475Z"
    }
   },
   "id": "4d4eae0d8cb569f7",
   "execution_count": 208
  },
  {
   "cell_type": "code",
   "outputs": [],
   "source": [
    "data = data.reshape((-1,28,28,1))\n",
    "data = data.astype(\"float32\")/255\n",
    "data = data[:]"
   ],
   "metadata": {
    "collapsed": false,
    "ExecuteTime": {
     "end_time": "2024-03-12T20:26:23.751016Z",
     "start_time": "2024-03-12T20:26:23.554208Z"
    }
   },
   "id": "22c327946871190e",
   "execution_count": 209
  },
  {
   "cell_type": "code",
   "outputs": [
    {
     "data": {
      "text/plain": "(124362, 28, 28, 1)"
     },
     "execution_count": 210,
     "metadata": {},
     "output_type": "execute_result"
    }
   ],
   "source": [
    "data.shape"
   ],
   "metadata": {
    "collapsed": false,
    "ExecuteTime": {
     "end_time": "2024-03-12T20:26:23.753950Z",
     "start_time": "2024-03-12T20:26:23.751615Z"
    }
   },
   "id": "a2b31f98dd735aa",
   "execution_count": 210
  },
  {
   "cell_type": "code",
   "outputs": [
    {
     "name": "stdout",
     "output_type": "stream",
     "text": [
      "0.0\n",
      "1.0\n"
     ]
    }
   ],
   "source": [
    "print(data.min())\n",
    "print(data.max())"
   ],
   "metadata": {
    "collapsed": false,
    "ExecuteTime": {
     "end_time": "2024-03-12T20:26:23.777377Z",
     "start_time": "2024-03-12T20:26:23.755177Z"
    }
   },
   "id": "f1da0f22aa0649e2",
   "execution_count": 211
  },
  {
   "cell_type": "code",
   "outputs": [
    {
     "data": {
      "text/plain": "<matplotlib.image.AxesImage at 0x16a112210>"
     },
     "execution_count": 212,
     "metadata": {},
     "output_type": "execute_result"
    },
    {
     "data": {
      "text/plain": "<Figure size 640x480 with 1 Axes>",
      "image/png": "[encoded data removed]"
     },
     "metadata": {},
     "output_type": "display_data"
    }
   ],
   "source": [
    "plt.imshow(data[np.random.choice(len(data))],cmap=\"gray\")"
   ],
   "metadata": {
    "collapsed": false,
    "ExecuteTime": {
     "end_time": "2024-03-12T20:26:23.833256Z",
     "start_time": "2024-03-12T20:26:23.777954Z"
    }
   },
   "id": "4ebfe575f329af4e",
   "execution_count": 212
  },
  {
   "cell_type": "code",
   "outputs": [],
   "source": [
    "Z_DIM = 128\n",
    "EPOCHS = 5\n",
    "LEARNING_RATE = 0.0001"
   ],
   "metadata": {
    "collapsed": false,
    "ExecuteTime": {
     "end_time": "2024-03-12T20:26:23.836683Z",
     "start_time": "2024-03-12T20:26:23.834062Z"
    }
   },
   "id": "76a8c2e364cb6a84",
   "execution_count": 213
  },
  {
   "cell_type": "code",
   "outputs": [],
   "source": [
    "from tensorflow.keras import layers,models,losses,optimizers,metrics"
   ],
   "metadata": {
    "collapsed": false,
    "ExecuteTime": {
     "end_time": "2024-03-12T20:26:23.839418Z",
     "start_time": "2024-03-12T20:26:23.837422Z"
    }
   },
   "id": "7908620e5440a6a4",
   "execution_count": 214
  },
  {
   "cell_type": "code",
   "outputs": [
    {
     "name": "stdout",
     "output_type": "stream",
     "text": [
      "Model: \"discriminator\"\n",
      "_________________________________________________________________\n",
      " Layer (type)                Output Shape              Param #   \n",
      "=================================================================\n",
      " input_23 (InputLayer)       [(None, 28, 28, 1)]       0         \n",
      "                                                                 \n",
      " conv2d_66 (Conv2D)          (None, 14, 14, 64)        1088      \n",
      "                                                                 \n",
      " leaky_re_lu_33 (LeakyReLU)  (None, 14, 14, 64)        0         \n",
      "                                                                 \n",
      " conv2d_67 (Conv2D)          (None, 7, 7, 128)         131200    \n",
      "                                                                 \n",
      " leaky_re_lu_34 (LeakyReLU)  (None, 7, 7, 128)         0         \n",
      "                                                                 \n",
      " conv2d_68 (Conv2D)          (None, 4, 4, 128)         262272    \n",
      "                                                                 \n",
      " leaky_re_lu_35 (LeakyReLU)  (None, 4, 4, 128)         0         \n",
      "                                                                 \n",
      " flatten_11 (Flatten)        (None, 2048)              0         \n",
      "                                                                 \n",
      " dropout_11 (Dropout)        (None, 2048)              0         \n",
      "                                                                 \n",
      " dense_22 (Dense)            (None, 1)                 2049      \n",
      "                                                                 \n",
      "=================================================================\n",
      "Total params: 396609 (1.51 MB)\n",
      "Trainable params: 396609 (1.51 MB)\n",
      "Non-trainable params: 0 (0.00 Byte)\n",
      "_________________________________________________________________\n"
     ]
    }
   ],
   "source": [
    "inputs  = layers.Input(shape=(28, 28, 1))\n",
    "x       = layers.Conv2D(64, kernel_size=4, strides=2, padding=\"same\")(inputs)\n",
    "x       = layers.LeakyReLU(alpha=0.2)(x)\n",
    "x       = layers.Conv2D(128, kernel_size=4, strides=2, padding=\"same\")(x)\n",
    "x       = layers.LeakyReLU(alpha=0.2)(x)\n",
    "x       = layers.Conv2D(128, kernel_size=4, strides=2, padding=\"same\")(x)\n",
    "x       = layers.LeakyReLU(alpha=0.2)(x)\n",
    "x       = layers.Flatten()(x)\n",
    "x       = layers.Dropout(0.2)(x)\n",
    "z       = layers.Dense(1, activation=\"sigmoid\")(x)\n",
    "\n",
    "discriminator = models.Model(inputs, z, name=\"discriminator\")\n",
    "discriminator.summary()\n"
   ],
   "metadata": {
    "collapsed": false,
    "ExecuteTime": {
     "end_time": "2024-03-12T20:26:23.960719Z",
     "start_time": "2024-03-12T20:26:23.840565Z"
    }
   },
   "id": "7c66bd2c8059dc8",
   "execution_count": 215
  },
  {
   "cell_type": "code",
   "outputs": [
    {
     "name": "stdout",
     "output_type": "stream",
     "text": [
      "Model: \"generator\"\n",
      "_________________________________________________________________\n",
      " Layer (type)                Output Shape              Param #   \n",
      "=================================================================\n",
      " input_24 (InputLayer)       [(None, 128)]             0         \n",
      "                                                                 \n",
      " dense_23 (Dense)            (None, 3136)              404544    \n",
      "                                                                 \n",
      " reshape_11 (Reshape)        (None, 7, 7, 64)          0         \n",
      "                                                                 \n",
      " up_sampling2d_22 (UpSampli  (None, 14, 14, 64)        0         \n",
      " ng2D)                                                           \n",
      "                                                                 \n",
      " conv2d_69 (Conv2D)          (None, 14, 14, 128)       73856     \n",
      "                                                                 \n",
      " up_sampling2d_23 (UpSampli  (None, 28, 28, 128)       0         \n",
      " ng2D)                                                           \n",
      "                                                                 \n",
      " conv2d_70 (Conv2D)          (None, 28, 28, 256)       295168    \n",
      "                                                                 \n",
      " conv2d_71 (Conv2D)          (None, 28, 28, 1)         6401      \n",
      "                                                                 \n",
      "=================================================================\n",
      "Total params: 779969 (2.98 MB)\n",
      "Trainable params: 779969 (2.98 MB)\n",
      "Non-trainable params: 0 (0.00 Byte)\n",
      "_________________________________________________________________\n"
     ]
    }
   ],
   "source": [
    "inputs  = layers.Input(shape=(Z_DIM,))\n",
    "x       = layers.Dense(7 * 7 * 64)(inputs)\n",
    "x       = layers.Reshape((7, 7, 64))(x)\n",
    "x       = layers.UpSampling2D()(x)\n",
    "x       = layers.Conv2D(128,  kernel_size=3, strides=1, padding='same', activation='relu')(x)\n",
    "x       = layers.UpSampling2D()(x)\n",
    "x       = layers.Conv2D(256,  kernel_size=3, strides=1, padding='same', activation='relu')(x)\n",
    "outputs = layers.Conv2D(1,    kernel_size=5, strides=1, padding=\"same\", activation=\"sigmoid\")(x)\n",
    "\n",
    "generator = models.Model(inputs, outputs, name=\"generator\")\n",
    "generator.summary()"
   ],
   "metadata": {
    "collapsed": false,
    "ExecuteTime": {
     "end_time": "2024-03-12T20:26:24.048016Z",
     "start_time": "2024-03-12T20:26:23.962205Z"
    }
   },
   "id": "798fa04d1b502cf7",
   "execution_count": 216
  },
  {
   "cell_type": "code",
   "outputs": [],
   "source": [
    "class DCGAN(models.Model):\n",
    "    def __init__(self,my_discriminator,my_generator,z_dim=Z_DIM):\n",
    "        super(DCGAN,self).__init__()\n",
    "        \n",
    "        self.discriminator = my_discriminator\n",
    "        self.generator = my_generator\n",
    "        self.z_dim = z_dim\n",
    "        self.discriminator_opt = None\n",
    "        self.generator_opt = None\n",
    "        self.loss_fn = None\n",
    "        self.g_loss = None\n",
    "        self.d_loss = None\n",
    "        \n",
    "    def call(self, inputs, training=None, mask=None):\n",
    "        # This method should handle both real and generated images\n",
    "        return self.generator(inputs)\n",
    "    \n",
    "    def compile(self,d_opt,g_opt,loss_fn):\n",
    "        super(DCGAN,self).compile()\n",
    "        self.discriminator_opt = d_opt\n",
    "        self.generator_opt = g_opt\n",
    "        self.loss_fn = loss_fn\n",
    "        self.discriminator.compile(optimizer=self.discriminator_opt,loss=self.loss_fn)\n",
    "        self.generator.compile(optimizer=self.generator_opt,loss=self.loss_fn)\n",
    "        self.d_loss = metrics.Mean(name=\"d_loss\")\n",
    "        self.g_loss = metrics.Mean(name=\"g_loss\")\n",
    "        \n",
    "        \n",
    "    @property\n",
    "    def metrics(self):\n",
    "        return [self.d_loss,self.g_loss]\n",
    "    \n",
    "    def train_step(self, real_imgs):\n",
    "        batch_size = tf.shape(real_imgs)[0]\n",
    "        sample_vector = tf.random.normal(shape=(batch_size, self.z_dim))\n",
    "        \n",
    "        with tf.GradientTape() as tape:\n",
    "            generated_images = self.generator(sample_vector)\n",
    "            concat_imgs = tf.concat([real_imgs, generated_images], axis=0)\n",
    "            labels = tf.concat([tf.ones((batch_size, 1)), tf.zeros((batch_size, 1))], axis=0)\n",
    "            predictions = self.discriminator(concat_imgs)\n",
    "            d_loss = self.loss_fn(labels, predictions)\n",
    "            \n",
    "        grads = tape.gradient(d_loss, self.discriminator.trainable_weights)\n",
    "        self.discriminator_opt.apply_gradients(zip(grads, self.discriminator.trainable_weights))\n",
    "        \n",
    "        sample_vector = tf.random.normal(shape=(batch_size, self.z_dim))\n",
    "        false_labels = tf.ones((batch_size, 1))\n",
    "        \n",
    "        with tf.GradientTape() as tape:\n",
    "            fake_imgs = self.generator(sample_vector)\n",
    "            d_predictions = self.discriminator(fake_imgs)\n",
    "            g_loss = self.loss_fn(false_labels, d_predictions)\n",
    "            \n",
    "        grads = tape.gradient(g_loss, self.generator.trainable_weights)\n",
    "        self.generator_opt.apply_gradients(zip(grads, self.generator.trainable_weights))\n",
    "        \n",
    "        self.g_loss.update_state(g_loss)\n",
    "        self.d_loss.update_state(d_loss)\n",
    "        \n",
    "        return {\n",
    "            \"d_loss\": self.d_loss.result(),\n",
    "            \"g_loss\": self.g_loss.result()\n",
    "        }"
   ],
   "metadata": {
    "collapsed": false,
    "ExecuteTime": {
     "end_time": "2024-03-12T20:26:24.061027Z",
     "start_time": "2024-03-12T20:26:24.053924Z"
    }
   },
   "id": "57c998a349ccb325",
   "execution_count": 217
  },
  {
   "cell_type": "code",
   "outputs": [],
   "source": [
    "dcgan = DCGAN(discriminator,generator)"
   ],
   "metadata": {
    "collapsed": false,
    "ExecuteTime": {
     "end_time": "2024-03-12T20:26:24.066177Z",
     "start_time": "2024-03-12T20:26:24.062406Z"
    }
   },
   "id": "e7fbdd042b7ea591",
   "execution_count": 218
  },
  {
   "cell_type": "code",
   "outputs": [],
   "source": [
    "d_opt = optimizers.legacy.Adam(learning_rate=LEARNING_RATE)\n",
    "g_opt = optimizers.legacy.Adam(learning_rate=LEARNING_RATE)\n",
    "loss_fn = losses.BinaryCrossentropy()\n",
    "\n",
    "dcgan.compile(d_opt,g_opt,loss_fn)"
   ],
   "metadata": {
    "collapsed": false,
    "ExecuteTime": {
     "end_time": "2024-03-12T20:26:24.083524Z",
     "start_time": "2024-03-12T20:26:24.067347Z"
    }
   },
   "id": "caf3ec16ce9cff30",
   "execution_count": 219
  },
  {
   "cell_type": "code",
   "outputs": [
    {
     "name": "stdout",
     "output_type": "stream",
     "text": [
      "Epoch 1/5\n",
      "972/972 [==============================] - 1557s 2s/step - d_loss: 0.3742 - g_loss: 1.7945\n",
      "Epoch 2/5\n",
      "972/972 [==============================] - 1591s 2s/step - d_loss: 0.3984 - g_loss: 2.0313\n",
      "Epoch 3/5\n",
      "972/972 [==============================] - 1577s 2s/step - d_loss: 0.5479 - g_loss: 1.2025\n",
      "Epoch 4/5\n",
      "972/972 [==============================] - 1580s 2s/step - d_loss: 0.4498 - g_loss: 1.5283\n",
      "Epoch 5/5\n",
      "972/972 [==============================] - 1581s 2s/step - d_loss: 0.4545 - g_loss: 1.5340\n"
     ]
    },
    {
     "data": {
      "text/plain": "<keras.src.callbacks.History at 0x16a112750>"
     },
     "execution_count": 220,
     "metadata": {},
     "output_type": "execute_result"
    }
   ],
   "source": [
    "dcgan.fit(data,batch_size=128,callbacks=ImageGenerator(10,Z_DIM,\"callbacks\"),epochs=EPOCHS)"
   ],
   "metadata": {
    "collapsed": false,
    "ExecuteTime": {
     "end_time": "2024-03-12T22:37:50.451665Z",
     "start_time": "2024-03-12T20:26:24.085289Z"
    }
   },
   "id": "54c2e06f9460b79e",
   "execution_count": 220
  },
  {
   "cell_type": "code",
   "outputs": [
    {
     "name": "stdout",
     "output_type": "stream",
     "text": [
      "(10, 128, 1)\n",
      "1/1 [==============================] - 0s 113ms/step\n"
     ]
    }
   ],
   "source": [
    "nb_img = 10\n",
    "\n",
    "z = np.random.normal(size=(nb_img,Z_DIM,1))\n",
    "print(z.shape)\n",
    "\n",
    "predictions = dcgan.predict(z)"
   ],
   "metadata": {
    "collapsed": false,
    "ExecuteTime": {
     "end_time": "2024-03-12T22:37:50.651028Z",
     "start_time": "2024-03-12T22:37:50.455805Z"
    }
   },
   "id": "814b618e9c967fbd",
   "execution_count": 221
  },
  {
   "cell_type": "code",
   "outputs": [
    {
     "data": {
      "text/plain": "(10, 28, 28, 1)"
     },
     "execution_count": 222,
     "metadata": {},
     "output_type": "execute_result"
    }
   ],
   "source": [
    "predictions.shape"
   ],
   "metadata": {
    "collapsed": false,
    "ExecuteTime": {
     "end_time": "2024-03-12T22:37:50.654408Z",
     "start_time": "2024-03-12T22:37:50.651847Z"
    }
   },
   "id": "fcbace8a48e7aa5c",
   "execution_count": 222
  },
  {
   "cell_type": "code",
   "outputs": [
    {
     "data": {
      "text/plain": "<matplotlib.image.AxesImage at 0x1756857d0>"
     },
     "execution_count": 230,
     "metadata": {},
     "output_type": "execute_result"
    },
    {
     "data": {
      "text/plain": "<Figure size 640x480 with 1 Axes>",
      "image/png": "[encoded data removed]"
     },
     "metadata": {},
     "output_type": "display_data"
    }
   ],
   "source": [
    "plt.imshow(predictions[6],cmap=\"gray\")"
   ],
   "metadata": {
    "collapsed": false,
    "ExecuteTime": {
     "end_time": "2024-03-12T22:39:02.094859Z",
     "start_time": "2024-03-12T22:39:02.027995Z"
    }
   },
   "id": "cc6eda2a8a282fec",
   "execution_count": 230
  },
  {
   "cell_type": "code",
   "outputs": [
    {
     "name": "stdout",
     "output_type": "stream",
     "text": [
      "WARNING:tensorflow:Model's `__init__()` arguments contain non-serializable objects. Please implement a `get_config()` method in the subclassed Model for proper saving and loading. Defaulting to empty config.\n"
     ]
    },
    {
     "name": "stderr",
     "output_type": "stream",
     "text": [
      "WARNING:tensorflow:Model's `__init__()` arguments contain non-serializable objects. Please implement a `get_config()` method in the subclassed Model for proper saving and loading. Defaulting to empty config.\n"
     ]
    },
    {
     "name": "stdout",
     "output_type": "stream",
     "text": [
      "WARNING:tensorflow:Model's `__init__()` arguments contain non-serializable objects. Please implement a `get_config()` method in the subclassed Model for proper saving and loading. Defaulting to empty config.\n"
     ]
    },
    {
     "name": "stderr",
     "output_type": "stream",
     "text": [
      "WARNING:tensorflow:Model's `__init__()` arguments contain non-serializable objects. Please implement a `get_config()` method in the subclassed Model for proper saving and loading. Defaulting to empty config.\n"
     ]
    },
    {
     "name": "stdout",
     "output_type": "stream",
     "text": [
      "WARNING:tensorflow:Model's `__init__()` arguments contain non-serializable objects. Please implement a `get_config()` method in the subclassed Model for proper saving and loading. Defaulting to empty config.\n"
     ]
    },
    {
     "name": "stderr",
     "output_type": "stream",
     "text": [
      "WARNING:tensorflow:Model's `__init__()` arguments contain non-serializable objects. Please implement a `get_config()` method in the subclassed Model for proper saving and loading. Defaulting to empty config.\n"
     ]
    }
   ],
   "source": [
    "dcgan.save(\"dcgan-qd-dragon.keras\")"
   ],
   "metadata": {
    "collapsed": false,
    "ExecuteTime": {
     "end_time": "2024-03-12T22:37:50.836841Z",
     "start_time": "2024-03-12T22:37:50.739994Z"
    }
   },
   "id": "4f039404d297aec4",
   "execution_count": 224
  }
 ],
 "metadata": {
  "kernelspec": {
   "display_name": "Python 3",
   "language": "python",
   "name": "python3"
  },
  "language_info": {
   "codemirror_mode": {
    "name": "ipython",
    "version": 2
   },
   "file_extension": ".py",
   "mimetype": "text/x-python",
   "name": "python",
   "nbconvert_exporter": "python",
   "pygments_lexer": "ipython2",
   "version": "2.7.6"
  }
 },
 "nbformat": 4,
 "nbformat_minor": 5
}
