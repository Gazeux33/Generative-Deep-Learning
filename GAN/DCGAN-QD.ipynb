{
 "cells": [
  {
   "cell_type": "code",
   "execution_count": 269,
   "id": "initial_id",
   "metadata": {
    "collapsed": true,
    "ExecuteTime": {
     "end_time": "2024-03-13T17:02:59.351871Z",
     "start_time": "2024-03-13T17:02:59.334821Z"
    }
   },
   "outputs": [],
   "source": [
    "import tensorflow as tf\n",
    "import numpy as np\n",
    "import matplotlib.pyplot as plt\n",
    "import sys"
   ]
  },
  {
   "cell_type": "code",
   "outputs": [],
   "source": [
    "from utils.ImageGenerator import ImageGenerator"
   ],
   "metadata": {
    "collapsed": false,
    "ExecuteTime": {
     "end_time": "2024-03-13T17:02:59.358010Z",
     "start_time": "2024-03-13T17:02:59.355427Z"
    }
   },
   "id": "ed79311963187f5a",
   "execution_count": 270
  },
  {
   "cell_type": "markdown",
   "source": [
    "# Load and Process the data"
   ],
   "metadata": {
    "collapsed": false
   },
   "id": "5c580962ae5d57ea"
  },
  {
   "cell_type": "code",
   "outputs": [],
   "source": [
    "data = np.load(\"../data/full_numpy_bitmap_dragon.npy\")"
   ],
   "metadata": {
    "collapsed": false,
    "ExecuteTime": {
     "end_time": "2024-03-13T17:02:59.429470Z",
     "start_time": "2024-03-13T17:02:59.360543Z"
    }
   },
   "id": "4d4eae0d8cb569f7",
   "execution_count": 271
  },
  {
   "cell_type": "code",
   "outputs": [],
   "source": [
    "data = data.reshape((-1,28,28,1))\n",
    "data = data.astype(\"float32\")/255\n",
    "data = data[:]"
   ],
   "metadata": {
    "collapsed": false,
    "ExecuteTime": {
     "end_time": "2024-03-13T17:02:59.654489Z",
     "start_time": "2024-03-13T17:02:59.433140Z"
    }
   },
   "id": "22c327946871190e",
   "execution_count": 272
  },
  {
   "cell_type": "code",
   "outputs": [
    {
     "data": {
      "text/plain": "(124362, 28, 28, 1)"
     },
     "execution_count": 273,
     "metadata": {},
     "output_type": "execute_result"
    }
   ],
   "source": [
    "data.shape"
   ],
   "metadata": {
    "collapsed": false,
    "ExecuteTime": {
     "end_time": "2024-03-13T17:02:59.666126Z",
     "start_time": "2024-03-13T17:02:59.655445Z"
    }
   },
   "id": "a2b31f98dd735aa",
   "execution_count": 273
  },
  {
   "cell_type": "code",
   "outputs": [
    {
     "name": "stdout",
     "output_type": "stream",
     "text": [
      "0.0\n",
      "1.0\n"
     ]
    }
   ],
   "source": [
    "print(data.min())\n",
    "print(data.max())"
   ],
   "metadata": {
    "collapsed": false,
    "ExecuteTime": {
     "end_time": "2024-03-13T17:02:59.693073Z",
     "start_time": "2024-03-13T17:02:59.668320Z"
    }
   },
   "id": "f1da0f22aa0649e2",
   "execution_count": 274
  },
  {
   "cell_type": "code",
   "outputs": [
    {
     "data": {
      "text/plain": "<matplotlib.image.AxesImage at 0x176495a50>"
     },
     "execution_count": 275,
     "metadata": {},
     "output_type": "execute_result"
    },
    {
     "data": {
      "text/plain": "<Figure size 640x480 with 1 Axes>",
      "image/png": "[encoded data removed]"
     },
     "metadata": {},
     "output_type": "display_data"
    }
   ],
   "source": [
    "plt.imshow(data[np.random.choice(len(data))],cmap=\"gray\")"
   ],
   "metadata": {
    "collapsed": false,
    "ExecuteTime": {
     "end_time": "2024-03-13T17:02:59.847288Z",
     "start_time": "2024-03-13T17:02:59.694269Z"
    }
   },
   "id": "4ebfe575f329af4e",
   "execution_count": 275
  },
  {
   "cell_type": "code",
   "outputs": [],
   "source": [
    "Z_DIM = 128\n",
    "EPOCHS = 5\n",
    "LEARNING_RATE = 0.0001"
   ],
   "metadata": {
    "collapsed": false,
    "ExecuteTime": {
     "end_time": "2024-03-13T17:02:59.851372Z",
     "start_time": "2024-03-13T17:02:59.848958Z"
    }
   },
   "id": "76a8c2e364cb6a84",
   "execution_count": 276
  },
  {
   "cell_type": "code",
   "outputs": [],
   "source": [
    "from tensorflow.keras import layers,models,losses,optimizers,metrics"
   ],
   "metadata": {
    "collapsed": false,
    "ExecuteTime": {
     "end_time": "2024-03-13T17:02:59.855208Z",
     "start_time": "2024-03-13T17:02:59.852701Z"
    }
   },
   "id": "7908620e5440a6a4",
   "execution_count": 277
  },
  {
   "cell_type": "markdown",
   "source": [
    "# Discriminator"
   ],
   "metadata": {
    "collapsed": false
   },
   "id": "2e81e32bd525e90b"
  },
  {
   "cell_type": "code",
   "outputs": [
    {
     "name": "stdout",
     "output_type": "stream",
     "text": [
      "Model: \"discriminator\"\n",
      "_________________________________________________________________\n",
      " Layer (type)                Output Shape              Param #   \n",
      "=================================================================\n",
      " input_27 (InputLayer)       [(None, 28, 28, 1)]       0         \n",
      "                                                                 \n",
      " conv2d_78 (Conv2D)          (None, 14, 14, 64)        1088      \n",
      "                                                                 \n",
      " leaky_re_lu_39 (LeakyReLU)  (None, 14, 14, 64)        0         \n",
      "                                                                 \n",
      " conv2d_79 (Conv2D)          (None, 7, 7, 128)         131200    \n",
      "                                                                 \n",
      " leaky_re_lu_40 (LeakyReLU)  (None, 7, 7, 128)         0         \n",
      "                                                                 \n",
      " conv2d_80 (Conv2D)          (None, 4, 4, 128)         262272    \n",
      "                                                                 \n",
      " leaky_re_lu_41 (LeakyReLU)  (None, 4, 4, 128)         0         \n",
      "                                                                 \n",
      " flatten_13 (Flatten)        (None, 2048)              0         \n",
      "                                                                 \n",
      " dropout_13 (Dropout)        (None, 2048)              0         \n",
      "                                                                 \n",
      " dense_26 (Dense)            (None, 1)                 2049      \n",
      "                                                                 \n",
      "=================================================================\n",
      "Total params: 396609 (1.51 MB)\n",
      "Trainable params: 396609 (1.51 MB)\n",
      "Non-trainable params: 0 (0.00 Byte)\n",
      "_________________________________________________________________\n"
     ]
    }
   ],
   "source": [
    "inputs  = layers.Input(shape=(28, 28, 1))\n",
    "x       = layers.Conv2D(64, kernel_size=4, strides=2, padding=\"same\")(inputs)\n",
    "x       = layers.LeakyReLU(alpha=0.2)(x)\n",
    "x       = layers.Conv2D(128, kernel_size=4, strides=2, padding=\"same\")(x)\n",
    "x       = layers.LeakyReLU(alpha=0.2)(x)\n",
    "x       = layers.Conv2D(128, kernel_size=4, strides=2, padding=\"same\")(x)\n",
    "x       = layers.LeakyReLU(alpha=0.2)(x)\n",
    "x       = layers.Flatten()(x)\n",
    "x       = layers.Dropout(0.2)(x)\n",
    "z       = layers.Dense(1, activation=\"sigmoid\")(x)\n",
    "\n",
    "discriminator = models.Model(inputs, z, name=\"discriminator\")\n",
    "discriminator.summary()\n"
   ],
   "metadata": {
    "collapsed": false,
    "ExecuteTime": {
     "end_time": "2024-03-13T17:03:00.062138Z",
     "start_time": "2024-03-13T17:02:59.856670Z"
    }
   },
   "id": "7c66bd2c8059dc8",
   "execution_count": 278
  },
  {
   "cell_type": "markdown",
   "source": [
    "# Generator"
   ],
   "metadata": {
    "collapsed": false
   },
   "id": "90fd930bd6b19666"
  },
  {
   "cell_type": "code",
   "outputs": [
    {
     "name": "stdout",
     "output_type": "stream",
     "text": [
      "Model: \"generator\"\n",
      "_________________________________________________________________\n",
      " Layer (type)                Output Shape              Param #   \n",
      "=================================================================\n",
      " input_28 (InputLayer)       [(None, 128)]             0         \n",
      "                                                                 \n",
      " dense_27 (Dense)            (None, 3136)              404544    \n",
      "                                                                 \n",
      " reshape_13 (Reshape)        (None, 7, 7, 64)          0         \n",
      "                                                                 \n",
      " up_sampling2d_26 (UpSampli  (None, 14, 14, 64)        0         \n",
      " ng2D)                                                           \n",
      "                                                                 \n",
      " conv2d_81 (Conv2D)          (None, 14, 14, 128)       73856     \n",
      "                                                                 \n",
      " up_sampling2d_27 (UpSampli  (None, 28, 28, 128)       0         \n",
      " ng2D)                                                           \n",
      "                                                                 \n",
      " conv2d_82 (Conv2D)          (None, 28, 28, 256)       295168    \n",
      "                                                                 \n",
      " conv2d_83 (Conv2D)          (None, 28, 28, 1)         6401      \n",
      "                                                                 \n",
      "=================================================================\n",
      "Total params: 779969 (2.98 MB)\n",
      "Trainable params: 779969 (2.98 MB)\n",
      "Non-trainable params: 0 (0.00 Byte)\n",
      "_________________________________________________________________\n"
     ]
    }
   ],
   "source": [
    "inputs  = layers.Input(shape=(Z_DIM,))\n",
    "x       = layers.Dense(7 * 7 * 64)(inputs)\n",
    "x       = layers.Reshape((7, 7, 64))(x)\n",
    "x       = layers.UpSampling2D()(x)\n",
    "x       = layers.Conv2D(128,  kernel_size=3, strides=1, padding='same', activation='relu')(x)\n",
    "x       = layers.UpSampling2D()(x)\n",
    "x       = layers.Conv2D(256,  kernel_size=3, strides=1, padding='same', activation='relu')(x)\n",
    "outputs = layers.Conv2D(1,    kernel_size=5, strides=1, padding=\"same\", activation=\"sigmoid\")(x)\n",
    "\n",
    "generator = models.Model(inputs, outputs, name=\"generator\")\n",
    "generator.summary()"
   ],
   "metadata": {
    "collapsed": false,
    "ExecuteTime": {
     "end_time": "2024-03-13T17:03:00.132850Z",
     "start_time": "2024-03-13T17:03:00.063523Z"
    }
   },
   "id": "798fa04d1b502cf7",
   "execution_count": 279
  },
  {
   "cell_type": "markdown",
   "source": [
    "# DCGAN Model"
   ],
   "metadata": {
    "collapsed": false
   },
   "id": "24168f87cfd2b7e4"
  },
  {
   "cell_type": "code",
   "outputs": [],
   "source": [
    "class DCGAN(models.Model):\n",
    "    def __init__(self,my_discriminator,my_generator,z_dim=Z_DIM):\n",
    "        super(DCGAN,self).__init__()\n",
    "        \n",
    "        self.discriminator = my_discriminator\n",
    "        self.generator = my_generator\n",
    "        self.z_dim = z_dim\n",
    "        self.discriminator_opt = None\n",
    "        self.generator_opt = None\n",
    "        self.loss_fn = None\n",
    "        self.g_loss = None\n",
    "        self.d_loss = None\n",
    "        \n",
    "    def call(self, inputs, training=None, mask=None):\n",
    "        # This method should handle both real and generated images\n",
    "        return self.generator(inputs)\n",
    "    \n",
    "    def compile(self,d_opt,g_opt,loss_fn):\n",
    "        super(DCGAN,self).compile()\n",
    "        self.discriminator_opt = d_opt\n",
    "        self.generator_opt = g_opt\n",
    "        self.loss_fn = loss_fn\n",
    "        self.discriminator.compile(optimizer=self.discriminator_opt,loss=self.loss_fn)\n",
    "        self.generator.compile(optimizer=self.generator_opt,loss=self.loss_fn)\n",
    "        self.d_loss = metrics.Mean(name=\"d_loss\")\n",
    "        self.g_loss = metrics.Mean(name=\"g_loss\")\n",
    "        \n",
    "        \n",
    "    @property\n",
    "    def metrics(self):\n",
    "        return [self.d_loss,self.g_loss]\n",
    "    \n",
    "    def train_step(self, real_imgs):\n",
    "        batch_size = tf.shape(real_imgs)[0]\n",
    "        sample_vector = tf.random.normal(shape=(batch_size, self.z_dim))\n",
    "        \n",
    "        with tf.GradientTape() as tape:\n",
    "            generated_images = self.generator(sample_vector)\n",
    "            concat_imgs = tf.concat([real_imgs, generated_images], axis=0)\n",
    "            labels = tf.concat([tf.ones((batch_size, 1)), tf.zeros((batch_size, 1))], axis=0)\n",
    "            predictions = self.discriminator(concat_imgs)\n",
    "            d_loss = self.loss_fn(labels, predictions)\n",
    "            \n",
    "        grads = tape.gradient(d_loss, self.discriminator.trainable_weights)\n",
    "        self.discriminator_opt.apply_gradients(zip(grads, self.discriminator.trainable_weights))\n",
    "        \n",
    "        sample_vector = tf.random.normal(shape=(batch_size, self.z_dim))\n",
    "        false_labels = tf.ones((batch_size, 1))\n",
    "        \n",
    "        with tf.GradientTape() as tape:\n",
    "            fake_imgs = self.generator(sample_vector)\n",
    "            d_predictions = self.discriminator(fake_imgs)\n",
    "            g_loss = self.loss_fn(false_labels, d_predictions)\n",
    "            \n",
    "        grads = tape.gradient(g_loss, self.generator.trainable_weights)\n",
    "        self.generator_opt.apply_gradients(zip(grads, self.generator.trainable_weights))\n",
    "        \n",
    "        self.g_loss.update_state(g_loss)\n",
    "        self.d_loss.update_state(d_loss)\n",
    "        \n",
    "        return {\n",
    "            \"d_loss\": self.d_loss.result(),\n",
    "            \"g_loss\": self.g_loss.result()\n",
    "        }"
   ],
   "metadata": {
    "collapsed": false,
    "ExecuteTime": {
     "end_time": "2024-03-13T17:03:00.159907Z",
     "start_time": "2024-03-13T17:03:00.141905Z"
    }
   },
   "id": "57c998a349ccb325",
   "execution_count": 280
  },
  {
   "cell_type": "code",
   "outputs": [],
   "source": [
    "dcgan = DCGAN(discriminator,generator)"
   ],
   "metadata": {
    "collapsed": false,
    "ExecuteTime": {
     "end_time": "2024-03-13T17:03:00.167527Z",
     "start_time": "2024-03-13T17:03:00.161691Z"
    }
   },
   "id": "e7fbdd042b7ea591",
   "execution_count": 281
  },
  {
   "cell_type": "code",
   "outputs": [],
   "source": [
    "d_opt = optimizers.legacy.Adam(learning_rate=LEARNING_RATE)\n",
    "g_opt = optimizers.legacy.Adam(learning_rate=LEARNING_RATE)\n",
    "loss_fn = losses.BinaryCrossentropy()\n",
    "\n",
    "dcgan.compile(d_opt,g_opt,loss_fn)"
   ],
   "metadata": {
    "collapsed": false,
    "ExecuteTime": {
     "end_time": "2024-03-13T17:03:00.189519Z",
     "start_time": "2024-03-13T17:03:00.169284Z"
    }
   },
   "id": "caf3ec16ce9cff30",
   "execution_count": 282
  },
  {
   "cell_type": "code",
   "outputs": [
    {
     "name": "stdout",
     "output_type": "stream",
     "text": [
      "Epoch 1/5\n",
      "  2/972 [..............................] - ETA: 20:25 - d_loss: 0.6862 - g_loss: 0.7532"
     ]
    },
    {
     "ename": "KeyboardInterrupt",
     "evalue": "",
     "output_type": "error",
     "traceback": [
      "\u001B[0;31m---------------------------------------------------------------------------\u001B[0m",
      "\u001B[0;31mKeyboardInterrupt\u001B[0m                         Traceback (most recent call last)",
      "Cell \u001B[0;32mIn[283], line 1\u001B[0m\n\u001B[0;32m----> 1\u001B[0m dcgan\u001B[38;5;241m.\u001B[39mfit(data,batch_size\u001B[38;5;241m=\u001B[39m\u001B[38;5;241m128\u001B[39m,callbacks\u001B[38;5;241m=\u001B[39mImageGenerator(\u001B[38;5;241m10\u001B[39m,Z_DIM,\u001B[38;5;124m\"\u001B[39m\u001B[38;5;124mcallbacks\u001B[39m\u001B[38;5;124m\"\u001B[39m),epochs\u001B[38;5;241m=\u001B[39mEPOCHS)\n",
      "File \u001B[0;32m~/anaconda3/envs/DeepLearning/lib/python3.11/site-packages/keras/src/utils/traceback_utils.py:65\u001B[0m, in \u001B[0;36mfilter_traceback.<locals>.error_handler\u001B[0;34m(*args, **kwargs)\u001B[0m\n\u001B[1;32m     63\u001B[0m filtered_tb \u001B[38;5;241m=\u001B[39m \u001B[38;5;28;01mNone\u001B[39;00m\n\u001B[1;32m     64\u001B[0m \u001B[38;5;28;01mtry\u001B[39;00m:\n\u001B[0;32m---> 65\u001B[0m     \u001B[38;5;28;01mreturn\u001B[39;00m fn(\u001B[38;5;241m*\u001B[39margs, \u001B[38;5;241m*\u001B[39m\u001B[38;5;241m*\u001B[39mkwargs)\n\u001B[1;32m     66\u001B[0m \u001B[38;5;28;01mexcept\u001B[39;00m \u001B[38;5;167;01mException\u001B[39;00m \u001B[38;5;28;01mas\u001B[39;00m e:\n\u001B[1;32m     67\u001B[0m     filtered_tb \u001B[38;5;241m=\u001B[39m _process_traceback_frames(e\u001B[38;5;241m.\u001B[39m__traceback__)\n",
      "File \u001B[0;32m~/anaconda3/envs/DeepLearning/lib/python3.11/site-packages/keras/src/engine/training.py:1807\u001B[0m, in \u001B[0;36mModel.fit\u001B[0;34m(self, x, y, batch_size, epochs, verbose, callbacks, validation_split, validation_data, shuffle, class_weight, sample_weight, initial_epoch, steps_per_epoch, validation_steps, validation_batch_size, validation_freq, max_queue_size, workers, use_multiprocessing)\u001B[0m\n\u001B[1;32m   1799\u001B[0m \u001B[38;5;28;01mwith\u001B[39;00m tf\u001B[38;5;241m.\u001B[39mprofiler\u001B[38;5;241m.\u001B[39mexperimental\u001B[38;5;241m.\u001B[39mTrace(\n\u001B[1;32m   1800\u001B[0m     \u001B[38;5;124m\"\u001B[39m\u001B[38;5;124mtrain\u001B[39m\u001B[38;5;124m\"\u001B[39m,\n\u001B[1;32m   1801\u001B[0m     epoch_num\u001B[38;5;241m=\u001B[39mepoch,\n\u001B[0;32m   (...)\u001B[0m\n\u001B[1;32m   1804\u001B[0m     _r\u001B[38;5;241m=\u001B[39m\u001B[38;5;241m1\u001B[39m,\n\u001B[1;32m   1805\u001B[0m ):\n\u001B[1;32m   1806\u001B[0m     callbacks\u001B[38;5;241m.\u001B[39mon_train_batch_begin(step)\n\u001B[0;32m-> 1807\u001B[0m     tmp_logs \u001B[38;5;241m=\u001B[39m \u001B[38;5;28mself\u001B[39m\u001B[38;5;241m.\u001B[39mtrain_function(iterator)\n\u001B[1;32m   1808\u001B[0m     \u001B[38;5;28;01mif\u001B[39;00m data_handler\u001B[38;5;241m.\u001B[39mshould_sync:\n\u001B[1;32m   1809\u001B[0m         context\u001B[38;5;241m.\u001B[39masync_wait()\n",
      "File \u001B[0;32m~/anaconda3/envs/DeepLearning/lib/python3.11/site-packages/tensorflow/python/util/traceback_utils.py:150\u001B[0m, in \u001B[0;36mfilter_traceback.<locals>.error_handler\u001B[0;34m(*args, **kwargs)\u001B[0m\n\u001B[1;32m    148\u001B[0m filtered_tb \u001B[38;5;241m=\u001B[39m \u001B[38;5;28;01mNone\u001B[39;00m\n\u001B[1;32m    149\u001B[0m \u001B[38;5;28;01mtry\u001B[39;00m:\n\u001B[0;32m--> 150\u001B[0m   \u001B[38;5;28;01mreturn\u001B[39;00m fn(\u001B[38;5;241m*\u001B[39margs, \u001B[38;5;241m*\u001B[39m\u001B[38;5;241m*\u001B[39mkwargs)\n\u001B[1;32m    151\u001B[0m \u001B[38;5;28;01mexcept\u001B[39;00m \u001B[38;5;167;01mException\u001B[39;00m \u001B[38;5;28;01mas\u001B[39;00m e:\n\u001B[1;32m    152\u001B[0m   filtered_tb \u001B[38;5;241m=\u001B[39m _process_traceback_frames(e\u001B[38;5;241m.\u001B[39m__traceback__)\n",
      "File \u001B[0;32m~/anaconda3/envs/DeepLearning/lib/python3.11/site-packages/tensorflow/python/eager/polymorphic_function/polymorphic_function.py:832\u001B[0m, in \u001B[0;36mFunction.__call__\u001B[0;34m(self, *args, **kwds)\u001B[0m\n\u001B[1;32m    829\u001B[0m compiler \u001B[38;5;241m=\u001B[39m \u001B[38;5;124m\"\u001B[39m\u001B[38;5;124mxla\u001B[39m\u001B[38;5;124m\"\u001B[39m \u001B[38;5;28;01mif\u001B[39;00m \u001B[38;5;28mself\u001B[39m\u001B[38;5;241m.\u001B[39m_jit_compile \u001B[38;5;28;01melse\u001B[39;00m \u001B[38;5;124m\"\u001B[39m\u001B[38;5;124mnonXla\u001B[39m\u001B[38;5;124m\"\u001B[39m\n\u001B[1;32m    831\u001B[0m \u001B[38;5;28;01mwith\u001B[39;00m OptionalXlaContext(\u001B[38;5;28mself\u001B[39m\u001B[38;5;241m.\u001B[39m_jit_compile):\n\u001B[0;32m--> 832\u001B[0m   result \u001B[38;5;241m=\u001B[39m \u001B[38;5;28mself\u001B[39m\u001B[38;5;241m.\u001B[39m_call(\u001B[38;5;241m*\u001B[39margs, \u001B[38;5;241m*\u001B[39m\u001B[38;5;241m*\u001B[39mkwds)\n\u001B[1;32m    834\u001B[0m new_tracing_count \u001B[38;5;241m=\u001B[39m \u001B[38;5;28mself\u001B[39m\u001B[38;5;241m.\u001B[39mexperimental_get_tracing_count()\n\u001B[1;32m    835\u001B[0m without_tracing \u001B[38;5;241m=\u001B[39m (tracing_count \u001B[38;5;241m==\u001B[39m new_tracing_count)\n",
      "File \u001B[0;32m~/anaconda3/envs/DeepLearning/lib/python3.11/site-packages/tensorflow/python/eager/polymorphic_function/polymorphic_function.py:868\u001B[0m, in \u001B[0;36mFunction._call\u001B[0;34m(self, *args, **kwds)\u001B[0m\n\u001B[1;32m    865\u001B[0m   \u001B[38;5;28mself\u001B[39m\u001B[38;5;241m.\u001B[39m_lock\u001B[38;5;241m.\u001B[39mrelease()\n\u001B[1;32m    866\u001B[0m   \u001B[38;5;66;03m# In this case we have created variables on the first call, so we run the\u001B[39;00m\n\u001B[1;32m    867\u001B[0m   \u001B[38;5;66;03m# defunned version which is guaranteed to never create variables.\u001B[39;00m\n\u001B[0;32m--> 868\u001B[0m   \u001B[38;5;28;01mreturn\u001B[39;00m tracing_compilation\u001B[38;5;241m.\u001B[39mcall_function(\n\u001B[1;32m    869\u001B[0m       args, kwds, \u001B[38;5;28mself\u001B[39m\u001B[38;5;241m.\u001B[39m_no_variable_creation_config\n\u001B[1;32m    870\u001B[0m   )\n\u001B[1;32m    871\u001B[0m \u001B[38;5;28;01melif\u001B[39;00m \u001B[38;5;28mself\u001B[39m\u001B[38;5;241m.\u001B[39m_variable_creation_config \u001B[38;5;129;01mis\u001B[39;00m \u001B[38;5;129;01mnot\u001B[39;00m \u001B[38;5;28;01mNone\u001B[39;00m:\n\u001B[1;32m    872\u001B[0m   \u001B[38;5;66;03m# Release the lock early so that multiple threads can perform the call\u001B[39;00m\n\u001B[1;32m    873\u001B[0m   \u001B[38;5;66;03m# in parallel.\u001B[39;00m\n\u001B[1;32m    874\u001B[0m   \u001B[38;5;28mself\u001B[39m\u001B[38;5;241m.\u001B[39m_lock\u001B[38;5;241m.\u001B[39mrelease()\n",
      "File \u001B[0;32m~/anaconda3/envs/DeepLearning/lib/python3.11/site-packages/tensorflow/python/eager/polymorphic_function/tracing_compilation.py:139\u001B[0m, in \u001B[0;36mcall_function\u001B[0;34m(args, kwargs, tracing_options)\u001B[0m\n\u001B[1;32m    137\u001B[0m bound_args \u001B[38;5;241m=\u001B[39m function\u001B[38;5;241m.\u001B[39mfunction_type\u001B[38;5;241m.\u001B[39mbind(\u001B[38;5;241m*\u001B[39margs, \u001B[38;5;241m*\u001B[39m\u001B[38;5;241m*\u001B[39mkwargs)\n\u001B[1;32m    138\u001B[0m flat_inputs \u001B[38;5;241m=\u001B[39m function\u001B[38;5;241m.\u001B[39mfunction_type\u001B[38;5;241m.\u001B[39munpack_inputs(bound_args)\n\u001B[0;32m--> 139\u001B[0m \u001B[38;5;28;01mreturn\u001B[39;00m function\u001B[38;5;241m.\u001B[39m_call_flat(  \u001B[38;5;66;03m# pylint: disable=protected-access\u001B[39;00m\n\u001B[1;32m    140\u001B[0m     flat_inputs, captured_inputs\u001B[38;5;241m=\u001B[39mfunction\u001B[38;5;241m.\u001B[39mcaptured_inputs\n\u001B[1;32m    141\u001B[0m )\n",
      "File \u001B[0;32m~/anaconda3/envs/DeepLearning/lib/python3.11/site-packages/tensorflow/python/eager/polymorphic_function/concrete_function.py:1323\u001B[0m, in \u001B[0;36mConcreteFunction._call_flat\u001B[0;34m(self, tensor_inputs, captured_inputs)\u001B[0m\n\u001B[1;32m   1319\u001B[0m possible_gradient_type \u001B[38;5;241m=\u001B[39m gradients_util\u001B[38;5;241m.\u001B[39mPossibleTapeGradientTypes(args)\n\u001B[1;32m   1320\u001B[0m \u001B[38;5;28;01mif\u001B[39;00m (possible_gradient_type \u001B[38;5;241m==\u001B[39m gradients_util\u001B[38;5;241m.\u001B[39mPOSSIBLE_GRADIENT_TYPES_NONE\n\u001B[1;32m   1321\u001B[0m     \u001B[38;5;129;01mand\u001B[39;00m executing_eagerly):\n\u001B[1;32m   1322\u001B[0m   \u001B[38;5;66;03m# No tape is watching; skip to running the function.\u001B[39;00m\n\u001B[0;32m-> 1323\u001B[0m   \u001B[38;5;28;01mreturn\u001B[39;00m \u001B[38;5;28mself\u001B[39m\u001B[38;5;241m.\u001B[39m_inference_function\u001B[38;5;241m.\u001B[39mcall_preflattened(args)\n\u001B[1;32m   1324\u001B[0m forward_backward \u001B[38;5;241m=\u001B[39m \u001B[38;5;28mself\u001B[39m\u001B[38;5;241m.\u001B[39m_select_forward_and_backward_functions(\n\u001B[1;32m   1325\u001B[0m     args,\n\u001B[1;32m   1326\u001B[0m     possible_gradient_type,\n\u001B[1;32m   1327\u001B[0m     executing_eagerly)\n\u001B[1;32m   1328\u001B[0m forward_function, args_with_tangents \u001B[38;5;241m=\u001B[39m forward_backward\u001B[38;5;241m.\u001B[39mforward()\n",
      "File \u001B[0;32m~/anaconda3/envs/DeepLearning/lib/python3.11/site-packages/tensorflow/python/eager/polymorphic_function/atomic_function.py:216\u001B[0m, in \u001B[0;36mAtomicFunction.call_preflattened\u001B[0;34m(self, args)\u001B[0m\n\u001B[1;32m    214\u001B[0m \u001B[38;5;28;01mdef\u001B[39;00m \u001B[38;5;21mcall_preflattened\u001B[39m(\u001B[38;5;28mself\u001B[39m, args: Sequence[core\u001B[38;5;241m.\u001B[39mTensor]) \u001B[38;5;241m-\u001B[39m\u001B[38;5;241m>\u001B[39m Any:\n\u001B[1;32m    215\u001B[0m \u001B[38;5;250m  \u001B[39m\u001B[38;5;124;03m\"\"\"Calls with flattened tensor inputs and returns the structured output.\"\"\"\u001B[39;00m\n\u001B[0;32m--> 216\u001B[0m   flat_outputs \u001B[38;5;241m=\u001B[39m \u001B[38;5;28mself\u001B[39m\u001B[38;5;241m.\u001B[39mcall_flat(\u001B[38;5;241m*\u001B[39margs)\n\u001B[1;32m    217\u001B[0m   \u001B[38;5;28;01mreturn\u001B[39;00m \u001B[38;5;28mself\u001B[39m\u001B[38;5;241m.\u001B[39mfunction_type\u001B[38;5;241m.\u001B[39mpack_output(flat_outputs)\n",
      "File \u001B[0;32m~/anaconda3/envs/DeepLearning/lib/python3.11/site-packages/tensorflow/python/eager/polymorphic_function/atomic_function.py:251\u001B[0m, in \u001B[0;36mAtomicFunction.call_flat\u001B[0;34m(self, *args)\u001B[0m\n\u001B[1;32m    249\u001B[0m \u001B[38;5;28;01mwith\u001B[39;00m record\u001B[38;5;241m.\u001B[39mstop_recording():\n\u001B[1;32m    250\u001B[0m   \u001B[38;5;28;01mif\u001B[39;00m \u001B[38;5;28mself\u001B[39m\u001B[38;5;241m.\u001B[39m_bound_context\u001B[38;5;241m.\u001B[39mexecuting_eagerly():\n\u001B[0;32m--> 251\u001B[0m     outputs \u001B[38;5;241m=\u001B[39m \u001B[38;5;28mself\u001B[39m\u001B[38;5;241m.\u001B[39m_bound_context\u001B[38;5;241m.\u001B[39mcall_function(\n\u001B[1;32m    252\u001B[0m         \u001B[38;5;28mself\u001B[39m\u001B[38;5;241m.\u001B[39mname,\n\u001B[1;32m    253\u001B[0m         \u001B[38;5;28mlist\u001B[39m(args),\n\u001B[1;32m    254\u001B[0m         \u001B[38;5;28mlen\u001B[39m(\u001B[38;5;28mself\u001B[39m\u001B[38;5;241m.\u001B[39mfunction_type\u001B[38;5;241m.\u001B[39mflat_outputs),\n\u001B[1;32m    255\u001B[0m     )\n\u001B[1;32m    256\u001B[0m   \u001B[38;5;28;01melse\u001B[39;00m:\n\u001B[1;32m    257\u001B[0m     outputs \u001B[38;5;241m=\u001B[39m make_call_op_in_graph(\n\u001B[1;32m    258\u001B[0m         \u001B[38;5;28mself\u001B[39m,\n\u001B[1;32m    259\u001B[0m         \u001B[38;5;28mlist\u001B[39m(args),\n\u001B[1;32m    260\u001B[0m         \u001B[38;5;28mself\u001B[39m\u001B[38;5;241m.\u001B[39m_bound_context\u001B[38;5;241m.\u001B[39mfunction_call_options\u001B[38;5;241m.\u001B[39mas_attrs(),\n\u001B[1;32m    261\u001B[0m     )\n",
      "File \u001B[0;32m~/anaconda3/envs/DeepLearning/lib/python3.11/site-packages/tensorflow/python/eager/context.py:1486\u001B[0m, in \u001B[0;36mContext.call_function\u001B[0;34m(self, name, tensor_inputs, num_outputs)\u001B[0m\n\u001B[1;32m   1484\u001B[0m cancellation_context \u001B[38;5;241m=\u001B[39m cancellation\u001B[38;5;241m.\u001B[39mcontext()\n\u001B[1;32m   1485\u001B[0m \u001B[38;5;28;01mif\u001B[39;00m cancellation_context \u001B[38;5;129;01mis\u001B[39;00m \u001B[38;5;28;01mNone\u001B[39;00m:\n\u001B[0;32m-> 1486\u001B[0m   outputs \u001B[38;5;241m=\u001B[39m execute\u001B[38;5;241m.\u001B[39mexecute(\n\u001B[1;32m   1487\u001B[0m       name\u001B[38;5;241m.\u001B[39mdecode(\u001B[38;5;124m\"\u001B[39m\u001B[38;5;124mutf-8\u001B[39m\u001B[38;5;124m\"\u001B[39m),\n\u001B[1;32m   1488\u001B[0m       num_outputs\u001B[38;5;241m=\u001B[39mnum_outputs,\n\u001B[1;32m   1489\u001B[0m       inputs\u001B[38;5;241m=\u001B[39mtensor_inputs,\n\u001B[1;32m   1490\u001B[0m       attrs\u001B[38;5;241m=\u001B[39mattrs,\n\u001B[1;32m   1491\u001B[0m       ctx\u001B[38;5;241m=\u001B[39m\u001B[38;5;28mself\u001B[39m,\n\u001B[1;32m   1492\u001B[0m   )\n\u001B[1;32m   1493\u001B[0m \u001B[38;5;28;01melse\u001B[39;00m:\n\u001B[1;32m   1494\u001B[0m   outputs \u001B[38;5;241m=\u001B[39m execute\u001B[38;5;241m.\u001B[39mexecute_with_cancellation(\n\u001B[1;32m   1495\u001B[0m       name\u001B[38;5;241m.\u001B[39mdecode(\u001B[38;5;124m\"\u001B[39m\u001B[38;5;124mutf-8\u001B[39m\u001B[38;5;124m\"\u001B[39m),\n\u001B[1;32m   1496\u001B[0m       num_outputs\u001B[38;5;241m=\u001B[39mnum_outputs,\n\u001B[0;32m   (...)\u001B[0m\n\u001B[1;32m   1500\u001B[0m       cancellation_manager\u001B[38;5;241m=\u001B[39mcancellation_context,\n\u001B[1;32m   1501\u001B[0m   )\n",
      "File \u001B[0;32m~/anaconda3/envs/DeepLearning/lib/python3.11/site-packages/tensorflow/python/eager/execute.py:53\u001B[0m, in \u001B[0;36mquick_execute\u001B[0;34m(op_name, num_outputs, inputs, attrs, ctx, name)\u001B[0m\n\u001B[1;32m     51\u001B[0m \u001B[38;5;28;01mtry\u001B[39;00m:\n\u001B[1;32m     52\u001B[0m   ctx\u001B[38;5;241m.\u001B[39mensure_initialized()\n\u001B[0;32m---> 53\u001B[0m   tensors \u001B[38;5;241m=\u001B[39m pywrap_tfe\u001B[38;5;241m.\u001B[39mTFE_Py_Execute(ctx\u001B[38;5;241m.\u001B[39m_handle, device_name, op_name,\n\u001B[1;32m     54\u001B[0m                                       inputs, attrs, num_outputs)\n\u001B[1;32m     55\u001B[0m \u001B[38;5;28;01mexcept\u001B[39;00m core\u001B[38;5;241m.\u001B[39m_NotOkStatusException \u001B[38;5;28;01mas\u001B[39;00m e:\n\u001B[1;32m     56\u001B[0m   \u001B[38;5;28;01mif\u001B[39;00m name \u001B[38;5;129;01mis\u001B[39;00m \u001B[38;5;129;01mnot\u001B[39;00m \u001B[38;5;28;01mNone\u001B[39;00m:\n",
      "\u001B[0;31mKeyboardInterrupt\u001B[0m: "
     ]
    }
   ],
   "source": [
    "dcgan.fit(data,batch_size=128,callbacks=ImageGenerator(10,Z_DIM,\"callbacks\"),epochs=EPOCHS)"
   ],
   "metadata": {
    "collapsed": false,
    "ExecuteTime": {
     "end_time": "2024-03-13T17:03:05.042145Z",
     "start_time": "2024-03-13T17:03:00.193419Z"
    }
   },
   "id": "54c2e06f9460b79e",
   "execution_count": 283
  },
  {
   "cell_type": "markdown",
   "source": [
    "# Generate new Images"
   ],
   "metadata": {
    "collapsed": false
   },
   "id": "4a67476ed1009037"
  },
  {
   "cell_type": "code",
   "outputs": [],
   "source": [
    "nb_img = 10\n",
    "\n",
    "z = np.random.normal(size=(nb_img,Z_DIM,1))\n",
    "print(z.shape)\n",
    "\n",
    "predictions = dcgan.predict(z)"
   ],
   "metadata": {
    "collapsed": false,
    "ExecuteTime": {
     "end_time": "2024-03-13T17:03:05.043078Z",
     "start_time": "2024-03-13T17:03:05.043023Z"
    }
   },
   "id": "814b618e9c967fbd",
   "execution_count": null
  },
  {
   "cell_type": "code",
   "outputs": [],
   "source": [
    "predictions.shape"
   ],
   "metadata": {
    "collapsed": false
   },
   "id": "fcbace8a48e7aa5c",
   "execution_count": null
  },
  {
   "cell_type": "code",
   "outputs": [],
   "source": [
    "plt.imshow(predictions[6],cmap=\"gray\")"
   ],
   "metadata": {
    "collapsed": false
   },
   "id": "cc6eda2a8a282fec",
   "execution_count": null
  },
  {
   "cell_type": "code",
   "outputs": [],
   "source": [
    "dcgan.save(\"dcgan-qd-dragon.keras\")"
   ],
   "metadata": {
    "collapsed": false
   },
   "id": "4f039404d297aec4",
   "execution_count": null
  }
 ],
 "metadata": {
  "kernelspec": {
   "display_name": "Python 3",
   "language": "python",
   "name": "python3"
  },
  "language_info": {
   "codemirror_mode": {
    "name": "ipython",
    "version": 2
   },
   "file_extension": ".py",
   "mimetype": "text/x-python",
   "name": "python",
   "nbconvert_exporter": "python",
   "pygments_lexer": "ipython2",
   "version": "2.7.6"
  }
 },
 "nbformat": 4,
 "nbformat_minor": 5
}
