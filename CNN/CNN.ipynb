{
 "cells": [
  {
   "cell_type": "code",
   "execution_count": 183,
   "id": "initial_id",
   "metadata": {
    "collapsed": true,
    "ExecuteTime": {
     "end_time": "2024-03-01T21:34:08.243426Z",
     "start_time": "2024-03-01T21:34:08.233921Z"
    }
   },
   "outputs": [],
   "source": [
    "from tensorflow.keras import datasets,utils\n",
    "import numpy as np"
   ]
  },
  {
   "cell_type": "code",
   "outputs": [],
   "source": [
    "(x_train,y_train),(x_test,y_test) = datasets.cifar10.load_data()"
   ],
   "metadata": {
    "collapsed": false,
    "ExecuteTime": {
     "end_time": "2024-03-01T21:34:08.600616Z",
     "start_time": "2024-03-01T21:34:08.247117Z"
    }
   },
   "id": "93290c32851d1c10",
   "execution_count": 184
  },
  {
   "cell_type": "code",
   "outputs": [],
   "source": [
    "x_train = x_train.astype('float32')/255\n",
    "x_test = x_test.astype('float32')/255\n",
    "\n",
    "number_of_classes = 10\n",
    "y_train = utils.to_categorical(y_train,number_of_classes)\n",
    "y_test = utils.to_categorical(y_test,number_of_classes)"
   ],
   "metadata": {
    "collapsed": false,
    "ExecuteTime": {
     "end_time": "2024-03-01T21:34:09.034489Z",
     "start_time": "2024-03-01T21:34:08.654976Z"
    }
   },
   "id": "61a6198d1ef49d52",
   "execution_count": 185
  },
  {
   "cell_type": "code",
   "outputs": [
    {
     "name": "stdout",
     "output_type": "stream",
     "text": [
      "x_train:(50000, 32, 32, 3) y_train(50000, 10)\n",
      "x_test:(10000, 32, 32, 3) y_test(10000, 10)\n"
     ]
    }
   ],
   "source": [
    "print(f\"x_train:{x_train.shape} y_train{y_train.shape}\")\n",
    "print(f\"x_test:{x_test.shape} y_test{y_test.shape}\")"
   ],
   "metadata": {
    "collapsed": false,
    "ExecuteTime": {
     "end_time": "2024-03-01T21:34:09.042587Z",
     "start_time": "2024-03-01T21:34:09.035705Z"
    }
   },
   "id": "549ab34a99046e98",
   "execution_count": 186
  },
  {
   "cell_type": "code",
   "outputs": [],
   "source": [
    "from tensorflow.keras import models,layers"
   ],
   "metadata": {
    "collapsed": false,
    "ExecuteTime": {
     "end_time": "2024-03-01T21:34:09.046907Z",
     "start_time": "2024-03-01T21:34:09.044724Z"
    }
   },
   "id": "f3baa371e4afc444",
   "execution_count": 187
  },
  {
   "cell_type": "code",
   "outputs": [],
   "source": [
    "class ModelCNN(models.Model):\n",
    "    def __init__(self):\n",
    "        super(ModelCNN,self).__init__()\n",
    "        self.convolutional_layer1 = layers.Conv2D(10,kernel_size=(4,4),strides=2,padding=\"same\")\n",
    "        self.convolutional_layer2 = layers.Conv2D(20,kernel_size=(3,3),strides=2,padding=\"same\")\n",
    "        self.flatten_layer = layers.Flatten()\n",
    "        self.output_layer = layers.Dense(units=10,activation=\"softmax\")\n",
    "    def call(self, inputs, training=None, mask=None):\n",
    "        x = self.convolutional_layer1(inputs)\n",
    "        x = self.convolutional_layer2(x)\n",
    "        x = self.flatten_layer(x)\n",
    "        x = self.output_layer(x)\n",
    "        return x"
   ],
   "metadata": {
    "collapsed": false,
    "ExecuteTime": {
     "end_time": "2024-03-01T21:34:09.053885Z",
     "start_time": "2024-03-01T21:34:09.048760Z"
    }
   },
   "id": "2c94e89e83a89674",
   "execution_count": 188
  },
  {
   "cell_type": "code",
   "outputs": [
    {
     "name": "stdout",
     "output_type": "stream",
     "text": [
      "Model: \"model_cnn_17\"\n",
      "_________________________________________________________________\n",
      " Layer (type)                Output Shape              Param #   \n",
      "=================================================================\n",
      " conv2d_50 (Conv2D)          multiple                  490       \n",
      "                                                                 \n",
      " conv2d_51 (Conv2D)          multiple                  1820      \n",
      "                                                                 \n",
      " flatten_13 (Flatten)        multiple                  0         \n",
      "                                                                 \n",
      " dense_17 (Dense)            multiple                  12810     \n",
      "                                                                 \n",
      "=================================================================\n",
      "Total params: 15120 (59.06 KB)\n",
      "Trainable params: 15120 (59.06 KB)\n",
      "Non-trainable params: 0 (0.00 Byte)\n",
      "_________________________________________________________________\n"
     ]
    }
   ],
   "source": [
    "model = ModelCNN()\n",
    "model.build((None,32,32,3))\n",
    "model.summary()"
   ],
   "metadata": {
    "collapsed": false,
    "ExecuteTime": {
     "end_time": "2024-03-01T21:34:09.080157Z",
     "start_time": "2024-03-01T21:34:09.054816Z"
    }
   },
   "id": "f8672bd3a26c2b64",
   "execution_count": 189
  },
  {
   "cell_type": "code",
   "outputs": [
    {
     "name": "stdout",
     "output_type": "stream",
     "text": [
      "1563/1563 [==============================] - 1s 673us/step\n"
     ]
    }
   ],
   "source": [
    "out = model.predict(x_train)"
   ],
   "metadata": {
    "collapsed": false,
    "ExecuteTime": {
     "end_time": "2024-03-01T21:34:10.716268Z",
     "start_time": "2024-03-01T21:34:09.080934Z"
    }
   },
   "id": "b50ee94c3492d258",
   "execution_count": 190
  },
  {
   "cell_type": "code",
   "outputs": [
    {
     "name": "stdout",
     "output_type": "stream",
     "text": [
      "(50000, 10)\n"
     ]
    }
   ],
   "source": [
    "print(out.shape)"
   ],
   "metadata": {
    "collapsed": false,
    "ExecuteTime": {
     "end_time": "2024-03-01T21:34:10.719469Z",
     "start_time": "2024-03-01T21:34:10.717251Z"
    }
   },
   "id": "5502c33f4944b443",
   "execution_count": 191
  },
  {
   "cell_type": "code",
   "outputs": [],
   "source": [
    "input_layer = layers.Input((32,32,3))\n",
    "\n",
    "x = layers.Conv2D(32,kernel_size=3,strides=1,padding=\"same\")(input_layer)\n",
    "x = layers.BatchNormalization()(x)\n",
    "x = layers.LeakyReLU()(x)\n",
    "\n",
    "x = layers.Conv2D(32,kernel_size=3,strides=2,padding=\"same\")(x)\n",
    "x = layers.BatchNormalization()(x)\n",
    "x = layers.LeakyReLU()(x)\n",
    "\n",
    "x = layers.Conv2D(64,kernel_size=3,strides=1,padding=\"same\")(x)\n",
    "x = layers.BatchNormalization()(x)\n",
    "x = layers.LeakyReLU()(x)\n",
    "\n",
    "x = layers.Conv2D(64,kernel_size=3,strides=2,padding=\"same\")(x)\n",
    "x = layers.BatchNormalization()(x)\n",
    "x = layers.LeakyReLU()(x)\n",
    "\n",
    "x = layers.Flatten()(x)\n",
    "\n",
    "x = layers.Dense(128)(x)\n",
    "x = layers.BatchNormalization()(x)\n",
    "x = layers.LeakyReLU()(x)\n",
    "x = layers.Dropout(rate=0.5)(x)\n",
    "\n",
    "output_layer = layers.Dense(10,activation=\"softmax\")(x)\n",
    "\n",
    "cnn_model = models.Model(input_layer,output_layer)"
   ],
   "metadata": {
    "collapsed": false,
    "ExecuteTime": {
     "end_time": "2024-03-01T21:34:10.790235Z",
     "start_time": "2024-03-01T21:34:10.720123Z"
    }
   },
   "id": "c229bec7bc0ba800",
   "execution_count": 192
  },
  {
   "cell_type": "code",
   "outputs": [
    {
     "name": "stdout",
     "output_type": "stream",
     "text": [
      "Model: \"model_6\"\n",
      "_________________________________________________________________\n",
      " Layer (type)                Output Shape              Param #   \n",
      "=================================================================\n",
      " input_7 (InputLayer)        [(None, 32, 32, 3)]       0         \n",
      "                                                                 \n",
      " conv2d_52 (Conv2D)          (None, 32, 32, 32)        896       \n",
      "                                                                 \n",
      " batch_normalization_30 (Ba  (None, 32, 32, 32)        128       \n",
      " tchNormalization)                                               \n",
      "                                                                 \n",
      " leaky_re_lu_30 (LeakyReLU)  (None, 32, 32, 32)        0         \n",
      "                                                                 \n",
      " conv2d_53 (Conv2D)          (None, 16, 16, 32)        9248      \n",
      "                                                                 \n",
      " batch_normalization_31 (Ba  (None, 16, 16, 32)        128       \n",
      " tchNormalization)                                               \n",
      "                                                                 \n",
      " leaky_re_lu_31 (LeakyReLU)  (None, 16, 16, 32)        0         \n",
      "                                                                 \n",
      " conv2d_54 (Conv2D)          (None, 16, 16, 64)        18496     \n",
      "                                                                 \n",
      " batch_normalization_32 (Ba  (None, 16, 16, 64)        256       \n",
      " tchNormalization)                                               \n",
      "                                                                 \n",
      " leaky_re_lu_32 (LeakyReLU)  (None, 16, 16, 64)        0         \n",
      "                                                                 \n",
      " conv2d_55 (Conv2D)          (None, 8, 8, 64)          36928     \n",
      "                                                                 \n",
      " batch_normalization_33 (Ba  (None, 8, 8, 64)          256       \n",
      " tchNormalization)                                               \n",
      "                                                                 \n",
      " leaky_re_lu_33 (LeakyReLU)  (None, 8, 8, 64)          0         \n",
      "                                                                 \n",
      " flatten_14 (Flatten)        (None, 4096)              0         \n",
      "                                                                 \n",
      " dense_18 (Dense)            (None, 128)               524416    \n",
      "                                                                 \n",
      " batch_normalization_34 (Ba  (None, 128)               512       \n",
      " tchNormalization)                                               \n",
      "                                                                 \n",
      " leaky_re_lu_34 (LeakyReLU)  (None, 128)               0         \n",
      "                                                                 \n",
      " dropout_6 (Dropout)         (None, 128)               0         \n",
      "                                                                 \n",
      " dense_19 (Dense)            (None, 10)                1290      \n",
      "                                                                 \n",
      "=================================================================\n",
      "Total params: 592554 (2.26 MB)\n",
      "Trainable params: 591914 (2.26 MB)\n",
      "Non-trainable params: 640 (2.50 KB)\n",
      "_________________________________________________________________\n"
     ]
    }
   ],
   "source": [
    "cnn_model.summary()"
   ],
   "metadata": {
    "collapsed": false,
    "ExecuteTime": {
     "end_time": "2024-03-01T21:34:10.800691Z",
     "start_time": "2024-03-01T21:34:10.790788Z"
    }
   },
   "id": "937e420f07e85064",
   "execution_count": 193
  },
  {
   "cell_type": "code",
   "outputs": [],
   "source": [
    "from tensorflow.keras import optimizers"
   ],
   "metadata": {
    "collapsed": false
   },
   "id": "13c73facb5209f12",
   "execution_count": 194
  },
  {
   "cell_type": "code",
   "outputs": [],
   "source": [
    "opt = optimizers.legacy.Adam(learning_rate=0.0005)\n",
    "cnn_model.compile(loss=\"categorical_crossentropy\", optimizer=opt, metrics=[\"accuracy\"])"
   ],
   "metadata": {
    "collapsed": false
   },
   "id": "d03d9954e11fb8f6",
   "execution_count": 195
  },
  {
   "cell_type": "code",
   "outputs": [
    {
     "name": "stdout",
     "output_type": "stream",
     "text": [
      "Epoch 1/10\n",
      "1563/1563 [==============================] - 29s 18ms/step - loss: 1.5346 - accuracy: 0.4629\n",
      "Epoch 2/10\n",
      "1563/1563 [==============================] - 29s 18ms/step - loss: 1.1264 - accuracy: 0.6022\n",
      "Epoch 3/10\n",
      "1563/1563 [==============================] - 32s 21ms/step - loss: 0.9926 - accuracy: 0.6528\n",
      "Epoch 4/10\n",
      "1563/1563 [==============================] - 30s 19ms/step - loss: 0.9123 - accuracy: 0.6829\n",
      "Epoch 5/10\n",
      "1563/1563 [==============================] - 32s 21ms/step - loss: 0.8472 - accuracy: 0.7052\n",
      "Epoch 6/10\n",
      "1563/1563 [==============================] - 30s 19ms/step - loss: 0.7957 - accuracy: 0.7225\n",
      "Epoch 7/10\n",
      "1563/1563 [==============================] - 29s 19ms/step - loss: 0.7589 - accuracy: 0.7351\n",
      "Epoch 8/10\n",
      "1563/1563 [==============================] - 31s 20ms/step - loss: 0.7149 - accuracy: 0.7498\n",
      "Epoch 9/10\n",
      "1563/1563 [==============================] - 35s 23ms/step - loss: 0.6827 - accuracy: 0.7607\n",
      "Epoch 10/10\n",
      "1563/1563 [==============================] - 36s 23ms/step - loss: 0.6536 - accuracy: 0.7711\n"
     ]
    }
   ],
   "source": [
    "hist = cnn_model.fit(x_train,y_train,epochs=10)"
   ],
   "metadata": {
    "collapsed": false,
    "ExecuteTime": {
     "end_time": "2024-03-01T21:39:23.846326Z",
     "start_time": "2024-03-01T21:34:10.810483Z"
    }
   },
   "id": "e628936fad008639",
   "execution_count": 196
  },
  {
   "cell_type": "code",
   "outputs": [
    {
     "name": "stdout",
     "output_type": "stream",
     "text": [
      "313/313 [==============================] - 2s 7ms/step - loss: 0.8988 - accuracy: 0.6967\n"
     ]
    },
    {
     "data": {
      "text/plain": "[0.8987581133842468, 0.6966999769210815]"
     },
     "execution_count": 197,
     "metadata": {},
     "output_type": "execute_result"
    }
   ],
   "source": [
    "cnn_model.evaluate(x_test,y_test)"
   ],
   "metadata": {
    "collapsed": false,
    "ExecuteTime": {
     "end_time": "2024-03-01T21:39:26.198907Z",
     "start_time": "2024-03-01T21:39:23.848030Z"
    }
   },
   "id": "4f9aa20ec4e21e74",
   "execution_count": 197
  }
 ],
 "metadata": {
  "kernelspec": {
   "display_name": "Python 3",
   "language": "python",
   "name": "python3"
  },
  "language_info": {
   "codemirror_mode": {
    "name": "ipython",
    "version": 2
   },
   "file_extension": ".py",
   "mimetype": "text/x-python",
   "name": "python",
   "nbconvert_exporter": "python",
   "pygments_lexer": "ipython2",
   "version": "2.7.6"
  }
 },
 "nbformat": 4,
 "nbformat_minor": 5
}
